{
 "cells": [
  {
   "cell_type": "markdown",
   "id": "78b50f81",
   "metadata": {
    "papermill": {
     "duration": 0.03636,
     "end_time": "2021-09-01T21:02:13.105786",
     "exception": false,
     "start_time": "2021-09-01T21:02:13.069426",
     "status": "completed"
    },
    "tags": []
   },
   "source": [
    "# Chapter 4 Code\n",
    "\n",
    "Covers code for Chapter 4, \"Model Compression for Practical Deployment\", of *Modern Deep Learning Design and Application*."
   ]
  },
  {
   "cell_type": "markdown",
   "id": "6722bd5b",
   "metadata": {
    "papermill": {
     "duration": 0.039112,
     "end_time": "2021-09-01T21:02:13.184321",
     "exception": false,
     "start_time": "2021-09-01T21:02:13.145209",
     "status": "completed"
    },
    "tags": []
   },
   "source": [
    "---"
   ]
  },
  {
   "cell_type": "markdown",
   "id": "4558921c",
   "metadata": {
    "papermill": {
     "duration": 0.038731,
     "end_time": "2021-09-01T21:02:13.273992",
     "exception": false,
     "start_time": "2021-09-01T21:02:13.235261",
     "status": "completed"
    },
    "tags": []
   },
   "source": [
    "## Installing + Importing Libraries"
   ]
  },
  {
   "cell_type": "code",
   "execution_count": 1,
   "id": "73eb6128",
   "metadata": {
    "_cell_guid": "b1076dfc-b9ad-4769-8c92-a6c4dae69d19",
    "_uuid": "8f2839f25d086af736a60e9eeb907d3b93b6e0e5",
    "execution": {
     "iopub.execute_input": "2021-09-01T21:02:13.363215Z",
     "iopub.status.busy": "2021-09-01T21:02:13.362592Z",
     "iopub.status.idle": "2021-09-01T21:02:29.925131Z",
     "shell.execute_reply": "2021-09-01T21:02:29.923821Z",
     "shell.execute_reply.started": "2021-08-31T23:05:28.773125Z"
    },
    "papermill": {
     "duration": 16.612952,
     "end_time": "2021-09-01T21:02:29.925327",
     "exception": false,
     "start_time": "2021-09-01T21:02:13.312375",
     "status": "completed"
    },
    "tags": []
   },
   "outputs": [
    {
     "name": "stdout",
     "output_type": "stream",
     "text": [
      "Collecting tensorflow-model-optimization\r\n",
      "  Downloading tensorflow_model_optimization-0.6.0-py2.py3-none-any.whl (211 kB)\r\n",
      "\u001b[K     |████████████████████████████████| 211 kB 517 kB/s \r\n",
      "\u001b[?25hRequirement already satisfied: six~=1.10 in /opt/conda/lib/python3.7/site-packages (from tensorflow-model-optimization) (1.15.0)\r\n",
      "Requirement already satisfied: numpy~=1.14 in /opt/conda/lib/python3.7/site-packages (from tensorflow-model-optimization) (1.19.5)\r\n",
      "Requirement already satisfied: dm-tree~=0.1.1 in /opt/conda/lib/python3.7/site-packages (from tensorflow-model-optimization) (0.1.6)\r\n",
      "Installing collected packages: tensorflow-model-optimization\r\n",
      "Successfully installed tensorflow-model-optimization-0.6.0\r\n",
      "\u001b[33mWARNING: Running pip as root will break packages and permissions. You should install packages reliably by using venv: https://pip.pypa.io/warnings/venv\u001b[0m\r\n"
     ]
    }
   ],
   "source": [
    "# install and import tensorflow model optimization\n",
    "!pip install tensorflow-model-optimization\n",
    "import tensorflow_model_optimization\n",
    "import tensorflow_model_optimization as tfmot\n",
    "\n",
    "# array processing + math\n",
    "import numpy as np\n",
    "import pandas as pd\n",
    "import scipy\n",
    "import math\n",
    "import sklearn\n",
    "\n",
    "# plotting & visuals\n",
    "import matplotlib.pyplot as plt\n",
    "import seaborn as sns\n",
    "import cv2\n",
    "\n",
    "# looping - very helpful for data manpulation scripts\n",
    "from tqdm.notebook import tqdm\n",
    "\n",
    "# file and storage managing libraries\n",
    "import zipfile as zf\n",
    "import tempfile\n",
    "import os\n",
    "import time\n",
    "\n",
    "# deep learning staple libraries\n",
    "# !pip install tensorflow # install if necessary\n",
    "import sklearn\n",
    "import tensorflow as tf\n",
    "from tensorflow import keras\n",
    "\n",
    "# keras specifics\n",
    "import keras.layers as L\n",
    "import keras.backend as K\n",
    "from keras.utils import plot_model"
   ]
  },
  {
   "cell_type": "markdown",
   "id": "fe1d9130",
   "metadata": {
    "papermill": {
     "duration": 0.035771,
     "end_time": "2021-09-01T21:02:29.997879",
     "exception": false,
     "start_time": "2021-09-01T21:02:29.962108",
     "status": "completed"
    },
    "tags": []
   },
   "source": [
    "---"
   ]
  },
  {
   "cell_type": "markdown",
   "id": "8c3e8a0a",
   "metadata": {
    "papermill": {
     "duration": 0.037164,
     "end_time": "2021-09-01T21:02:30.072893",
     "exception": false,
     "start_time": "2021-09-01T21:02:30.035729",
     "status": "completed"
    },
    "tags": []
   },
   "source": [
    "## Loading Data"
   ]
  },
  {
   "cell_type": "code",
   "execution_count": 2,
   "id": "5d794d3e",
   "metadata": {
    "execution": {
     "iopub.execute_input": "2021-09-01T21:02:30.154063Z",
     "iopub.status.busy": "2021-09-01T21:02:30.153354Z",
     "iopub.status.idle": "2021-09-01T21:02:31.210760Z",
     "shell.execute_reply": "2021-09-01T21:02:31.210072Z",
     "shell.execute_reply.started": "2021-08-31T23:05:46.500101Z"
    },
    "papermill": {
     "duration": 1.099697,
     "end_time": "2021-09-01T21:02:31.210902",
     "exception": false,
     "start_time": "2021-09-01T21:02:30.111205",
     "status": "completed"
    },
    "tags": []
   },
   "outputs": [
    {
     "name": "stdout",
     "output_type": "stream",
     "text": [
      "Downloading data from https://storage.googleapis.com/tensorflow/tf-keras-datasets/mnist.npz\n",
      "11493376/11490434 [==============================] - 0s 0us/step\n"
     ]
    }
   ],
   "source": [
    "# Load MNIST dataset\n",
    "mnist = keras.datasets.mnist\n",
    "(x_train, y_train), (x_test, y_test) = mnist.load_data()\n",
    "x_train = x_train.reshape((len(x_train), 28*28))\n",
    "y_train = keras.utils.to_categorical(y_train)\n",
    "x_test = x_test.reshape((len(x_test), 28*28))\n",
    "y_test = keras.utils.to_categorical(y_test)"
   ]
  },
  {
   "cell_type": "markdown",
   "id": "461a55a9",
   "metadata": {
    "papermill": {
     "duration": 0.037308,
     "end_time": "2021-09-01T21:02:31.285996",
     "exception": false,
     "start_time": "2021-09-01T21:02:31.248688",
     "status": "completed"
    },
    "tags": []
   },
   "source": [
    "---"
   ]
  },
  {
   "cell_type": "markdown",
   "id": "e420120f",
   "metadata": {
    "papermill": {
     "duration": 0.036774,
     "end_time": "2021-09-01T21:02:31.360417",
     "exception": false,
     "start_time": "2021-09-01T21:02:31.323643",
     "status": "completed"
    },
    "tags": []
   },
   "source": [
    "## Benchmark Model"
   ]
  },
  {
   "cell_type": "code",
   "execution_count": 3,
   "id": "f44064b7",
   "metadata": {
    "execution": {
     "iopub.execute_input": "2021-09-01T21:02:31.443086Z",
     "iopub.status.busy": "2021-09-01T21:02:31.442181Z",
     "iopub.status.idle": "2021-09-01T21:02:40.387398Z",
     "shell.execute_reply": "2021-09-01T21:02:40.386745Z",
     "shell.execute_reply.started": "2021-08-31T23:05:47.290005Z"
    },
    "papermill": {
     "duration": 8.989857,
     "end_time": "2021-09-01T21:02:40.387566",
     "exception": false,
     "start_time": "2021-09-01T21:02:31.397709",
     "status": "completed"
    },
    "tags": []
   },
   "outputs": [
    {
     "name": "stdout",
     "output_type": "stream",
     "text": [
      "1875/1875 [==============================] - 8s 4ms/step - loss: 0.8623 - accuracy: 0.8089\n"
     ]
    },
    {
     "data": {
      "text/plain": [
       "<tensorflow.python.keras.callbacks.History at 0x7f33243d8610>"
      ]
     },
     "execution_count": 3,
     "metadata": {},
     "output_type": "execute_result"
    }
   ],
   "source": [
    "# import layers\n",
    "import keras.layers as L\n",
    "\n",
    "# construct Sequential model\n",
    "model = keras.Sequential()\n",
    "\n",
    "# construct Input\n",
    "model.add(L.Input((784,)))\n",
    "\n",
    "# construct processing layers\n",
    "for i in list(range(5,10))[::-1]:\n",
    "    model.add(L.Dense(2**i, activation='relu'))\n",
    "model.add(L.Dense(2**i, activation='relu'))\n",
    "\n",
    "# construct output layer\n",
    "model.add(L.Dense(10, activation='softmax'))\n",
    "\n",
    "# compile and fit\n",
    "model.compile(optimizer='adam',\n",
    "              loss='categorical_crossentropy',\n",
    "              metrics=['accuracy'])\n",
    "model.fit(x_train, y_train, epochs=1) # train for more epochs for better performance"
   ]
  },
  {
   "cell_type": "markdown",
   "id": "256117f9",
   "metadata": {
    "papermill": {
     "duration": 0.084231,
     "end_time": "2021-09-01T21:02:40.555874",
     "exception": false,
     "start_time": "2021-09-01T21:02:40.471643",
     "status": "completed"
    },
    "tags": []
   },
   "source": [
    "---"
   ]
  },
  {
   "cell_type": "markdown",
   "id": "6b0a3683",
   "metadata": {
    "papermill": {
     "duration": 0.083147,
     "end_time": "2021-09-01T21:02:40.722630",
     "exception": false,
     "start_time": "2021-09-01T21:02:40.639483",
     "status": "completed"
    },
    "tags": []
   },
   "source": [
    "## Defining Model Metrics"
   ]
  },
  {
   "cell_type": "markdown",
   "id": "a4d72004",
   "metadata": {
    "papermill": {
     "duration": 0.083051,
     "end_time": "2021-09-01T21:02:40.889261",
     "exception": false,
     "start_time": "2021-09-01T21:02:40.806210",
     "status": "completed"
    },
    "tags": []
   },
   "source": [
    "Define storage size of a model using temporary files and zipping."
   ]
  },
  {
   "cell_type": "code",
   "execution_count": 4,
   "id": "2e361357",
   "metadata": {
    "execution": {
     "iopub.execute_input": "2021-09-01T21:02:41.065370Z",
     "iopub.status.busy": "2021-09-01T21:02:41.064364Z",
     "iopub.status.idle": "2021-09-01T21:02:41.067095Z",
     "shell.execute_reply": "2021-09-01T21:02:41.067565Z",
     "shell.execute_reply.started": "2021-08-31T23:05:56.463143Z"
    },
    "papermill": {
     "duration": 0.09337,
     "end_time": "2021-09-01T21:02:41.067740",
     "exception": false,
     "start_time": "2021-09-01T21:02:40.974370",
     "status": "completed"
    },
    "tags": []
   },
   "outputs": [],
   "source": [
    "def get_size(model):\n",
    "    \n",
    "    # create file for weights\n",
    "    _, weightsfile = tempfile.mkstemp(\".h5\")\n",
    "    \n",
    "    # save weights to file\n",
    "    model.save_weights(weightsfile)\n",
    "    \n",
    "    # create file for zipped weights file\n",
    "    _, zippedfile = tempfile.mkstemp(\".zip\")\n",
    "    \n",
    "    # zip weights file\n",
    "    with zf.ZipFile(zippedfile, \"w\", \n",
    "                    compression=zf.ZIP_DEFLATED) as f:\n",
    "        f.write(weightsfile)\n",
    "        \n",
    "    # return size of model, in megabytes\n",
    "    return str(os.path.getsize(zippedfile)/float(2**20))+' MB'"
   ]
  },
  {
   "cell_type": "markdown",
   "id": "7e83750d",
   "metadata": {
    "papermill": {
     "duration": 0.084595,
     "end_time": "2021-09-01T21:02:41.237710",
     "exception": false,
     "start_time": "2021-09-01T21:02:41.153115",
     "status": "completed"
    },
    "tags": []
   },
   "source": [
    "Define latency of a model by timing prediction time on the dataset."
   ]
  },
  {
   "cell_type": "code",
   "execution_count": 5,
   "id": "78444f1d",
   "metadata": {
    "execution": {
     "iopub.execute_input": "2021-09-01T21:02:41.412486Z",
     "iopub.status.busy": "2021-09-01T21:02:41.411527Z",
     "iopub.status.idle": "2021-09-01T21:02:41.414369Z",
     "shell.execute_reply": "2021-09-01T21:02:41.414880Z",
     "shell.execute_reply.started": "2021-08-31T23:05:56.471682Z"
    },
    "papermill": {
     "duration": 0.091869,
     "end_time": "2021-09-01T21:02:41.415078",
     "exception": false,
     "start_time": "2021-09-01T21:02:41.323209",
     "status": "completed"
    },
    "tags": []
   },
   "outputs": [],
   "source": [
    "def get_latency(model):\n",
    "    \n",
    "    # begin timer\n",
    "    start = time.time()\n",
    "    \n",
    "    # make prediction\n",
    "    res = model.predict(x_test)\n",
    "    \n",
    "    # end timer\n",
    "    end = time.time()\n",
    "    \n",
    "    # return mean time to predict on a sample\n",
    "    return (end-start)/(len(x_test))"
   ]
  },
  {
   "cell_type": "markdown",
   "id": "2395b3cf",
   "metadata": {
    "papermill": {
     "duration": 0.083746,
     "end_time": "2021-09-01T21:02:41.583825",
     "exception": false,
     "start_time": "2021-09-01T21:02:41.500079",
     "status": "completed"
    },
    "tags": []
   },
   "source": [
    "Parameter metrics."
   ]
  },
  {
   "cell_type": "code",
   "execution_count": 6,
   "id": "cec7c0c2",
   "metadata": {
    "execution": {
     "iopub.execute_input": "2021-09-01T21:02:41.762255Z",
     "iopub.status.busy": "2021-09-01T21:02:41.761571Z",
     "iopub.status.idle": "2021-09-01T21:02:41.765696Z",
     "shell.execute_reply": "2021-09-01T21:02:41.764991Z",
     "shell.execute_reply.started": "2021-08-31T23:05:56.487431Z"
    },
    "papermill": {
     "duration": 0.097794,
     "end_time": "2021-09-01T21:02:41.765841",
     "exception": false,
     "start_time": "2021-09-01T21:02:41.668047",
     "status": "completed"
    },
    "tags": []
   },
   "outputs": [],
   "source": [
    "# import count nonzero function\n",
    "from numpy import count_nonzero as nz\n",
    "\n",
    "def get_param_metrics(orig_model, pruned_model):\n",
    "    \n",
    "    # count orig model weights\n",
    "    orig_model_weights = orig_model.get_weights()\n",
    "    om_params = sum([np.nz(l) for l in orig_model_weights])\n",
    "    \n",
    "    # count pruned model weights\n",
    "    p_model_weights = pruned_model.get_weights()\n",
    "    p_params = sum([np.nz(l).size for l in p_model_weights])\n",
    "\n",
    "    # return information organized in dictionary\n",
    "    return {'Original Model Parameter Count:': om_params,\n",
    "            'Pruned Model Parameter Count': p_params,\n",
    "            'Pruned to Original Weights Ratio': p_params/om_params,\n",
    "            'Compression Ratio': 1 - p_params/om_params}"
   ]
  },
  {
   "cell_type": "markdown",
   "id": "f81cfae5",
   "metadata": {
    "papermill": {
     "duration": 0.083933,
     "end_time": "2021-09-01T21:02:41.939804",
     "exception": false,
     "start_time": "2021-09-01T21:02:41.855871",
     "status": "completed"
    },
    "tags": []
   },
   "source": [
    "---"
   ]
  },
  {
   "cell_type": "markdown",
   "id": "e3485816",
   "metadata": {
    "papermill": {
     "duration": 0.085788,
     "end_time": "2021-09-01T21:02:42.110121",
     "exception": false,
     "start_time": "2021-09-01T21:02:42.024333",
     "status": "completed"
    },
    "tags": []
   },
   "source": [
    "## Pruning"
   ]
  },
  {
   "cell_type": "markdown",
   "id": "a2018132",
   "metadata": {
    "papermill": {
     "duration": 0.083869,
     "end_time": "2021-09-01T21:02:42.279817",
     "exception": false,
     "start_time": "2021-09-01T21:02:42.195948",
     "status": "completed"
    },
    "tags": []
   },
   "source": [
    "### Pruning an Entire Model"
   ]
  },
  {
   "cell_type": "code",
   "execution_count": 7,
   "id": "246b0e40",
   "metadata": {
    "execution": {
     "iopub.execute_input": "2021-09-01T21:02:42.463131Z",
     "iopub.status.busy": "2021-09-01T21:02:42.462360Z",
     "iopub.status.idle": "2021-09-01T21:03:06.982000Z",
     "shell.execute_reply": "2021-09-01T21:03:06.983027Z",
     "shell.execute_reply.started": "2021-08-31T23:05:56.497895Z"
    },
    "papermill": {
     "duration": 24.617492,
     "end_time": "2021-09-01T21:03:06.983211",
     "exception": false,
     "start_time": "2021-09-01T21:02:42.365719",
     "status": "completed"
    },
    "tags": []
   },
   "outputs": [
    {
     "name": "stderr",
     "output_type": "stream",
     "text": [
      "/opt/conda/lib/python3.7/site-packages/tensorflow/python/keras/engine/base_layer.py:2281: UserWarning: `layer.add_variable` is deprecated and will be removed in a future version. Please use `layer.add_weight` method instead.\n",
      "  warnings.warn('`layer.add_variable` is deprecated and '\n"
     ]
    },
    {
     "name": "stdout",
     "output_type": "stream",
     "text": [
      "1875/1875 [==============================] - 14s 5ms/step - loss: 0.3414 - accuracy: 0.9083\n",
      "1875/1875 [==============================] - 8s 4ms/step - loss: 0.2084 - accuracy: 0.9425\n"
     ]
    }
   ],
   "source": [
    "# crete pruning schedule\n",
    "from tensorflow_model_optimization.sparsity.keras import PolynomialDecay as PD\n",
    "end_step = np.ceil(len(x_train)/32) * 1\n",
    "schedule = PD(initial_sparsity=0.50,\n",
    "              final_sparsity=0.95,\n",
    "              begin_step=0,\n",
    "              end_step=end_step,\n",
    "              frequency=128)\n",
    "\n",
    "# define pruning parameters\n",
    "pruning_params = {\n",
    "    'pruning_schedule': schedule\n",
    "}\n",
    "\n",
    "# create pruning model\n",
    "from tensorflow_model_optimization.sparsity.keras import prune_low_magnitude\n",
    "pruned_model = prune_low_magnitude(model, **pruning_params)\n",
    "\n",
    "# compile pruned model\n",
    "pruned_model.compile(loss='categorical_crossentropy',\n",
    "                     optimizer='adam',\n",
    "                     metrics=['accuracy'])\n",
    "\n",
    "# fit model with update callback\n",
    "update_pruning = tfmot.sparsity.keras.UpdatePruningStep()\n",
    "pruned_model.fit(x_train, y_train,\n",
    "                 epochs=1, # train for more epochs for better performance\n",
    "                 callbacks=[update_pruning])\n",
    "\n",
    "# strip pruning after training\n",
    "from tensorflow_model_optimization.sparsity.keras import strip_pruning\n",
    "pruned_model = strip_pruning(pruned_model)\n",
    "\n",
    "# fine-tune after pruning\n",
    "pruned_model.compile(optimizer='adam',\n",
    "                     loss='categorical_crossentropy',\n",
    "                     metrics=['accuracy'])\n",
    "pruned_model.fit(x_train, y_train, epochs=1)\n",
    "\n",
    "# save and reload model (optional)\n",
    "filepath = 'pruned-model'\n",
    "pruned_model.save(filepath) # to save\n",
    "with tfmot.sparsity.keras.prune_scope(): # to reload\n",
    "    pruned_model = keras.models.load_model(filepath)"
   ]
  },
  {
   "cell_type": "markdown",
   "id": "0b7e8ce1",
   "metadata": {
    "papermill": {
     "duration": 0.18383,
     "end_time": "2021-09-01T21:03:07.355381",
     "exception": false,
     "start_time": "2021-09-01T21:03:07.171551",
     "status": "completed"
    },
    "tags": []
   },
   "source": [
    "### Pruning Individual Layers"
   ]
  },
  {
   "cell_type": "markdown",
   "id": "683b6a06",
   "metadata": {
    "papermill": {
     "duration": 0.184036,
     "end_time": "2021-09-01T21:03:07.725509",
     "exception": false,
     "start_time": "2021-09-01T21:03:07.541473",
     "status": "completed"
    },
    "tags": []
   },
   "source": [
    "Method 1 - simpler and more intuitive, but cannot perform pretraining."
   ]
  },
  {
   "cell_type": "code",
   "execution_count": 8,
   "id": "5745cccf",
   "metadata": {
    "execution": {
     "iopub.execute_input": "2021-09-01T21:03:08.108795Z",
     "iopub.status.busy": "2021-09-01T21:03:08.108100Z",
     "iopub.status.idle": "2021-09-01T21:03:17.711645Z",
     "shell.execute_reply": "2021-09-01T21:03:17.709248Z",
     "shell.execute_reply.started": "2021-08-31T23:06:22.141325Z"
    },
    "papermill": {
     "duration": 9.799977,
     "end_time": "2021-09-01T21:03:17.711816",
     "exception": false,
     "start_time": "2021-09-01T21:03:07.911839",
     "status": "completed"
    },
    "tags": []
   },
   "outputs": [
    {
     "name": "stderr",
     "output_type": "stream",
     "text": [
      "/opt/conda/lib/python3.7/site-packages/tensorflow/python/keras/engine/base_layer.py:2281: UserWarning: `layer.add_variable` is deprecated and will be removed in a future version. Please use `layer.add_weight` method instead.\n",
      "  warnings.warn('`layer.add_variable` is deprecated and '\n"
     ]
    },
    {
     "name": "stdout",
     "output_type": "stream",
     "text": [
      "1875/1875 [==============================] - 9s 4ms/step - loss: 28.4330 - accuracy: 0.7967\n"
     ]
    },
    {
     "data": {
      "text/plain": [
       "<tensorflow.python.keras.callbacks.History at 0x7f32faa05550>"
      ]
     },
     "execution_count": 8,
     "metadata": {},
     "output_type": "execute_result"
    }
   ],
   "source": [
    "# import pruning marker\n",
    "from tensorflow_model_optimization.sparsity.keras import prune_low_magnitude as plm\n",
    "\n",
    "# create model using pruning marker\n",
    "pruned_model = keras.Sequential()\n",
    "pruned_model.add(L.Input((784,)))\n",
    "pruned_model.add(L.Dense(2**9))\n",
    "pruned_model.add(plm(L.Dense(2**8), **pruning_params))\n",
    "pruned_model.add(plm(L.Dense(2**7), **pruning_params))\n",
    "pruned_model.add(plm(L.Dense(2**6), **pruning_params))\n",
    "pruned_model.add(plm(L.Dense(2**5)))\n",
    "pruned_model.add(L.Dense(10, activation='softmax'))\n",
    "\n",
    "# compile pruned model\n",
    "pruned_model.compile(loss='categorical_crossentropy',\n",
    "                     optimizer='adam',\n",
    "                     metrics=['accuracy'])\n",
    "\n",
    "# fit model with update callback\n",
    "update_pruning = tfmot.sparsity.keras.UpdatePruningStep()\n",
    "pruned_model.fit(x_train, y_train,\n",
    "                 epochs=1, # train for more epochs for better performance\n",
    "                 callbacks=[update_pruning])"
   ]
  },
  {
   "cell_type": "markdown",
   "id": "74c4f89e",
   "metadata": {
    "papermill": {
     "duration": 0.248863,
     "end_time": "2021-09-01T21:03:18.227840",
     "exception": false,
     "start_time": "2021-09-01T21:03:17.978977",
     "status": "completed"
    },
    "tags": []
   },
   "source": [
    "Method 2 - cloning, allows for pretraining."
   ]
  },
  {
   "cell_type": "code",
   "execution_count": 9,
   "id": "18012a16",
   "metadata": {
    "execution": {
     "iopub.execute_input": "2021-09-01T21:03:18.711938Z",
     "iopub.status.busy": "2021-09-01T21:03:18.706777Z",
     "iopub.status.idle": "2021-09-01T21:03:30.979484Z",
     "shell.execute_reply": "2021-09-01T21:03:30.980021Z",
     "shell.execute_reply.started": "2021-08-31T23:06:32.806017Z"
    },
    "papermill": {
     "duration": 12.514618,
     "end_time": "2021-09-01T21:03:30.980189",
     "exception": false,
     "start_time": "2021-09-01T21:03:18.465571",
     "status": "completed"
    },
    "tags": []
   },
   "outputs": [
    {
     "name": "stdout",
     "output_type": "stream",
     "text": [
      "1875/1875 [==============================] - 12s 5ms/step - loss: 0.1062 - accuracy: 0.9729\n"
     ]
    },
    {
     "data": {
      "text/plain": [
       "<tensorflow.python.keras.callbacks.History at 0x7f32f9e37990>"
      ]
     },
     "execution_count": 9,
     "metadata": {},
     "output_type": "execute_result"
    }
   ],
   "source": [
    "# define cloning function\n",
    "def cloning_func(layer):\n",
    "    \n",
    "    # is it a Dense layer?\n",
    "    if isinstance(layer, keras.layers.Dense):\n",
    "        return plm(layer)\n",
    "\n",
    "    # does it have a certain name?\n",
    "    if layer.name == 'dense5':\n",
    "        return plm(layer)\n",
    "\n",
    "    # if does not meet any conditions for pruning\n",
    "    return layer\n",
    "\n",
    "# create pruned model by applying pruning function\n",
    "pruned_model = keras.models.clone_model(\n",
    "    model, # model is the baseline model trained earlier\n",
    "clone_function = cloning_func\n",
    ")\n",
    "\n",
    "# compile pruned model\n",
    "pruned_model.compile(loss='categorical_crossentropy',\n",
    "                     optimizer='adam',\n",
    "                     metrics=['accuracy'])\n",
    "\n",
    "# fit model with update callback\n",
    "update_pruning = tfmot.sparsity.keras.UpdatePruningStep()\n",
    "pruned_model.fit(x_train, y_train,\n",
    "                 epochs=1, # train for more epochs for better performance\n",
    "                 callbacks=[update_pruning])"
   ]
  },
  {
   "cell_type": "markdown",
   "id": "9ae900b9",
   "metadata": {
    "papermill": {
     "duration": 0.319273,
     "end_time": "2021-09-01T21:03:31.588360",
     "exception": false,
     "start_time": "2021-09-01T21:03:31.269087",
     "status": "completed"
    },
    "tags": []
   },
   "source": [
    "---"
   ]
  },
  {
   "cell_type": "markdown",
   "id": "d52d8754",
   "metadata": {
    "papermill": {
     "duration": 0.289134,
     "end_time": "2021-09-01T21:03:32.166525",
     "exception": false,
     "start_time": "2021-09-01T21:03:31.877391",
     "status": "completed"
    },
    "tags": []
   },
   "source": [
    "## Quantization"
   ]
  },
  {
   "cell_type": "markdown",
   "id": "655a21f1",
   "metadata": {
    "papermill": {
     "duration": 0.288002,
     "end_time": "2021-09-01T21:03:32.743782",
     "exception": false,
     "start_time": "2021-09-01T21:03:32.455780",
     "status": "completed"
    },
    "tags": []
   },
   "source": [
    "### Quantize Entire Model"
   ]
  },
  {
   "cell_type": "code",
   "execution_count": 10,
   "id": "a407bae0",
   "metadata": {
    "execution": {
     "iopub.execute_input": "2021-09-01T21:03:33.372532Z",
     "iopub.status.busy": "2021-09-01T21:03:33.371851Z",
     "iopub.status.idle": "2021-09-01T21:03:43.395400Z",
     "shell.execute_reply": "2021-09-01T21:03:43.394662Z",
     "shell.execute_reply.started": "2021-08-31T23:06:45.729552Z"
    },
    "papermill": {
     "duration": 10.31329,
     "end_time": "2021-09-01T21:03:43.395578",
     "exception": false,
     "start_time": "2021-09-01T21:03:33.082288",
     "status": "completed"
    },
    "tags": []
   },
   "outputs": [
    {
     "name": "stdout",
     "output_type": "stream",
     "text": [
      "118/118 [==============================] - 4s 21ms/step - loss: 1.0451 - accuracy: 0.7012\n"
     ]
    }
   ],
   "source": [
    "# quantize entire model\n",
    "from tensorflow_model_optimization.quantization.keras import quantize_model\n",
    "qat_model = quantize_model(model) # model here is the baseline model previously trained\n",
    "\n",
    "# compile quantize-annotated model\n",
    "qat_model.compile(optimizer='adam',\n",
    "                   loss='categorical_crossentropy',\n",
    "                   metrics=['accuracy'])\n",
    "\n",
    "# fit model to be quantization-aware\n",
    "qat_model.fit(x_train, y_train, \n",
    "              batch_size=512,\n",
    "              epochs=1)\n",
    "\n",
    "# convert from quantize-aware to quantized model via TFLite\n",
    "converter = tf.lite.TFLiteConverter.from_keras_model(    \n",
    "    qat_model)\n",
    "converter.optimizations = [tf.lite.Optimize.DEFAULT]\n",
    "quantized_tflite_model = converter.convert()\n",
    "\n",
    "# store TFLite model\n",
    "with open('model.tflite', 'wb') as f:\n",
    "    f.write(quantized_tflite_model)\n",
    "\n",
    "# zip the file the model is stored in\n",
    "_, zippedfile = tempfile.mkstemp(\".zip\")\n",
    "with zf.ZipFile(zippedfile, \"w\", \n",
    "                compression=zf.ZIP_DEFLATED) as f:\n",
    "    f.write('model.tflite')"
   ]
  },
  {
   "cell_type": "markdown",
   "id": "d0c59ecb",
   "metadata": {
    "papermill": {
     "duration": 0.303041,
     "end_time": "2021-09-01T21:03:44.004170",
     "exception": false,
     "start_time": "2021-09-01T21:03:43.701129",
     "status": "completed"
    },
    "tags": []
   },
   "source": [
    "### Quantize Individual Layers"
   ]
  },
  {
   "cell_type": "markdown",
   "id": "54b05012",
   "metadata": {
    "papermill": {
     "duration": 0.302671,
     "end_time": "2021-09-01T21:03:44.615010",
     "exception": false,
     "start_time": "2021-09-01T21:03:44.312339",
     "status": "completed"
    },
    "tags": []
   },
   "source": [
    "Method 1 - simpler and more intuitive, but cannot perform pretraining."
   ]
  },
  {
   "cell_type": "code",
   "execution_count": 11,
   "id": "debde422",
   "metadata": {
    "execution": {
     "iopub.execute_input": "2021-09-01T21:03:45.233501Z",
     "iopub.status.busy": "2021-09-01T21:03:45.232846Z",
     "iopub.status.idle": "2021-09-01T21:04:01.563073Z",
     "shell.execute_reply": "2021-09-01T21:04:01.562441Z",
     "shell.execute_reply.started": "2021-08-31T23:06:56.408623Z"
    },
    "papermill": {
     "duration": 16.644279,
     "end_time": "2021-09-01T21:04:01.563235",
     "exception": false,
     "start_time": "2021-09-01T21:03:44.918956",
     "status": "completed"
    },
    "tags": []
   },
   "outputs": [
    {
     "name": "stdout",
     "output_type": "stream",
     "text": [
      "1875/1875 [==============================] - 15s 8ms/step - loss: 0.8968 - accuracy: 0.7213\n"
     ]
    },
    {
     "data": {
      "text/plain": [
       "<tensorflow.python.keras.callbacks.History at 0x7f32f8748550>"
      ]
     },
     "execution_count": 11,
     "metadata": {},
     "output_type": "execute_result"
    }
   ],
   "source": [
    "# import quantization marker\n",
    "from tensorflow_model_optimization.quantization.keras import quantize_annotate_layer as qal\n",
    "\n",
    "# create model using quantization marker\n",
    "annotated_model = keras.Sequential()\n",
    "annotated_model.add(L.Input((784,)))\n",
    "annotated_model.add(qal(L.Dense(2**9)))\n",
    "annotated_model.add(L.Activation('relu'))\n",
    "annotated_model.add(qal(L.Dense(2**8)))\n",
    "annotated_model.add(L.Activation('relu'))\n",
    "annotated_model.add(qal(L.Dense(2**7)))\n",
    "annotated_model.add(L.Activation('relu'))\n",
    "annotated_model.add(L.Dense(2**6, activation='relu'))\n",
    "annotated_model.add(L.Dense(2**5, activation='relu'))\n",
    "annotated_model.add(L.Dense(10, activation='softmax'))\n",
    "\n",
    "# apply quantization to annotations\n",
    "from tensorflow_model_optimization.quantization.keras import quantize_apply\n",
    "quantized_model = quantize_apply(annotated_model)\n",
    "\n",
    "# compile model\n",
    "quantized_model.compile(loss='categorical_crossentropy',\n",
    "                        optimizer='adam',\n",
    "                        metrics=['accuracy'])\n",
    "\n",
    "# fit model\n",
    "quantized_model.fit(x_train, y_train,\n",
    "                    epochs=1) # train for more epochs for better performance"
   ]
  },
  {
   "cell_type": "markdown",
   "id": "1cc318b8",
   "metadata": {
    "papermill": {
     "duration": 0.388229,
     "end_time": "2021-09-01T21:04:02.335848",
     "exception": false,
     "start_time": "2021-09-01T21:04:01.947619",
     "status": "completed"
    },
    "tags": []
   },
   "source": [
    "Method 2 - cloning, allows for pretraining."
   ]
  },
  {
   "cell_type": "code",
   "execution_count": 12,
   "id": "3f024d7a",
   "metadata": {
    "execution": {
     "iopub.execute_input": "2021-09-01T21:04:03.111984Z",
     "iopub.status.busy": "2021-09-01T21:04:03.111336Z",
     "iopub.status.idle": "2021-09-01T21:04:18.299896Z",
     "shell.execute_reply": "2021-09-01T21:04:18.299274Z",
     "shell.execute_reply.started": "2021-08-31T23:07:12.304219Z"
    },
    "papermill": {
     "duration": 15.575216,
     "end_time": "2021-09-01T21:04:18.300037",
     "exception": false,
     "start_time": "2021-09-01T21:04:02.724821",
     "status": "completed"
    },
    "tags": []
   },
   "outputs": [
    {
     "name": "stdout",
     "output_type": "stream",
     "text": [
      "1875/1875 [==============================] - 15s 7ms/step - loss: 0.4681 - accuracy: 0.8696\n"
     ]
    },
    {
     "data": {
      "text/plain": [
       "<tensorflow.python.keras.callbacks.History at 0x7f32fae97d10>"
      ]
     },
     "execution_count": 12,
     "metadata": {},
     "output_type": "execute_result"
    }
   ],
   "source": [
    "# define cloning function\n",
    "def cloning_func(layer):\n",
    "    \n",
    "    # is it a Dense layer?\n",
    "    if isinstance(layer, keras.layers.Dense):\n",
    "        return qal(layer)\n",
    "    \n",
    "    # does it have a certain name?\n",
    "    if layer.name == 'dense5':\n",
    "        return qal(layer)\n",
    "    \n",
    "    # if does not meet any conditions for quantization\n",
    "    return layer    \n",
    "\n",
    "# apply cloning function to model\n",
    "annotated_model = keras.models.clone_model(\n",
    "    model,\n",
    "    clone_function = cloning_func\n",
    ")\n",
    "\n",
    "# apply quantization to annotations\n",
    "quantized_model = quantize_apply(annotated_model)\n",
    "\n",
    "# compile model\n",
    "quantized_model.compile(loss='categorical_crossentropy',\n",
    "                        optimizer='adam',\n",
    "                        metrics=['accuracy'])\n",
    "\n",
    "# fit model\n",
    "quantized_model.fit(x_train, y_train,\n",
    "                    epochs=1) # train for more epochs for better performance"
   ]
  },
  {
   "cell_type": "markdown",
   "id": "aeafab9f",
   "metadata": {
    "papermill": {
     "duration": 0.458628,
     "end_time": "2021-09-01T21:04:19.217647",
     "exception": false,
     "start_time": "2021-09-01T21:04:18.759019",
     "status": "completed"
    },
    "tags": []
   },
   "source": [
    "---"
   ]
  },
  {
   "cell_type": "markdown",
   "id": "6988c0dd",
   "metadata": {
    "papermill": {
     "duration": 0.460209,
     "end_time": "2021-09-01T21:04:20.147907",
     "exception": false,
     "start_time": "2021-09-01T21:04:19.687698",
     "status": "completed"
    },
    "tags": []
   },
   "source": [
    "## Weight Clustering"
   ]
  },
  {
   "cell_type": "markdown",
   "id": "da50b2bc",
   "metadata": {
    "papermill": {
     "duration": 0.461016,
     "end_time": "2021-09-01T21:04:21.069248",
     "exception": false,
     "start_time": "2021-09-01T21:04:20.608232",
     "status": "completed"
    },
    "tags": []
   },
   "source": [
    "### Weight Clustering Entire Model"
   ]
  },
  {
   "cell_type": "code",
   "execution_count": 13,
   "id": "4356d748",
   "metadata": {
    "execution": {
     "iopub.execute_input": "2021-09-01T21:04:21.996215Z",
     "iopub.status.busy": "2021-09-01T21:04:21.995228Z",
     "iopub.status.idle": "2021-09-01T21:06:38.283110Z",
     "shell.execute_reply": "2021-09-01T21:06:38.282150Z",
     "shell.execute_reply.started": "2021-08-31T23:12:50.354579Z"
    },
    "papermill": {
     "duration": 136.755739,
     "end_time": "2021-09-01T21:06:38.283270",
     "exception": false,
     "start_time": "2021-09-01T21:04:21.527531",
     "status": "completed"
    },
    "tags": []
   },
   "outputs": [
    {
     "name": "stdout",
     "output_type": "stream",
     "text": [
      "1875/1875 [==============================] - 134s 71ms/step - loss: 0.1175 - accuracy: 0.9689\n"
     ]
    }
   ],
   "source": [
    "# define weight initialization parameters\n",
    "CentroidInit = tensorflow_model_optimization.clustering.keras.CentroidInitialization\n",
    "clustering_params = {\n",
    "    'number_of_clusters': 30,\n",
    "    'cluster_centroids_init': CentroidInit.DENSITY_BASED\n",
    "}\n",
    "\n",
    "# perform clustering on weights\n",
    "from tensorflow_model_optimization.clustering.keras import cluster_weights\n",
    "clustered_model = cluster_weights(model, **clustering_params)\n",
    "\n",
    "# compile\n",
    "clustered_model.compile(optimizer='adam',\n",
    "                        loss='categorical_crossentropy',\n",
    "                        metrics=['accuracy'])\n",
    "\n",
    "# fit\n",
    "clustered_model.fit(x_train, y_train, epochs=1)\n",
    "\n",
    "# strip clustering\n",
    "from tensorflow_model_optimization.clustering.keras import strip_clustering\n",
    "final_model = strip_clustering(clustered_model)"
   ]
  },
  {
   "cell_type": "markdown",
   "id": "c0003ef3",
   "metadata": {
    "papermill": {
     "duration": 1.026004,
     "end_time": "2021-09-01T21:06:40.368914",
     "exception": false,
     "start_time": "2021-09-01T21:06:39.342910",
     "status": "completed"
    },
    "tags": []
   },
   "source": [
    "### Weight Clustering Specific Layers"
   ]
  },
  {
   "cell_type": "markdown",
   "id": "970d492a",
   "metadata": {
    "papermill": {
     "duration": 1.03055,
     "end_time": "2021-09-01T21:06:42.431620",
     "exception": false,
     "start_time": "2021-09-01T21:06:41.401070",
     "status": "completed"
    },
    "tags": []
   },
   "source": [
    "Method 1 - simpler and more intuitive, but cannot perform pretraining."
   ]
  },
  {
   "cell_type": "code",
   "execution_count": 14,
   "id": "3ecb8c57",
   "metadata": {
    "execution": {
     "iopub.execute_input": "2021-09-01T21:06:44.515412Z",
     "iopub.status.busy": "2021-09-01T21:06:44.514682Z",
     "iopub.status.idle": "2021-09-01T21:08:54.913029Z",
     "shell.execute_reply": "2021-09-01T21:08:54.912410Z",
     "shell.execute_reply.started": "2021-08-31T23:15:11.467497Z"
    },
    "papermill": {
     "duration": 131.444952,
     "end_time": "2021-09-01T21:08:54.913195",
     "exception": false,
     "start_time": "2021-09-01T21:06:43.468243",
     "status": "completed"
    },
    "tags": []
   },
   "outputs": [
    {
     "name": "stdout",
     "output_type": "stream",
     "text": [
      "1875/1875 [==============================] - 130s 69ms/step - loss: 1.4256 - accuracy: 0.8277\n"
     ]
    }
   ],
   "source": [
    "# import clustering operation\n",
    "from tensorflow_model_optimization.clustering.keras import cluster_weights as cw\n",
    "\n",
    "# create model using quantization marker\n",
    "clustered_model = keras.Sequential()\n",
    "clustered_model.add(L.Input((784,)))\n",
    "clustered_model.add(cw(L.Dense(2**9), **clustering_params))\n",
    "clustered_model.add(L.Activation('relu'))\n",
    "clustered_model.add(cw(L.Dense(2**8), **clustering_params))\n",
    "clustered_model.add(L.Activation('relu'))\n",
    "clustered_model.add(cw(L.Dense(2**7), **clustering_params))\n",
    "clustered_model.add(L.Activation('relu'))\n",
    "clustered_model.add(L.Dense(2**6, activation='relu'))\n",
    "clustered_model.add(L.Dense(2**5, activation='relu'))\n",
    "clustered_model.add(L.Dense(10, activation='softmax'))\n",
    "\n",
    "# compile model\n",
    "clustered_model.compile(loss='categorical_crossentropy',\n",
    "                        optimizer='adam',\n",
    "                        metrics=['accuracy'])\n",
    "\n",
    "# fit model\n",
    "clustered_model.fit(x_train, y_train,\n",
    "                    epochs=1) # train for more epochs for better performance\n",
    "\n",
    "# strip clustering\n",
    "from tensorflow_model_optimization.clustering.keras import strip_clustering\n",
    "final_model = strip_clustering(clustered_model)"
   ]
  },
  {
   "cell_type": "markdown",
   "id": "2230fa85",
   "metadata": {
    "papermill": {
     "duration": 1.659927,
     "end_time": "2021-09-01T21:08:58.196853",
     "exception": false,
     "start_time": "2021-09-01T21:08:56.536926",
     "status": "completed"
    },
    "tags": []
   },
   "source": [
    "Method 2 - cloning, allows for pretraining."
   ]
  },
  {
   "cell_type": "code",
   "execution_count": 15,
   "id": "bb807bd4",
   "metadata": {
    "execution": {
     "iopub.execute_input": "2021-09-01T21:09:01.464058Z",
     "iopub.status.busy": "2021-09-01T21:09:01.462546Z",
     "iopub.status.idle": "2021-09-01T21:11:25.131847Z",
     "shell.execute_reply": "2021-09-01T21:11:25.131289Z",
     "shell.execute_reply.started": "2021-08-31T23:19:11.675059Z"
    },
    "papermill": {
     "duration": 145.312335,
     "end_time": "2021-09-01T21:11:25.132002",
     "exception": false,
     "start_time": "2021-09-01T21:08:59.819667",
     "status": "completed"
    },
    "tags": []
   },
   "outputs": [
    {
     "name": "stdout",
     "output_type": "stream",
     "text": [
      "1875/1875 [==============================] - 9s 4ms/step - loss: 1.0554 - accuracy: 0.8137\n",
      "1875/1875 [==============================] - 133s 70ms/step - loss: 0.2002 - accuracy: 0.9449\n"
     ]
    }
   ],
   "source": [
    "# We need to recreate a baseline model for technical purposes or an error will be raised\n",
    "# construct Sequential model\n",
    "model = keras.Sequential()\n",
    "\n",
    "# construct Input\n",
    "model.add(L.Input((784,)))\n",
    "\n",
    "# construct processing layers\n",
    "for i in list(range(5,10))[::-1]:\n",
    "    model.add(L.Dense(2**i, activation='relu'))\n",
    "model.add(L.Dense(2**i, activation='relu'))\n",
    "\n",
    "# construct output layer\n",
    "model.add(L.Dense(10, activation='softmax'))\n",
    "\n",
    "# compile and fit\n",
    "model.compile(optimizer='adam',\n",
    "              loss='categorical_crossentropy',\n",
    "              metrics=['accuracy'])\n",
    "model.fit(x_train, y_train, epochs=1) # train for more epochs for better performance\n",
    "\n",
    "# -------------\n",
    "\n",
    "# define cloning function\n",
    "def cloning_func(layer):\n",
    "    \n",
    "    # is it a Dense layer?\n",
    "    if isinstance(layer, keras.layers.Dense):\n",
    "        return cw(layer, **clustering_params)\n",
    "    \n",
    "    # does it have a certain name?\n",
    "    if layer.name == 'dense5':\n",
    "        return cw(layer, **clustering_params)\n",
    "    \n",
    "    # if does not meet any conditions for quantization\n",
    "    return layer    \n",
    "\n",
    "# apply cloning function to model\n",
    "clustered_model = keras.models.clone_model(\n",
    "    model,\n",
    "    clone_function = cloning_func\n",
    ")\n",
    "\n",
    "# compile model\n",
    "clustered_model.compile(loss='categorical_crossentropy',\n",
    "                        optimizer='adam',\n",
    "                        metrics=['accuracy'])\n",
    "\n",
    "# fit model\n",
    "clustered_model.fit(x_train, y_train,\n",
    "                    epochs=1) # train for more epochs for better performance\n",
    "\n",
    "# strip clustering\n",
    "from tensorflow_model_optimization.clustering.keras import strip_clustering\n",
    "final_model = strip_clustering(clustered_model)"
   ]
  },
  {
   "cell_type": "markdown",
   "id": "d5f45aa8",
   "metadata": {
    "papermill": {
     "duration": 2.257325,
     "end_time": "2021-09-01T21:11:29.664896",
     "exception": false,
     "start_time": "2021-09-01T21:11:27.407571",
     "status": "completed"
    },
    "tags": []
   },
   "source": [
    "---"
   ]
  },
  {
   "cell_type": "markdown",
   "id": "18a9be00",
   "metadata": {
    "papermill": {
     "duration": 2.288986,
     "end_time": "2021-09-01T21:11:34.179329",
     "exception": false,
     "start_time": "2021-09-01T21:11:31.890343",
     "status": "completed"
    },
    "tags": []
   },
   "source": [
    "## Collaborative Optimization"
   ]
  },
  {
   "cell_type": "markdown",
   "id": "cad585d9",
   "metadata": {
    "papermill": {
     "duration": 2.211615,
     "end_time": "2021-09-01T21:11:38.634263",
     "exception": false,
     "start_time": "2021-09-01T21:11:36.422648",
     "status": "completed"
    },
    "tags": []
   },
   "source": [
    "### Sparsity Preserving Quantization"
   ]
  },
  {
   "cell_type": "code",
   "execution_count": 16,
   "id": "adf437cd",
   "metadata": {
    "execution": {
     "iopub.execute_input": "2021-09-01T21:11:43.123524Z",
     "iopub.status.busy": "2021-09-01T21:11:43.122525Z",
     "iopub.status.idle": "2021-09-01T21:12:29.833142Z",
     "shell.execute_reply": "2021-09-01T21:12:29.833627Z",
     "shell.execute_reply.started": "2021-08-31T23:57:23.490505Z"
    },
    "papermill": {
     "duration": 48.929892,
     "end_time": "2021-09-01T21:12:29.833817",
     "exception": false,
     "start_time": "2021-09-01T21:11:40.903925",
     "status": "completed"
    },
    "tags": []
   },
   "outputs": [
    {
     "name": "stdout",
     "output_type": "stream",
     "text": [
      "1875/1875 [==============================] - 8s 4ms/step - loss: 0.9540 - accuracy: 0.7956\n"
     ]
    },
    {
     "name": "stderr",
     "output_type": "stream",
     "text": [
      "/opt/conda/lib/python3.7/site-packages/tensorflow/python/keras/engine/base_layer.py:2281: UserWarning: `layer.add_variable` is deprecated and will be removed in a future version. Please use `layer.add_weight` method instead.\n",
      "  warnings.warn('`layer.add_variable` is deprecated and '\n"
     ]
    },
    {
     "name": "stdout",
     "output_type": "stream",
     "text": [
      "1875/1875 [==============================] - 13s 5ms/step - loss: 0.3971 - accuracy: 0.8826\n",
      "1875/1875 [==============================] - 8s 4ms/step - loss: 0.2208 - accuracy: 0.9413\n",
      "1875/1875 [==============================] - 16s 8ms/step - loss: 0.5131\n"
     ]
    },
    {
     "data": {
      "text/plain": [
       "<tensorflow.python.keras.callbacks.History at 0x7f32f838be10>"
      ]
     },
     "execution_count": 16,
     "metadata": {},
     "output_type": "execute_result"
    }
   ],
   "source": [
    "# We need to recreate a baseline model for technical purposes or an error will be raised\n",
    "# construct Sequential model\n",
    "model = keras.Sequential()\n",
    "\n",
    "# construct Input\n",
    "model.add(L.Input((784,)))\n",
    "\n",
    "# construct processing layers\n",
    "for i in list(range(5,10))[::-1]:\n",
    "    model.add(L.Dense(2**i, activation='relu'))\n",
    "model.add(L.Dense(2**i, activation='relu'))\n",
    "\n",
    "# construct output layer\n",
    "model.add(L.Dense(10, activation='softmax'))\n",
    "\n",
    "# compile and fit\n",
    "model.compile(optimizer='adam',\n",
    "              loss='categorical_crossentropy',\n",
    "              metrics=['accuracy'])\n",
    "model.fit(x_train, y_train, epochs=1) # train for more epochs for better performance\n",
    "\n",
    "# -------------\n",
    "\n",
    "# PRUNING\n",
    "# create pruning schedule\n",
    "from tensorflow_model_optimization.sparsity.keras import PolynomialDecay as PD\n",
    "end_step = np.ceil(len(x_train)/32) * 1\n",
    "schedule = PD(initial_sparsity=0.50,\n",
    "              final_sparsity=0.95,\n",
    "              begin_step=0,\n",
    "              end_step=end_step,\n",
    "              frequency=128)\n",
    "\n",
    "# define pruning parameters\n",
    "pruning_params = {\n",
    "    'pruning_schedule': schedule\n",
    "}\n",
    "\n",
    "# create pruning model\n",
    "from tensorflow_model_optimization.sparsity.keras import prune_low_magnitude\n",
    "pruned_model = prune_low_magnitude(model, **pruning_params)\n",
    "\n",
    "# compile pruned model\n",
    "pruned_model.compile(loss='categorical_crossentropy',\n",
    "                     optimizer='adam',\n",
    "                     metrics=['accuracy'])\n",
    "\n",
    "# fit model with update callback\n",
    "update_pruning = tfmot.sparsity.keras.UpdatePruningStep()\n",
    "pruned_model.fit(x_train, y_train,\n",
    "                 epochs=1, # train for more epochs for better performance\n",
    "                 callbacks=[update_pruning])\n",
    "\n",
    "# strip pruning after training\n",
    "from tensorflow_model_optimization.sparsity.keras import strip_pruning\n",
    "pruned_model = strip_pruning(pruned_model)\n",
    "\n",
    "# fine-tune after pruning\n",
    "pruned_model.compile(optimizer='adam',\n",
    "                     loss='categorical_crossentropy',\n",
    "                     metrics=['accuracy'])\n",
    "pruned_model.fit(x_train, y_train, epochs=1) # train for more epochs for better performance\n",
    "\n",
    "# -------------\n",
    "\n",
    "# QUANTIZATION\n",
    "# annotate entire model\n",
    "from tensorflow_model_optimization.quantization.keras import quantize_annotate_model\n",
    "annot_quant_model = quantize_annotate_model(pruned_model)\n",
    "\n",
    "# specify combining method (pruning)\n",
    "from tensorflow_model_optimization.experimental.combine import Default8BitPrunePreserveQuantizeScheme as preserve_pruning\n",
    "\n",
    "# apply quantization to annotated model\n",
    "from tensorflow_model_optimization.quantization.keras import quantize_apply\n",
    "pqat_model = quantize_apply(annot_quant_model,\n",
    "                            preserve_pruning())\n",
    "\n",
    "# compile and fit\n",
    "pqat_model.compile(optimizer='adam',\n",
    "                   loss='categorical_crossentropy')\n",
    "pqat_model.fit(x_train, y_train, epochs=1) # train for more epochs for better performance"
   ]
  },
  {
   "cell_type": "markdown",
   "id": "04b938a5",
   "metadata": {
    "papermill": {
     "duration": 2.494968,
     "end_time": "2021-09-01T21:12:34.927496",
     "exception": false,
     "start_time": "2021-09-01T21:12:32.432528",
     "status": "completed"
    },
    "tags": []
   },
   "source": [
    "### Cluster Preserving Quantization"
   ]
  },
  {
   "cell_type": "code",
   "execution_count": 17,
   "id": "b1b3253c",
   "metadata": {
    "execution": {
     "iopub.execute_input": "2021-09-01T21:12:39.916885Z",
     "iopub.status.busy": "2021-09-01T21:12:39.916207Z",
     "iopub.status.idle": "2021-09-01T21:17:29.072129Z",
     "shell.execute_reply": "2021-09-01T21:17:29.071591Z",
     "shell.execute_reply.started": "2021-08-31T23:58:11.785541Z"
    },
    "papermill": {
     "duration": 291.683155,
     "end_time": "2021-09-01T21:17:29.072267",
     "exception": false,
     "start_time": "2021-09-01T21:12:37.389112",
     "status": "completed"
    },
    "tags": []
   },
   "outputs": [
    {
     "name": "stdout",
     "output_type": "stream",
     "text": [
      "1875/1875 [==============================] - 8s 4ms/step - loss: 1.0147 - accuracy: 0.8300\n",
      "1875/1875 [==============================] - 134s 71ms/step - loss: 0.2216 - accuracy: 0.9407\n",
      "1875/1875 [==============================] - 144s 76ms/step - loss: 0.2287\n"
     ]
    },
    {
     "data": {
      "text/plain": [
       "<tensorflow.python.keras.callbacks.History at 0x7f32dc4ee190>"
      ]
     },
     "execution_count": 17,
     "metadata": {},
     "output_type": "execute_result"
    }
   ],
   "source": [
    "# We need to recreate a baseline model for technical purposes or an error will be raised\n",
    "# construct Sequential model\n",
    "model = keras.Sequential()\n",
    "\n",
    "# construct Input\n",
    "model.add(L.Input((784,)))\n",
    "\n",
    "# construct processing layers\n",
    "for i in list(range(5,10))[::-1]:\n",
    "    model.add(L.Dense(2**i, activation='relu'))\n",
    "model.add(L.Dense(2**i, activation='relu'))\n",
    "\n",
    "# construct output layer\n",
    "model.add(L.Dense(10, activation='softmax'))\n",
    "\n",
    "# compile and fit\n",
    "model.compile(optimizer='adam',\n",
    "              loss='categorical_crossentropy',\n",
    "              metrics=['accuracy'])\n",
    "model.fit(x_train, y_train, epochs=1) # train for more epochs for better performance\n",
    "\n",
    "# -------------\n",
    "\n",
    "# CLUSTERING MODEL\n",
    "# define weight initialization parameters\n",
    "CentroidInit = tensorflow_model_optimization.clustering.keras.CentroidInitialization\n",
    "clustering_params = {\n",
    "    'number_of_clusters': 30,\n",
    "    'cluster_centroids_init': CentroidInit.DENSITY_BASED\n",
    "}\n",
    "\n",
    "# perform clustering on weights\n",
    "from tensorflow_model_optimization.clustering.keras import cluster_weights\n",
    "clustered_model = cluster_weights(model, **clustering_params)\n",
    "\n",
    "# compile\n",
    "clustered_model.compile(optimizer='adam',\n",
    "                        loss='categorical_crossentropy',\n",
    "                        metrics=['accuracy'])\n",
    "\n",
    "# fit\n",
    "clustered_model.fit(x_train, y_train, epochs=1)\n",
    "\n",
    "# strip clustering\n",
    "from tensorflow_model_optimization.clustering.keras import strip_clustering\n",
    "cluster_model = strip_clustering(clustered_model)\n",
    "\n",
    "# -------------\n",
    "\n",
    "# QUANTIZATION\n",
    "# annotate entire model\n",
    "from tensorflow_model_optimization.quantization.keras import quantize_annotate_model\n",
    "annot_quant_model = quantize_annotate_model(cluster_model)\n",
    "\n",
    "# specify combining method (pruning)\n",
    "from tensorflow_model_optimization.experimental.combine import Default8BitClusterPreserveQuantizeScheme as preserve_clustering\n",
    "\n",
    "# apply quantization to annotated model\n",
    "from tensorflow_model_optimization.quantization.keras import quantize_apply\n",
    "pqat_model = quantize_apply(annot_quant_model,\n",
    "                            preserve_clustering())\n",
    "\n",
    "# compile and fit\n",
    "pqat_model.compile(optimizer='adam',\n",
    "                   loss='categorical_crossentropy')\n",
    "pqat_model.fit(x_train, y_train, epochs=1)"
   ]
  },
  {
   "cell_type": "markdown",
   "id": "14b945c7",
   "metadata": {
    "papermill": {
     "duration": 3.66989,
     "end_time": "2021-09-01T21:17:36.478812",
     "exception": false,
     "start_time": "2021-09-01T21:17:32.808922",
     "status": "completed"
    },
    "tags": []
   },
   "source": [
    "### Sparsity Preserving Clustering"
   ]
  },
  {
   "cell_type": "code",
   "execution_count": 18,
   "id": "30a32b34",
   "metadata": {
    "execution": {
     "iopub.execute_input": "2021-09-01T21:17:43.911084Z",
     "iopub.status.busy": "2021-09-01T21:17:43.910370Z",
     "iopub.status.idle": "2021-09-01T21:19:08.679896Z",
     "shell.execute_reply": "2021-09-01T21:19:08.680352Z",
     "shell.execute_reply.started": "2021-08-31T23:55:40.548426Z"
    },
    "papermill": {
     "duration": 88.444395,
     "end_time": "2021-09-01T21:19:08.680564",
     "exception": false,
     "start_time": "2021-09-01T21:17:40.236169",
     "status": "completed"
    },
    "tags": []
   },
   "outputs": [
    {
     "name": "stdout",
     "output_type": "stream",
     "text": [
      "1875/1875 [==============================] - 13s 5ms/step - loss: 1.3393 - accuracy: 0.7171\n",
      "1875/1875 [==============================] - 9s 4ms/step - loss: 0.2554 - accuracy: 0.9226\n",
      "1875/1875 [==============================] - 62s 32ms/step - loss: 0.1611\n"
     ]
    },
    {
     "data": {
      "text/plain": [
       "<tensorflow.python.keras.callbacks.History at 0x7f32dc1edd90>"
      ]
     },
     "execution_count": 18,
     "metadata": {},
     "output_type": "execute_result"
    }
   ],
   "source": [
    "# We need to recreate a baseline model for technical purposes or an error will be raised\n",
    "# construct Sequential model\n",
    "model = keras.Sequential()\n",
    "\n",
    "# construct Input\n",
    "model.add(L.Input((784,)))\n",
    "\n",
    "# construct processing layers\n",
    "for i in list(range(5,10))[::-1]:\n",
    "    model.add(L.Dense(2**i, activation='relu'))\n",
    "model.add(L.Dense(2**i, activation='relu'))\n",
    "\n",
    "# construct output layer\n",
    "model.add(L.Dense(10, activation='softmax'))\n",
    "\n",
    "# -------------\n",
    "\n",
    "# PRUNING\n",
    "# create pruning schedule\n",
    "from tensorflow_model_optimization.sparsity.keras import PolynomialDecay as PD\n",
    "end_step = np.ceil(len(x_train)/32) * 1\n",
    "schedule = PD(initial_sparsity=0.50,\n",
    "              final_sparsity=0.95,\n",
    "              begin_step=0,\n",
    "              end_step=end_step,\n",
    "              frequency=128)\n",
    "\n",
    "# define pruning parameters\n",
    "pruning_params = {\n",
    "    'pruning_schedule': schedule\n",
    "}\n",
    "\n",
    "# create pruning model\n",
    "from tensorflow_model_optimization.sparsity.keras import prune_low_magnitude\n",
    "pruned_model = prune_low_magnitude(model, **pruning_params)\n",
    "\n",
    "# compile pruned model\n",
    "pruned_model.compile(loss='categorical_crossentropy',\n",
    "                     optimizer='adam',\n",
    "                     metrics=['accuracy'])\n",
    "\n",
    "# fit model with update callback\n",
    "update_pruning = tfmot.sparsity.keras.UpdatePruningStep()\n",
    "pruned_model.fit(x_train, y_train,\n",
    "                 epochs=1, # train for more epochs for better performance\n",
    "                 callbacks=[update_pruning])\n",
    "\n",
    "# strip pruning after training\n",
    "from tensorflow_model_optimization.sparsity.keras import strip_pruning\n",
    "pruned_model = strip_pruning(pruned_model)\n",
    "\n",
    "# fine-tune after pruning\n",
    "pruned_model.compile(optimizer='adam',\n",
    "                     loss='categorical_crossentropy',\n",
    "                     metrics=['accuracy'])\n",
    "pruned_model.fit(x_train, y_train, epochs=1)\n",
    "\n",
    "# -------------\n",
    "\n",
    "# CLUSTERING\n",
    "# performing clustering\n",
    "from tensorflow_model_optimization.python.core.clustering.keras.experimental.cluster import cluster_weights\n",
    "\n",
    "# specify centroid initialization style\n",
    "from tensorflow_model_optimization.clustering.keras import CentroidInitialization\n",
    "CentroidInit = CentroidInitialization.DENSITY_BASED\n",
    "\n",
    "# put clustering parameters into dictionary\n",
    "clustering_params = {'number_of_clusters': 8,\n",
    "                 'cluster_centroids_init': CentroidInit,\n",
    "                 'preserve_sparsity': True}\n",
    "\n",
    "# create sparsity preserving clustering model\n",
    "spc = cluster_weights(pruned_model, **clustering_params)\n",
    "\n",
    "# compile and fit\n",
    "spc.compile(optimizer='adam',\n",
    "            loss='categorical_crossentropy')\n",
    "spc.fit(x_train, y_train, epochs=1)"
   ]
  },
  {
   "cell_type": "markdown",
   "id": "fb9f5008",
   "metadata": {
    "papermill": {
     "duration": 4.143429,
     "end_time": "2021-09-01T21:19:16.897190",
     "exception": false,
     "start_time": "2021-09-01T21:19:12.753761",
     "status": "completed"
    },
    "tags": []
   },
   "source": [
    "---"
   ]
  },
  {
   "cell_type": "markdown",
   "id": "d7948239",
   "metadata": {
    "papermill": {
     "duration": 4.100757,
     "end_time": "2021-09-01T21:19:25.101712",
     "exception": false,
     "start_time": "2021-09-01T21:19:21.000955",
     "status": "completed"
    },
    "tags": []
   },
   "source": [
    "## Versions\n",
    "\n",
    "See versions for all libraries used if you run into any errors."
   ]
  },
  {
   "cell_type": "code",
   "execution_count": 19,
   "id": "36f10b4f",
   "metadata": {
    "execution": {
     "iopub.execute_input": "2021-09-01T21:19:33.267807Z",
     "iopub.status.busy": "2021-09-01T21:19:33.266848Z",
     "iopub.status.idle": "2021-09-01T21:19:35.064813Z",
     "shell.execute_reply": "2021-09-01T21:19:35.064230Z"
    },
    "papermill": {
     "duration": 5.888699,
     "end_time": "2021-09-01T21:19:35.064974",
     "exception": false,
     "start_time": "2021-09-01T21:19:29.176275",
     "status": "completed"
    },
    "tags": []
   },
   "outputs": [
    {
     "name": "stdout",
     "output_type": "stream",
     "text": [
      "Package                        Version             Location\r\n",
      "------------------------------ ------------------- --------------\r\n",
      "absl-py                        0.12.0\r\n",
      "affine                         2.3.0\r\n",
      "aiobotocore                    1.3.1\r\n",
      "aiohttp                        3.7.4.post0\r\n",
      "aiohttp-cors                   0.7.0\r\n",
      "aioitertools                   0.7.1\r\n",
      "aioredis                       1.3.1\r\n",
      "albumentations                 1.0.1\r\n",
      "alembic                        1.6.5\r\n",
      "allennlp                       2.5.0\r\n",
      "altair                         4.1.0\r\n",
      "annoy                          1.17.0\r\n",
      "ansiwrap                       0.8.4\r\n",
      "anyio                          3.2.0\r\n",
      "appdirs                        1.4.4\r\n",
      "argon2-cffi                    20.1.0\r\n",
      "arrow                          1.1.0\r\n",
      "arviz                          0.11.2\r\n",
      "asn1crypto                     1.4.0\r\n",
      "astunparse                     1.6.3\r\n",
      "async-generator                1.10\r\n",
      "async-timeout                  3.0.1\r\n",
      "attrs                          21.2.0\r\n",
      "audioread                      2.1.9\r\n",
      "autobahn                       21.3.1\r\n",
      "autocfg                        0.0.8\r\n",
      "Automat                        20.2.0\r\n",
      "Babel                          2.9.1\r\n",
      "backcall                       0.2.0\r\n",
      "backports.csv                  1.0.7\r\n",
      "backports.functools-lru-cache  1.6.4\r\n",
      "basemap                        1.2.1\r\n",
      "bayesian-optimization          1.2.0\r\n",
      "bayespy                        0.5.22\r\n",
      "beatrix-jupyterlab             0.0.3\r\n",
      "beautifulsoup4                 4.9.3\r\n",
      "binaryornot                    0.4.4\r\n",
      "biopython                      1.79\r\n",
      "black                          21.5b2\r\n",
      "bleach                         3.3.0\r\n",
      "blessings                      1.7\r\n",
      "blinker                        1.4\r\n",
      "blis                           0.7.4\r\n",
      "bokeh                          2.3.2\r\n",
      "Boruta                         0.3\r\n",
      "boto3                          1.17.105\r\n",
      "botocore                       1.20.105\r\n",
      "Bottleneck                     1.3.2\r\n",
      "bq-helper                      0.4.1               /src/bq-helper\r\n",
      "bqplot                         0.12.29\r\n",
      "branca                         0.4.2\r\n",
      "brewer2mpl                     1.4.1\r\n",
      "brotlipy                       0.7.0\r\n",
      "cachetools                     4.2.2\r\n",
      "caip-notebooks-serverextension 1.0.0\r\n",
      "Cartopy                        0.18.0\r\n",
      "catalogue                      1.0.0\r\n",
      "catalyst                       21.6\r\n",
      "catboost                       0.26\r\n",
      "category-encoders              2.2.2\r\n",
      "certifi                        2021.5.30\r\n",
      "cesium                         0.9.12\r\n",
      "cffi                           1.14.5\r\n",
      "cftime                         1.5.0\r\n",
      "chardet                        4.0.0\r\n",
      "checklist                      0.0.11\r\n",
      "cheroot                        8.5.2\r\n",
      "CherryPy                       18.6.1\r\n",
      "cleverhans                     3.1.0\r\n",
      "click                          7.1.2\r\n",
      "click-plugins                  1.1.1\r\n",
      "cliff                          3.8.0\r\n",
      "cligj                          0.7.2\r\n",
      "cloud-tpu-client               0.10\r\n",
      "cloudpickle                    1.6.0\r\n",
      "cmaes                          0.8.2\r\n",
      "cmd2                           2.1.2\r\n",
      "cmdstanpy                      0.9.5\r\n",
      "cmudict                        0.4.5\r\n",
      "colorama                       0.4.4\r\n",
      "colorcet                       2.0.6\r\n",
      "colorlog                       5.0.1\r\n",
      "colorlover                     0.3.0\r\n",
      "conda                          4.9.2\r\n",
      "conda-package-handling         1.7.3\r\n",
      "configparser                   5.0.2\r\n",
      "confuse                        1.4.0\r\n",
      "constantly                     15.1.0\r\n",
      "contextily                     1.1.0\r\n",
      "contextlib2                    21.6.0\r\n",
      "convertdate                    2.3.2\r\n",
      "cookiecutter                   1.7.0\r\n",
      "cryptography                   3.4.7\r\n",
      "cufflinks                      0.17.3\r\n",
      "CVXcanon                       0.1.2\r\n",
      "cvxpy                          1.1.7\r\n",
      "cycler                         0.10.0\r\n",
      "cymem                          2.0.5\r\n",
      "cysignals                      1.10.3\r\n",
      "Cython                         0.29.23\r\n",
      "cytoolz                        0.11.0\r\n",
      "dask                           2021.6.2\r\n",
      "dataclasses                    0.6\r\n",
      "datashader                     0.13.0\r\n",
      "datashape                      0.5.2\r\n",
      "datatable                      1.0.0\r\n",
      "deap                           1.3.1\r\n",
      "decorator                      5.0.9\r\n",
      "deepdish                       0.3.6\r\n",
      "defusedxml                     0.7.1\r\n",
      "Delorean                       1.0.0\r\n",
      "Deprecated                     1.2.12\r\n",
      "descartes                      1.1.0\r\n",
      "dill                           0.3.4\r\n",
      "dipy                           1.4.1\r\n",
      "distributed                    2021.6.2\r\n",
      "dlib                           19.22.0\r\n",
      "dm-tree                        0.1.6\r\n",
      "docker                         5.0.0\r\n",
      "docker-pycreds                 0.4.0\r\n",
      "docutils                       0.17.1\r\n",
      "earthengine-api                0.1.272\r\n",
      "easydev                        0.11.1\r\n",
      "easyocr                        1.3.2\r\n",
      "ecos                           2.0.7.post1\r\n",
      "eli5                           0.11.0\r\n",
      "emoji                          1.2.0\r\n",
      "en-core-web-lg                 2.3.1\r\n",
      "en-core-web-sm                 2.3.1\r\n",
      "entrypoints                    0.3\r\n",
      "ephem                          4.0.0.2\r\n",
      "essentia                       2.1b6.dev374\r\n",
      "fancyimpute                    0.5.5\r\n",
      "fastai                         2.2.7\r\n",
      "fastcore                       1.3.20\r\n",
      "fastprogress                   1.0.0\r\n",
      "fasttext                       0.9.2\r\n",
      "fbpca                          1.0\r\n",
      "fbprophet                      0.7.1\r\n",
      "feather-format                 0.4.1\r\n",
      "featuretools                   0.25.0\r\n",
      "feedparser                     6.0.8\r\n",
      "filelock                       3.0.12\r\n",
      "Fiona                          1.8.18\r\n",
      "fitter                         1.3.0\r\n",
      "flake8                         3.9.2\r\n",
      "flashtext                      2.7\r\n",
      "Flask                          2.0.1\r\n",
      "flatbuffers                    1.12\r\n",
      "folium                         0.12.1\r\n",
      "fsspec                         2021.6.1\r\n",
      "funcy                          1.16\r\n",
      "fury                           0.7.0\r\n",
      "future                         0.18.2\r\n",
      "fuzzywuzzy                     0.18.0\r\n",
      "gast                           0.3.3\r\n",
      "gatspy                         0.3\r\n",
      "gcsfs                          2021.6.0\r\n",
      "GDAL                           3.2.1\r\n",
      "gensim                         4.0.1\r\n",
      "geographiclib                  1.52\r\n",
      "Geohash                        1.0\r\n",
      "geojson                        2.5.0\r\n",
      "geopandas                      0.9.0\r\n",
      "geoplot                        0.4.3\r\n",
      "geopy                          2.1.0\r\n",
      "geoviews                       1.9.1\r\n",
      "ggplot                         0.11.5\r\n",
      "gitdb                          4.0.7\r\n",
      "GitPython                      3.1.18\r\n",
      "gluoncv                        0.10.3\r\n",
      "gluonnlp                       0.10.0\r\n",
      "google-api-core                1.30.0\r\n",
      "google-api-python-client       1.8.0\r\n",
      "google-auth                    1.30.2\r\n",
      "google-auth-httplib2           0.1.0\r\n",
      "google-auth-oauthlib           0.4.4\r\n",
      "google-cloud-aiplatform        0.6.0a1\r\n",
      "google-cloud-appengine-logging 0.1.1\r\n",
      "google-cloud-audit-log         0.1.0\r\n",
      "google-cloud-automl            1.0.1\r\n",
      "google-cloud-bigquery          2.2.0\r\n",
      "google-cloud-bigtable          2.2.0\r\n",
      "google-cloud-core              1.7.0\r\n",
      "google-cloud-dataproc          2.4.0\r\n",
      "google-cloud-datastore         2.1.3\r\n",
      "google-cloud-firestore         2.1.3\r\n",
      "google-cloud-kms               2.3.0\r\n",
      "google-cloud-language          2.1.0\r\n",
      "google-cloud-logging           2.5.0\r\n",
      "google-cloud-monitoring        2.3.0\r\n",
      "google-cloud-pubsub            1.7.0\r\n",
      "google-cloud-scheduler         2.2.0\r\n",
      "google-cloud-spanner           3.5.0\r\n",
      "google-cloud-speech            2.4.0\r\n",
      "google-cloud-storage           1.38.0\r\n",
      "google-cloud-tasks             2.3.0\r\n",
      "google-cloud-translate         3.2.0\r\n",
      "google-cloud-videointelligence 2.2.0\r\n",
      "google-cloud-vision            2.3.2\r\n",
      "google-crc32c                  1.1.2\r\n",
      "google-pasta                   0.2.0\r\n",
      "google-resumable-media         1.3.1\r\n",
      "googleapis-common-protos       1.53.0\r\n",
      "gplearn                        0.4.1\r\n",
      "gpustat                        0.6.0\r\n",
      "gpxpy                          1.4.2\r\n",
      "graphviz                       0.8.4\r\n",
      "greenlet                       1.1.0\r\n",
      "grpc-google-iam-v1             0.12.3\r\n",
      "grpcio                         1.32.0\r\n",
      "grpcio-gcp                     0.2.2\r\n",
      "gym                            0.18.3\r\n",
      "h2o                            3.32.1.3\r\n",
      "h5py                           2.10.0\r\n",
      "haversine                      2.3.1\r\n",
      "HeapDict                       1.0.1\r\n",
      "hep-ml                         0.6.2\r\n",
      "hijri-converter                2.1.3\r\n",
      "hiredis                        2.0.0\r\n",
      "hmmlearn                       0.2.5\r\n",
      "holidays                       0.11.1\r\n",
      "holoviews                      1.14.4\r\n",
      "hpsklearn                      0.1.0\r\n",
      "html5lib                       1.1\r\n",
      "htmlmin                        0.1.12\r\n",
      "httplib2                       0.19.1\r\n",
      "httplib2shim                   0.0.3\r\n",
      "huggingface-hub                0.0.8\r\n",
      "humanize                       3.10.0\r\n",
      "hunspell                       0.5.5\r\n",
      "husl                           4.0.3\r\n",
      "hyperlink                      21.0.0\r\n",
      "hyperopt                       0.2.5\r\n",
      "hypertools                     0.7.0\r\n",
      "hypothesis                     6.14.1\r\n",
      "ibis-framework                 1.4.0\r\n",
      "idna                           2.10\r\n",
      "imagecodecs                    2021.6.8\r\n",
      "ImageHash                      4.2.0\r\n",
      "imageio                        2.9.0\r\n",
      "imbalanced-learn               0.8.0\r\n",
      "imgaug                         0.4.0\r\n",
      "implicit                       0.4.4\r\n",
      "importlib-metadata             3.4.0\r\n",
      "incremental                    21.3.0\r\n",
      "iniconfig                      1.1.1\r\n",
      "ipykernel                      5.5.5\r\n",
      "ipympl                         0.7.0\r\n",
      "ipython                        7.24.1\r\n",
      "ipython-genutils               0.2.0\r\n",
      "ipython-sql                    0.3.9\r\n",
      "ipywidgets                     7.6.3\r\n",
      "iso-639                        0.4.5\r\n",
      "iso3166                        1.0.1\r\n",
      "isoweek                        1.3.3\r\n",
      "itsdangerous                   2.0.1\r\n",
      "Janome                         0.4.1\r\n",
      "jaraco.classes                 3.2.1\r\n",
      "jaraco.collections             3.3.0\r\n",
      "jaraco.functools               3.3.0\r\n",
      "jaraco.text                    3.5.0\r\n",
      "jax                            0.2.12\r\n",
      "jaxlib                         0.1.64\r\n",
      "jedi                           0.18.0\r\n",
      "jieba                          0.42.1\r\n",
      "Jinja2                         3.0.1\r\n",
      "jinja2-time                    0.2.0\r\n",
      "jmespath                       0.10.0\r\n",
      "joblib                         1.0.1\r\n",
      "json5                          0.9.5\r\n",
      "jsonnet                        0.17.0\r\n",
      "jsonschema                     3.2.0\r\n",
      "jupyter                        1.0.0\r\n",
      "jupyter-client                 6.1.12\r\n",
      "jupyter-console                6.4.0\r\n",
      "jupyter-core                   4.7.1\r\n",
      "jupyter-http-over-ws           0.0.8\r\n",
      "jupyter-server                 1.8.0\r\n",
      "jupyter-server-mathjax         0.2.3\r\n",
      "jupyterlab                     1.2.16\r\n",
      "jupyterlab-git                 0.11.0\r\n",
      "jupyterlab-pygments            0.1.2\r\n",
      "jupyterlab-server              1.2.0\r\n",
      "jupyterlab-widgets             1.0.0\r\n",
      "kaggle                         1.5.12\r\n",
      "kaggle-environments            1.7.11\r\n",
      "Keras                          2.4.3\r\n",
      "Keras-Preprocessing            1.1.2\r\n",
      "keras-tuner                    1.0.3\r\n",
      "kiwisolver                     1.3.1\r\n",
      "kmapper                        2.0.1\r\n",
      "kmodes                         0.11.0\r\n",
      "knnimpute                      0.1.0\r\n",
      "korean-lunar-calendar          0.2.1\r\n",
      "kornia                         0.5.5\r\n",
      "kt-legacy                      1.0.3\r\n",
      "kubernetes                     17.17.0\r\n",
      "langid                         1.1.6\r\n",
      "learntools                     0.3.4\r\n",
      "leven                          1.0.4\r\n",
      "libcst                         0.3.19\r\n",
      "librosa                        0.8.1\r\n",
      "lightfm                        1.16\r\n",
      "lightgbm                       3.2.1\r\n",
      "lime                           0.2.0.1\r\n",
      "line-profiler                  3.3.0\r\n",
      "llvmlite                       0.36.0\r\n",
      "lmdb                           1.2.1\r\n",
      "lml                            0.1.0\r\n",
      "locket                         0.2.1\r\n",
      "LunarCalendar                  0.0.9\r\n",
      "lxml                           4.6.3\r\n",
      "Mako                           1.1.4\r\n",
      "mapclassify                    2.4.2\r\n",
      "marisa-trie                    0.7.5\r\n",
      "Markdown                       3.3.4\r\n",
      "markovify                      0.9.0\r\n",
      "MarkupSafe                     2.0.1\r\n",
      "matplotlib                     3.4.2\r\n",
      "matplotlib-inline              0.1.2\r\n",
      "matplotlib-venn                0.11.6\r\n",
      "matrixprofile                  1.1.10\r\n",
      "mccabe                         0.6.1\r\n",
      "memory-profiler                0.58.0\r\n",
      "mercantile                     1.2.1\r\n",
      "missingno                      0.4.2\r\n",
      "mistune                        0.8.4\r\n",
      "mizani                         0.7.3\r\n",
      "ml-metrics                     0.1.4\r\n",
      "mlcrate                        0.2.0\r\n",
      "mlens                          0.2.3\r\n",
      "mlxtend                        0.18.0\r\n",
      "mmh3                           3.0.0\r\n",
      "mne                            0.23.0\r\n",
      "mnist                          0.2.2\r\n",
      "mock                           4.0.3\r\n",
      "more-itertools                 8.8.0\r\n",
      "mpld3                          0.5.5\r\n",
      "mpmath                         1.2.1\r\n",
      "msgpack                        1.0.2\r\n",
      "msgpack-numpy                  0.4.7.1\r\n",
      "multidict                      5.1.0\r\n",
      "multimethod                    1.4\r\n",
      "multipledispatch               0.6.0\r\n",
      "multiprocess                   0.70.12.2\r\n",
      "munch                          2.5.0\r\n",
      "murmurhash                     1.0.5\r\n",
      "mxnet                          1.8.0.post0\r\n",
      "mypy-extensions                0.4.3\r\n",
      "nb-conda                       2.2.1\r\n",
      "nb-conda-kernels               2.3.1\r\n",
      "nbclient                       0.5.3\r\n",
      "nbconvert                      6.0.7\r\n",
      "nbdime                         3.1.0\r\n",
      "nbformat                       5.1.3\r\n",
      "nest-asyncio                   1.5.1\r\n",
      "netCDF4                        1.5.7\r\n",
      "networkx                       2.5\r\n",
      "nibabel                        3.2.1\r\n",
      "nilearn                        0.8.0\r\n",
      "nltk                           3.2.4\r\n",
      "nnabla                         1.20.1\r\n",
      "nose                           1.3.7\r\n",
      "notebook                       6.4.0\r\n",
      "notebook-executor              0.2\r\n",
      "numba                          0.53.1\r\n",
      "numexpr                        2.7.3\r\n",
      "numpy                          1.19.5\r\n",
      "nvidia-ml-py3                  7.352.0\r\n",
      "oauth2client                   4.1.3\r\n",
      "oauthlib                       3.1.1\r\n",
      "odfpy                          1.4.1\r\n",
      "olefile                        0.46\r\n",
      "onnx                           1.8.1\r\n",
      "opencensus                     0.7.13\r\n",
      "opencensus-context             0.1.2\r\n",
      "opencv-python                  4.5.2.54\r\n",
      "opencv-python-headless         4.5.2.54\r\n",
      "openslide-python               1.1.2\r\n",
      "opt-einsum                     3.3.0\r\n",
      "optuna                         2.8.0\r\n",
      "orderedmultidict               1.0.1\r\n",
      "ortools                        9.0.9048\r\n",
      "osmnx                          1.1.1\r\n",
      "osqp                           0.6.2.post0\r\n",
      "overrides                      3.1.0\r\n",
      "packaging                      20.9\r\n",
      "palettable                     3.3.0\r\n",
      "pandarallel                    1.5.2\r\n",
      "pandas                         1.2.4\r\n",
      "pandas-datareader              0.9.0\r\n",
      "pandas-profiling               3.0.0\r\n",
      "pandas-summary                 0.0.7\r\n",
      "pandasql                       0.7.3\r\n",
      "pandocfilters                  1.4.2\r\n",
      "panel                          0.11.3\r\n",
      "papermill                      2.3.3\r\n",
      "param                          1.11.1\r\n",
      "parso                          0.8.2\r\n",
      "partd                          1.2.0\r\n",
      "path                           16.0.0\r\n",
      "path.py                        12.5.0\r\n",
      "pathos                         0.2.8\r\n",
      "pathspec                       0.8.1\r\n",
      "pathtools                      0.1.2\r\n",
      "patsy                          0.5.1\r\n",
      "patternfork-nosql              3.6\r\n",
      "pbr                            5.6.0\r\n",
      "pdf2image                      1.16.0\r\n",
      "pdfminer.six                   20201018\r\n",
      "PDPbox                         0.2.1\r\n",
      "pexpect                        4.8.0\r\n",
      "phik                           0.11.2\r\n",
      "pickleshare                    0.7.5\r\n",
      "Pillow                         8.2.0\r\n",
      "pip                            21.1.2\r\n",
      "plac                           1.1.3\r\n",
      "plotly                         5.1.0\r\n",
      "plotly-express                 0.4.1\r\n",
      "plotnine                       0.8.0\r\n",
      "pluggy                         0.13.1\r\n",
      "polyglot                       16.7.4\r\n",
      "pooch                          1.4.0\r\n",
      "portalocker                    2.3.0\r\n",
      "portend                        2.7.1\r\n",
      "pox                            0.3.0\r\n",
      "poyo                           0.5.0\r\n",
      "ppca                           0.0.4\r\n",
      "ppft                           1.6.6.4\r\n",
      "preprocessing                  0.1.13\r\n",
      "preshed                        3.0.5\r\n",
      "prettytable                    2.1.0\r\n",
      "prometheus-client              0.11.0\r\n",
      "promise                        2.3\r\n",
      "prompt-toolkit                 3.0.19\r\n",
      "pronouncing                    0.2.0\r\n",
      "proto-plus                     1.18.1\r\n",
      "protobuf                       3.17.3\r\n",
      "psutil                         5.8.0\r\n",
      "ptyprocess                     0.7.0\r\n",
      "pudb                           2021.1\r\n",
      "py                             1.10.0\r\n",
      "py-lz4framed                   0.14.0\r\n",
      "py-spy                         0.3.7\r\n",
      "py-stringmatching              0.4.2\r\n",
      "py-stringsimjoin               0.3.2\r\n",
      "pyaml                          20.4.0\r\n",
      "PyArabic                       0.6.11\r\n",
      "pyarrow                        4.0.0\r\n",
      "pyasn1                         0.4.8\r\n",
      "pyasn1-modules                 0.2.7\r\n",
      "PyAstronomy                    0.16.0\r\n",
      "pybind11                       2.6.2\r\n",
      "pycodestyle                    2.7.0\r\n",
      "pycosat                        0.6.3\r\n",
      "pycountry                      20.7.3\r\n",
      "pycparser                      2.20\r\n",
      "pycrypto                       2.6.1\r\n",
      "pyct                           0.4.8\r\n",
      "pydantic                       1.8.2\r\n",
      "pydash                         5.0.1\r\n",
      "pydegensac                     0.1.2\r\n",
      "pyDeprecate                    0.3.0\r\n",
      "pydicom                        2.1.2\r\n",
      "pydot                          1.4.2\r\n",
      "pydub                          0.25.1\r\n",
      "pyemd                          0.5.1\r\n",
      "pyexcel-io                     0.6.4\r\n",
      "pyexcel-ods                    0.6.0\r\n",
      "pyfasttext                     0.4.6\r\n",
      "pyflakes                       2.3.1\r\n",
      "pyglet                         1.5.15\r\n",
      "Pygments                       2.9.0\r\n",
      "PyJWT                          2.1.0\r\n",
      "pykalman                       0.9.5\r\n",
      "pyLDAvis                       3.3.1\r\n",
      "pymc3                          3.11.2\r\n",
      "PyMeeus                        0.5.11\r\n",
      "pymongo                        3.11.4\r\n",
      "Pympler                        0.9\r\n",
      "pynndescent                    0.5.3\r\n",
      "pyocr                          0.8\r\n",
      "pyOpenSSL                      20.0.1\r\n",
      "pyparsing                      2.4.7\r\n",
      "pyPdf                          1.13\r\n",
      "pyperclip                      1.8.2\r\n",
      "PyPrind                        2.11.3\r\n",
      "pyproj                         2.6.1.post1\r\n",
      "PyQt5                          5.12.3\r\n",
      "PyQt5-sip                      4.19.18\r\n",
      "PyQtChart                      5.12\r\n",
      "PyQtWebEngine                  5.12.1\r\n",
      "pyrsistent                     0.17.3\r\n",
      "pysal                          2.1.0\r\n",
      "pyshp                          2.1.3\r\n",
      "PySocks                        1.7.1\r\n",
      "pystan                         2.19.1.1\r\n",
      "pytesseract                    0.3.8\r\n",
      "pytest                         6.2.4\r\n",
      "pytext-nlp                     0.1.2\r\n",
      "python-bidi                    0.4.2\r\n",
      "python-dateutil                2.8.1\r\n",
      "python-docx                    0.8.11\r\n",
      "python-editor                  1.0.4\r\n",
      "python-igraph                  0.9.5\r\n",
      "python-Levenshtein             0.12.2\r\n",
      "python-louvain                 0.15\r\n",
      "python-slugify                 5.0.2\r\n",
      "pytorch-ignite                 0.4.5\r\n",
      "pytorch-lightning              1.3.8\r\n",
      "pytz                           2021.1\r\n",
      "pyu2f                          0.1.5\r\n",
      "PyUpSet                        0.1.1.post7\r\n",
      "pyviz-comms                    2.1.0\r\n",
      "PyWavelets                     1.1.1\r\n",
      "PyYAML                         5.4.1\r\n",
      "pyzmq                          22.1.0\r\n",
      "qdldl                          0.1.5.post0\r\n",
      "qgrid                          1.3.1\r\n",
      "qtconsole                      5.1.1\r\n",
      "QtPy                           1.9.0\r\n",
      "randomgen                      1.16.6\r\n",
      "rasterio                       1.2.6\r\n",
      "ray                            1.4.1\r\n",
      "redis                          3.5.3\r\n",
      "regex                          2021.4.4\r\n",
      "requests                       2.25.1\r\n",
      "requests-oauthlib              1.3.0\r\n",
      "resampy                        0.2.2\r\n",
      "retrying                       1.3.3\r\n",
      "rgf-python                     3.10.0\r\n",
      "rsa                            4.7.2\r\n",
      "Rtree                          0.9.7\r\n",
      "ruamel-yaml-conda              0.15.80\r\n",
      "s2sphere                       0.2.5\r\n",
      "s3fs                           2021.6.1\r\n",
      "s3transfer                     0.4.2\r\n",
      "sacremoses                     0.0.45\r\n",
      "scattertext                    0.1.3\r\n",
      "scikit-image                   0.18.2\r\n",
      "scikit-learn                   0.23.2\r\n",
      "scikit-multilearn              0.2.0\r\n",
      "scikit-optimize                0.8.1\r\n",
      "scikit-plot                    0.3.7\r\n",
      "scikit-surprise                1.1.1\r\n",
      "scipy                          1.6.3\r\n",
      "scs                            2.1.4\r\n",
      "seaborn                        0.11.1\r\n",
      "semver                         2.13.0\r\n",
      "Send2Trash                     1.5.0\r\n",
      "sentencepiece                  0.1.96\r\n",
      "sentry-sdk                     1.2.0\r\n",
      "setuptools                     49.6.0.post20210108\r\n",
      "setuptools-git                 1.2\r\n",
      "sgmllib3k                      1.0.0\r\n",
      "shap                           0.39.0\r\n",
      "Shapely                        1.7.1\r\n",
      "shortuuid                      1.0.1\r\n",
      "SimpleITK                      2.0.2\r\n",
      "simplejson                     3.17.2\r\n",
      "six                            1.15.0\r\n",
      "sklearn                        0.0\r\n",
      "sklearn-contrib-py-earth       0.1.0+1.gdde5f89\r\n",
      "sklearn-pandas                 2.2.0\r\n",
      "slicer                         0.0.7\r\n",
      "smart-open                     5.1.0\r\n",
      "smhasher                       0.150.1\r\n",
      "smmap                          3.0.5\r\n",
      "sniffio                        1.2.0\r\n",
      "snuggs                         1.4.7\r\n",
      "sortedcontainers               2.4.0\r\n",
      "SoundFile                      0.10.3.post1\r\n",
      "soupsieve                      2.2.1\r\n",
      "spacy                          2.3.7\r\n",
      "spectral                       0.22.2\r\n",
      "sphinx-rtd-theme               0.2.4\r\n",
      "SQLAlchemy                     1.4.18\r\n",
      "sqlparse                       0.4.1\r\n",
      "squarify                       0.4.3\r\n",
      "srsly                          1.0.5\r\n",
      "statsmodels                    0.12.2\r\n",
      "stemming                       1.0.1\r\n",
      "stevedore                      3.3.0\r\n",
      "stop-words                     2018.7.23\r\n",
      "stopit                         1.1.2\r\n",
      "stumpy                         1.8.0\r\n",
      "subprocess32                   3.5.4\r\n",
      "sympy                          1.8\r\n",
      "tables                         3.6.1\r\n",
      "tabulate                       0.8.9\r\n",
      "tangled-up-in-unicode          0.1.0\r\n",
      "tblib                          1.7.0\r\n",
      "tempora                        4.1.1\r\n",
      "tenacity                       7.0.0\r\n",
      "tensorboard                    2.4.1\r\n",
      "tensorboard-data-server        0.6.1\r\n",
      "tensorboard-plugin-wit         1.8.0\r\n",
      "tensorboardX                   2.2\r\n",
      "tensorflow                     2.4.1\r\n",
      "tensorflow-addons              0.12.1\r\n",
      "tensorflow-cloud               0.1.13\r\n",
      "tensorflow-datasets            3.0.0\r\n",
      "tensorflow-estimator           2.4.0\r\n",
      "tensorflow-gcs-config          2.4.0\r\n",
      "tensorflow-hub                 0.12.0\r\n",
      "tensorflow-metadata            1.1.0\r\n",
      "tensorflow-model-optimization  0.6.0\r\n",
      "tensorflow-probability         0.13.0\r\n",
      "tensorpack                     0.11\r\n",
      "termcolor                      1.1.0\r\n",
      "terminado                      0.10.1\r\n",
      "testpath                       0.5.0\r\n",
      "text-unidecode                 1.3\r\n",
      "textblob                       0.15.3\r\n",
      "texttable                      1.6.3\r\n",
      "textwrap3                      0.9.2\r\n",
      "Theano                         1.0.5\r\n",
      "Theano-PyMC                    1.1.2\r\n",
      "thinc                          7.4.5\r\n",
      "threadpoolctl                  2.1.0\r\n",
      "tifffile                       2021.7.2\r\n",
      "tokenizers                     0.10.3\r\n",
      "toml                           0.10.2\r\n",
      "toolz                          0.11.1\r\n",
      "torch                          1.7.0\r\n",
      "torchaudio                     0.7.0a0+ac17b64\r\n",
      "torchmetrics                   0.4.1\r\n",
      "torchtext                      0.8.0a0+cd6902d\r\n",
      "torchvision                    0.8.1\r\n",
      "tornado                        6.1\r\n",
      "TPOT                           0.11.7\r\n",
      "tqdm                           4.61.1\r\n",
      "traitlets                      5.0.5\r\n",
      "traittypes                     0.2.1\r\n",
      "transformers                   4.6.1\r\n",
      "trueskill                      0.4.5\r\n",
      "tsfresh                        0.18.0\r\n",
      "Twisted                        21.2.0\r\n",
      "txaio                          21.2.1\r\n",
      "typed-ast                      1.4.3\r\n",
      "typeguard                      2.12.1\r\n",
      "typing-extensions              3.7.4.3\r\n",
      "typing-inspect                 0.7.1\r\n",
      "tzlocal                        2.1\r\n",
      "ujson                          4.0.2\r\n",
      "umap-learn                     0.5.1\r\n",
      "Unidecode                      1.2.0\r\n",
      "update-checker                 0.18.0\r\n",
      "uritemplate                    3.0.1\r\n",
      "urllib3                        1.26.5\r\n",
      "urwid                          2.1.2\r\n",
      "vecstack                       0.4.0\r\n",
      "visions                        0.7.1\r\n",
      "vowpalwabbit                   8.10.2\r\n",
      "vtk                            9.0.3\r\n",
      "Wand                           0.6.6\r\n",
      "wandb                          0.10.33\r\n",
      "wasabi                         0.8.2\r\n",
      "wavio                          0.0.4\r\n",
      "wcwidth                        0.2.5\r\n",
      "webencodings                   0.5.1\r\n",
      "websocket-client               0.57.0\r\n",
      "Werkzeug                       2.0.1\r\n",
      "wfdb                           3.4.0\r\n",
      "wheel                          0.36.2\r\n",
      "whichcraft                     0.6.1\r\n",
      "widgetsnbextension             3.5.1\r\n",
      "Wordbatch                      1.4.8\r\n",
      "wordcloud                      1.8.1\r\n",
      "wordsegment                    1.3.1\r\n",
      "wrapt                          1.12.1\r\n",
      "wslink                         0.2.0\r\n",
      "xarray                         0.18.2\r\n",
      "xgboost                        1.4.2\r\n",
      "xvfbwrapper                    0.2.9\r\n",
      "yacs                           0.1.8\r\n",
      "yarl                           1.6.3\r\n",
      "yellowbrick                    1.3.post1\r\n",
      "zc.lockfile                    2.0\r\n",
      "zict                           2.0.0\r\n",
      "zipp                           3.4.1\r\n",
      "zope.interface                 5.4.0\r\n"
     ]
    }
   ],
   "source": [
    "!pip list"
   ]
  },
  {
   "cell_type": "markdown",
   "id": "df8ec3c7",
   "metadata": {
    "papermill": {
     "duration": 4.200079,
     "end_time": "2021-09-01T21:19:43.439421",
     "exception": false,
     "start_time": "2021-09-01T21:19:39.239342",
     "status": "completed"
    },
    "tags": []
   },
   "source": [
    "---"
   ]
  }
 ],
 "metadata": {
  "kernelspec": {
   "display_name": "Python 3",
   "language": "python",
   "name": "python3"
  },
  "language_info": {
   "codemirror_mode": {
    "name": "ipython",
    "version": 3
   },
   "file_extension": ".py",
   "mimetype": "text/x-python",
   "name": "python",
   "nbconvert_exporter": "python",
   "pygments_lexer": "ipython3",
   "version": "3.7.10"
  },
  "papermill": {
   "default_parameters": {},
   "duration": 1065.707152,
   "end_time": "2021-09-01T21:19:50.337707",
   "environment_variables": {},
   "exception": null,
   "input_path": "__notebook__.ipynb",
   "output_path": "__notebook__.ipynb",
   "parameters": {},
   "start_time": "2021-09-01T21:02:04.630555",
   "version": "2.3.3"
  }
 },
 "nbformat": 4,
 "nbformat_minor": 5
}
