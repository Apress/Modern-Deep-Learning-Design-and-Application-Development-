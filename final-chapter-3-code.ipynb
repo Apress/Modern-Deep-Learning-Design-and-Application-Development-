{
 "cells": [
  {
   "cell_type": "markdown",
   "id": "massive-agriculture",
   "metadata": {
    "papermill": {
     "duration": 0.036631,
     "end_time": "2021-08-30T23:31:43.102082",
     "exception": false,
     "start_time": "2021-08-30T23:31:43.065451",
     "status": "completed"
    },
    "tags": []
   },
   "source": [
    "# Chapter 3 Code\n",
    "\n",
    "Covers code for Chapter 3, \"The Versatility of Autoencoders\", of *Modern Deep Learning Design and Application*. *Note: the notebook is designed to run sequentially; some variables may be not defined if you run cells out of order.*"
   ]
  },
  {
   "cell_type": "markdown",
   "id": "private-ultimate",
   "metadata": {
    "papermill": {
     "duration": 0.033344,
     "end_time": "2021-08-30T23:31:43.169896",
     "exception": false,
     "start_time": "2021-08-30T23:31:43.136552",
     "status": "completed"
    },
    "tags": []
   },
   "source": [
    "---"
   ]
  },
  {
   "cell_type": "markdown",
   "id": "continuing-confidence",
   "metadata": {
    "papermill": {
     "duration": 0.033388,
     "end_time": "2021-08-30T23:31:43.237127",
     "exception": false,
     "start_time": "2021-08-30T23:31:43.203739",
     "status": "completed"
    },
    "tags": []
   },
   "source": [
    "## Installing + Importing Libraries"
   ]
  },
  {
   "cell_type": "code",
   "execution_count": 1,
   "id": "satisfied-consequence",
   "metadata": {
    "execution": {
     "iopub.execute_input": "2021-08-30T23:31:43.317617Z",
     "iopub.status.busy": "2021-08-30T23:31:43.316897Z",
     "iopub.status.idle": "2021-08-30T23:31:50.758341Z",
     "shell.execute_reply": "2021-08-30T23:31:50.757364Z",
     "shell.execute_reply.started": "2021-08-30T23:24:52.002810Z"
    },
    "papermill": {
     "duration": 7.487166,
     "end_time": "2021-08-30T23:31:50.758511",
     "exception": false,
     "start_time": "2021-08-30T23:31:43.271345",
     "status": "completed"
    },
    "tags": []
   },
   "outputs": [],
   "source": [
    "# array processing + math\n",
    "import numpy as np\n",
    "import pandas as pd\n",
    "import scipy\n",
    "import math\n",
    "import sklearn\n",
    "\n",
    "# plotting & visuals\n",
    "import matplotlib.pyplot as plt\n",
    "import seaborn as sns\n",
    "import cv2\n",
    "\n",
    "# looping - very helpful for data manpulation scripts\n",
    "from tqdm.notebook import tqdm\n",
    "\n",
    "# deep learning staple libraries\n",
    "# !pip install tensorflow # install if necessary\n",
    "import sklearn\n",
    "import tensorflow as tf\n",
    "from tensorflow import keras\n",
    "\n",
    "# keras specifics\n",
    "import keras.layers as L\n",
    "import keras.backend as K\n",
    "from keras.utils import plot_model"
   ]
  },
  {
   "cell_type": "markdown",
   "id": "interested-complement",
   "metadata": {
    "papermill": {
     "duration": 0.034009,
     "end_time": "2021-08-30T23:31:50.826357",
     "exception": false,
     "start_time": "2021-08-30T23:31:50.792348",
     "status": "completed"
    },
    "tags": []
   },
   "source": [
    "---"
   ]
  },
  {
   "cell_type": "markdown",
   "id": "cleared-nothing",
   "metadata": {
    "papermill": {
     "duration": 0.033232,
     "end_time": "2021-08-30T23:31:50.893207",
     "exception": false,
     "start_time": "2021-08-30T23:31:50.859975",
     "status": "completed"
    },
    "tags": []
   },
   "source": [
    "## Loading Chapter Dataset\n",
    "\n",
    "The chapter dataset is custom-modified version of the Stanford dogs and cats dataset.\n",
    "\n",
    "Download the `zipped_dogs_cats_data.zip` file and load it using the below script. This reads in data from the data and converts it into a TensorFlow dataset. The `max_lim` variable allows you to specify the number of data instances for each gender in the dataset.\n",
    "\n",
    "You can use this dummy dataset to perform pretraining."
   ]
  },
  {
   "cell_type": "code",
   "execution_count": 2,
   "id": "leading-september",
   "metadata": {
    "_cell_guid": "b1076dfc-b9ad-4769-8c92-a6c4dae69d19",
    "_uuid": "8f2839f25d086af736a60e9eeb907d3b93b6e0e5",
    "execution": {
     "iopub.execute_input": "2021-08-30T23:31:50.979224Z",
     "iopub.status.busy": "2021-08-30T23:31:50.974484Z",
     "iopub.status.idle": "2021-08-30T23:32:05.295978Z",
     "shell.execute_reply": "2021-08-30T23:32:05.294793Z",
     "shell.execute_reply.started": "2021-08-30T23:25:39.959819Z"
    },
    "papermill": {
     "duration": 14.369491,
     "end_time": "2021-08-30T23:32:05.296141",
     "exception": false,
     "start_time": "2021-08-30T23:31:50.926650",
     "status": "completed"
    },
    "tags": []
   },
   "outputs": [],
   "source": [
    "image_directories, labels = [], []\n",
    "\n",
    "num_cats, num_dogs = 0, 0\n",
    "max_lim = 5000\n",
    "\n",
    "import os\n",
    "for dirname, _, filenames in os.walk('/kaggle/input'):\n",
    "    for filename in filenames:\n",
    "        if dirname == '/kaggle/input/dogs-and-cats-dataset/data/cat' and num_cats != max_lim:\n",
    "            image_directories.append(os.path.join(dirname, filename))\n",
    "            labels.append(0)\n",
    "            num_cats += 1\n",
    "            \n",
    "        elif dirname == '/kaggle/input/dogs-and-cats-dataset/data/dog' and num_dogs != max_lim:\n",
    "            image_directories.append(os.path.join(dirname, filename))\n",
    "            labels.append(1)\n",
    "            num_dogs += 1\n",
    "            \n",
    "    if num_cats == max_lim and num_dogs == max_lim: break\n",
    "\n",
    "arr = np.array(list(zip(image_directories, labels)))\n",
    "np.random.shuffle(arr)\n",
    "unparsed = tf.data.Dataset.from_tensor_slices((arr[:,0],arr[:,1].astype(np.int)))\n",
    "\n",
    "def parse_files(filename, label): \n",
    "    raw_image = tf.io.read_file(filename) \n",
    "    image = tf.image.decode_png(raw_image, channels=3) \n",
    "    image = tf.image.convert_image_dtype(image, tf.float32)\n",
    "    image = tf.image.resize(image, [64,64]) \n",
    "    return image, label \n",
    "\n",
    "data = unparsed.map(parse_files)\n",
    "data = data.batch(8)\n",
    "\n",
    "def ae_parse_files(filename, label): \n",
    "    raw_image = tf.io.read_file(filename) \n",
    "    image = tf.image.decode_png(raw_image, channels=3) \n",
    "    image = tf.image.convert_image_dtype(image, tf.float32)\n",
    "    image = tf.image.resize(image, [64,64]) \n",
    "    return image, image \n",
    "\n",
    "ae_data = unparsed.map(ae_parse_files)\n",
    "ae_data = ae_data.batch(8)"
   ]
  },
  {
   "cell_type": "markdown",
   "id": "cooperative-maker",
   "metadata": {
    "papermill": {
     "duration": 0.035776,
     "end_time": "2021-08-30T23:32:05.365831",
     "exception": false,
     "start_time": "2021-08-30T23:32:05.330055",
     "status": "completed"
    },
    "tags": []
   },
   "source": [
    "---"
   ]
  },
  {
   "cell_type": "markdown",
   "id": "continuing-matter",
   "metadata": {
    "papermill": {
     "duration": 0.034259,
     "end_time": "2021-08-30T23:32:05.434166",
     "exception": false,
     "start_time": "2021-08-30T23:32:05.399907",
     "status": "completed"
    },
    "tags": []
   },
   "source": [
    "## Autoencoder Implementation Design"
   ]
  },
  {
   "cell_type": "markdown",
   "id": "superb-young",
   "metadata": {
    "papermill": {
     "duration": 0.033774,
     "end_time": "2021-08-30T23:32:05.502591",
     "exception": false,
     "start_time": "2021-08-30T23:32:05.468817",
     "status": "completed"
    },
    "tags": []
   },
   "source": [
    "### Autoencoders for Tabular Data"
   ]
  },
  {
   "cell_type": "markdown",
   "id": "exclusive-genius",
   "metadata": {
    "papermill": {
     "duration": 0.034215,
     "end_time": "2021-08-30T23:32:05.570992",
     "exception": false,
     "start_time": "2021-08-30T23:32:05.536777",
     "status": "completed"
    },
    "tags": []
   },
   "source": [
    "Generate structured-form data from MNIST data."
   ]
  },
  {
   "cell_type": "code",
   "execution_count": 3,
   "id": "bibliographic-story",
   "metadata": {
    "execution": {
     "iopub.execute_input": "2021-08-30T23:32:05.644199Z",
     "iopub.status.busy": "2021-08-30T23:32:05.643519Z",
     "iopub.status.idle": "2021-08-30T23:32:06.409462Z",
     "shell.execute_reply": "2021-08-30T23:32:06.408862Z",
     "shell.execute_reply.started": "2021-08-30T23:26:32.348171Z"
    },
    "papermill": {
     "duration": 0.804843,
     "end_time": "2021-08-30T23:32:06.409632",
     "exception": false,
     "start_time": "2021-08-30T23:32:05.604789",
     "status": "completed"
    },
    "tags": []
   },
   "outputs": [
    {
     "name": "stdout",
     "output_type": "stream",
     "text": [
      "Downloading data from https://storage.googleapis.com/tensorflow/tf-keras-datasets/mnist.npz\n",
      "11493376/11490434 [==============================] - 0s 0us/step\n"
     ]
    }
   ],
   "source": [
    "(x_train, y_train), (x_test, y_test) = keras.datasets.mnist.load_data()\n",
    "x_train = x_train.reshape(len(x_train),784)/255\n",
    "x_test = x_test.reshape(len(x_test),784)/255"
   ]
  },
  {
   "cell_type": "markdown",
   "id": "welcome-awareness",
   "metadata": {
    "papermill": {
     "duration": 0.034415,
     "end_time": "2021-08-30T23:32:06.479467",
     "exception": false,
     "start_time": "2021-08-30T23:32:06.445052",
     "status": "completed"
    },
    "tags": []
   },
   "source": [
    "Defining an autoencoder sequentially."
   ]
  },
  {
   "cell_type": "code",
   "execution_count": 4,
   "id": "numeric-surveillance",
   "metadata": {
    "execution": {
     "iopub.execute_input": "2021-08-30T23:32:06.557778Z",
     "iopub.status.busy": "2021-08-30T23:32:06.556897Z",
     "iopub.status.idle": "2021-08-30T23:32:17.484228Z",
     "shell.execute_reply": "2021-08-30T23:32:17.483524Z",
     "shell.execute_reply.started": "2021-08-30T23:26:33.368832Z"
    },
    "papermill": {
     "duration": 10.970146,
     "end_time": "2021-08-30T23:32:17.484390",
     "exception": false,
     "start_time": "2021-08-30T23:32:06.514244",
     "status": "completed"
    },
    "tags": []
   },
   "outputs": [
    {
     "name": "stdout",
     "output_type": "stream",
     "text": [
      "1875/1875 [==============================] - 10s 5ms/step - loss: 0.1856\n"
     ]
    },
    {
     "data": {
      "text/plain": [
       "<tensorflow.python.keras.callbacks.History at 0x7fd62b9f9910>"
      ]
     },
     "execution_count": 4,
     "metadata": {},
     "output_type": "execute_result"
    }
   ],
   "source": [
    "import keras.layers as L\n",
    "from keras.models import Sequential\n",
    "\n",
    "# define architecture\n",
    "model = Sequential()\n",
    "model.add(L.Input((784,)))\n",
    "model.add(L.Dense(256, activation='relu'))\n",
    "model.add(L.Dense(64, activation='relu'))\n",
    "model.add(L.Dense(32, activation='relu'))\n",
    "model.add(L.Dense(64, activation='relu'))\n",
    "model.add(L.Dense(256, activation='relu'))\n",
    "model.add(L.Dense(784, activation='sigmoid'))\n",
    "\n",
    "# compile\n",
    "model.compile(optimizer='adam',\n",
    "              loss='binary_crossentropy')\n",
    "\n",
    "# fit\n",
    "model.fit(x_train, x_train, epochs=1)\n",
    "\n",
    "# plot model\n",
    "# plot_model(ae, show_shapes=True)"
   ]
  },
  {
   "cell_type": "markdown",
   "id": "fitting-trigger",
   "metadata": {
    "papermill": {
     "duration": 0.092822,
     "end_time": "2021-08-30T23:32:17.672700",
     "exception": false,
     "start_time": "2021-08-30T23:32:17.579878",
     "status": "completed"
    },
    "tags": []
   },
   "source": [
    "Defining an autoencoder with compartmentalized design."
   ]
  },
  {
   "cell_type": "code",
   "execution_count": 5,
   "id": "willing-chemistry",
   "metadata": {
    "execution": {
     "iopub.execute_input": "2021-08-30T23:32:17.879790Z",
     "iopub.status.busy": "2021-08-30T23:32:17.877971Z",
     "iopub.status.idle": "2021-08-30T23:32:28.465126Z",
     "shell.execute_reply": "2021-08-30T23:32:28.465780Z",
     "shell.execute_reply.started": "2021-08-30T23:26:43.253134Z"
    },
    "papermill": {
     "duration": 10.699836,
     "end_time": "2021-08-30T23:32:28.466018",
     "exception": false,
     "start_time": "2021-08-30T23:32:17.766182",
     "status": "completed"
    },
    "tags": []
   },
   "outputs": [
    {
     "name": "stdout",
     "output_type": "stream",
     "text": [
      "1875/1875 [==============================] - 10s 5ms/step - loss: 0.1919\n"
     ]
    },
    {
     "data": {
      "text/plain": [
       "array([[ 6.524593 ,  2.6265604,  0.       ,  8.233377 ,  7.651691 ,\n",
       "         1.6475571, 13.561642 ,  6.422927 ,  6.61655  ,  0.       ,\n",
       "         2.5197434,  0.       ,  8.793349 ,  7.4959064,  6.2363844,\n",
       "         5.129163 ,  2.9555082,  8.353191 ,  8.515166 ,  4.4038424,\n",
       "         6.1644526,  0.       ,  6.70263  , 13.952887 ,  3.3447397,\n",
       "         6.7221   , 15.21405  ,  1.8237884,  5.0256553,  4.2876725,\n",
       "         0.       ,  0.       ]], dtype=float32)"
      ]
     },
     "execution_count": 5,
     "metadata": {},
     "output_type": "execute_result"
    }
   ],
   "source": [
    "from keras.models import Model\n",
    "\n",
    "# define architecture components\n",
    "encoder = Sequential(name='encoder')\n",
    "encoder.add(L.Input((784,)))\n",
    "encoder.add(L.Dense(256, activation='relu'))\n",
    "encoder.add(L.Dense(64, activation='relu'))\n",
    "encoder.add(L.Dense(32, activation='relu')) \n",
    "\n",
    "decoder = Sequential(name='decoder')\n",
    "decoder.add(L.Input((32,)))\n",
    "decoder.add(L.Dense(64, activation='relu'))\n",
    "decoder.add(L.Dense(256, activation='relu'))\n",
    "decoder.add(L.Dense(784, activation='sigmoid'))\n",
    "\n",
    "# define model archtitecutre from components\n",
    "ae_input = L.Input((784,), name='input')\n",
    "ae_encoder = encoder(ae_input)\n",
    "ae_decoder = decoder(ae_encoder)\n",
    "ae = Model(inputs = ae_input,\n",
    "           outputs = ae_decoder)\n",
    "\n",
    "# compile\n",
    "ae.compile(optimizer='adam',\n",
    "           loss='binary_crossentropy')\n",
    "\n",
    "# fit\n",
    "ae.fit(x_train, x_train, epochs=1)\n",
    "\n",
    "# plot model\n",
    "# plot_model(ae, show_shapes=True)\n",
    "\n",
    "# get encoder representation for one example input\n",
    "encoder.predict(x_train[0:1])"
   ]
  },
  {
   "cell_type": "markdown",
   "id": "raised-arthur",
   "metadata": {
    "papermill": {
     "duration": 0.148013,
     "end_time": "2021-08-30T23:32:28.763510",
     "exception": false,
     "start_time": "2021-08-30T23:32:28.615497",
     "status": "completed"
    },
    "tags": []
   },
   "source": [
    "### Autoencoders for Image Data"
   ]
  },
  {
   "cell_type": "markdown",
   "id": "rocky-error",
   "metadata": {
    "papermill": {
     "duration": 0.147236,
     "end_time": "2021-08-30T23:32:29.058288",
     "exception": false,
     "start_time": "2021-08-30T23:32:28.911052",
     "status": "completed"
    },
    "tags": []
   },
   "source": [
    "Convolutional autoencoder without pooling."
   ]
  },
  {
   "cell_type": "code",
   "execution_count": 6,
   "id": "laden-garlic",
   "metadata": {
    "execution": {
     "iopub.execute_input": "2021-08-30T23:32:29.373867Z",
     "iopub.status.busy": "2021-08-30T23:32:29.368111Z",
     "iopub.status.idle": "2021-08-30T23:36:37.308714Z",
     "shell.execute_reply": "2021-08-30T23:36:37.308002Z",
     "shell.execute_reply.started": "2021-08-29T21:45:59.888811Z"
    },
    "papermill": {
     "duration": 248.095675,
     "end_time": "2021-08-30T23:36:37.308881",
     "exception": false,
     "start_time": "2021-08-30T23:32:29.213206",
     "status": "completed"
    },
    "tags": []
   },
   "outputs": [
    {
     "name": "stdout",
     "output_type": "stream",
     "text": [
      "1249/1249 [==============================] - 248s 197ms/step - loss: 0.5875\n"
     ]
    },
    {
     "data": {
      "text/plain": [
       "<tensorflow.python.keras.callbacks.History at 0x7fd62825e850>"
      ]
     },
     "execution_count": 6,
     "metadata": {},
     "output_type": "execute_result"
    }
   ],
   "source": [
    "# define architecture components\n",
    "encoder = Sequential()\n",
    "encoder.add(L.Input((64, 64, 3)))\n",
    "encoder.add(L.Conv2D(8, (3, 3), activation='relu'))\n",
    "encoder.add(L.Conv2D(8, (3, 3), activation='relu'))\n",
    "encoder.add(L.Conv2D(16, (3, 3), activation='relu'))\n",
    "encoder.add(L.Conv2D(16, (3, 3), activation='relu'))\n",
    "encoder.add(L.Conv2D(32, (3, 3), activation='relu'))\n",
    "encoder.add(L.Conv2D(32, (3, 3), activation='relu'))\n",
    "\n",
    "decoder = Sequential()\n",
    "decoder.add(L.Input((52, 52, 32)))\n",
    "decoder.add(L.Conv2DTranspose(32, (3, 3), activation='relu'))\n",
    "decoder.add(L.Conv2DTranspose(32, (3, 3), activation='relu'))\n",
    "decoder.add(L.Conv2DTranspose(16, (3, 3), activation='relu'))\n",
    "decoder.add(L.Conv2DTranspose(16, (3, 3), activation='relu'))\n",
    "decoder.add(L.Conv2DTranspose(8, (3, 3), activation='relu'))\n",
    "decoder.add(L.Conv2DTranspose(8, (3, 3), activation='relu'))\n",
    "decoder.add(L.Conv2D(3, (1, 1), activation='sigmoid'))\n",
    "\n",
    "# define model archtitecture from components\n",
    "ae_input = L.Input((64,64,3), name='input')\n",
    "ae_encoder = encoder(ae_input)\n",
    "ae_decoder = decoder(ae_encoder)\n",
    "ae = Model(inputs = ae_input,\n",
    "           outputs = ae_decoder)\n",
    "\n",
    "# compile\n",
    "ae.compile(optimizer='adam',\n",
    "           loss='binary_crossentropy')\n",
    "\n",
    "# fit\n",
    "ae.fit(ae_data, epochs=1)\n",
    "\n",
    "# plot model\n",
    "# plot_model(ae, show_shapes=True)"
   ]
  },
  {
   "cell_type": "markdown",
   "id": "center-subscriber",
   "metadata": {
    "papermill": {
     "duration": 0.562487,
     "end_time": "2021-08-30T23:36:38.448002",
     "exception": false,
     "start_time": "2021-08-30T23:36:37.885515",
     "status": "completed"
    },
    "tags": []
   },
   "source": [
    "Convolutional autoencoder vector-bottleneck design"
   ]
  },
  {
   "cell_type": "code",
   "execution_count": 7,
   "id": "political-chester",
   "metadata": {
    "execution": {
     "iopub.execute_input": "2021-08-30T23:36:39.527481Z",
     "iopub.status.busy": "2021-08-30T23:36:39.526419Z",
     "iopub.status.idle": "2021-08-30T23:40:39.795193Z",
     "shell.execute_reply": "2021-08-30T23:40:39.794607Z",
     "shell.execute_reply.started": "2021-08-29T21:53:15.21694Z"
    },
    "papermill": {
     "duration": 240.818907,
     "end_time": "2021-08-30T23:40:39.795389",
     "exception": false,
     "start_time": "2021-08-30T23:36:38.976482",
     "status": "completed"
    },
    "tags": []
   },
   "outputs": [
    {
     "name": "stdout",
     "output_type": "stream",
     "text": [
      "1249/1249 [==============================] - 240s 191ms/step - loss: 1.0912\n"
     ]
    },
    {
     "data": {
      "text/plain": [
       "<tensorflow.python.keras.callbacks.History at 0x7fd60c358490>"
      ]
     },
     "execution_count": 7,
     "metadata": {},
     "output_type": "execute_result"
    }
   ],
   "source": [
    "# DEFINE ARCHITECTURAL COMPONENTS\n",
    "# encoder\n",
    "encoder = Sequential()\n",
    "encoder.add(L.Input((64, 64, 3)))\n",
    "\n",
    "#convolutional component\n",
    "encoder.add(L.Conv2D(8, (3,3)))\n",
    "encoder.add(L.Conv2D(16, (3,3))) \n",
    "\n",
    "#flattening and processing\n",
    "encoder.add(L.Flatten())\n",
    "encoder.add(L.Dense(256, activation='relu'))\n",
    "encoder.add(L.Dense(32))\n",
    "\n",
    "# decoder\n",
    "decoder = Sequential()\n",
    "decoder.add(L.Input((32,)))\n",
    "\n",
    "#processing and reshaping\n",
    "decoder.add(L.Dense(256, activation='relu')) \n",
    "decoder.add(L.Dense(57_600, activation='relu'))\n",
    "decoder.add(L.Reshape((60, 60, 16)))\n",
    "\n",
    "#applying transpose-convolutional layers\n",
    "decoder.add(L.Conv2DTranspose(16, (3,3)))\n",
    "decoder.add(L.Conv2DTranspose(8, (3,3)))\n",
    "decoder.add(L.Conv2D(3, (1,1)))\n",
    "\n",
    "# DEFINE MODEL ARCHITECTURE FROM COMPONENTS\n",
    "ae_input = L.Input((64,64,3), name='input')\n",
    "ae_encoder = encoder(ae_input)\n",
    "ae_decoder = decoder(ae_encoder)\n",
    "ae = Model(inputs = ae_input,\n",
    "           outputs = ae_decoder)\n",
    "\n",
    "# COMPILE\n",
    "ae.compile(optimizer='adam',\n",
    "           loss='binary_crossentropy')\n",
    "\n",
    "# FIT\n",
    "ae.fit(ae_data, epochs=1)\n",
    "\n",
    "# plot model\n",
    "# plot_model(ae, show_shapes=True)"
   ]
  },
  {
   "cell_type": "markdown",
   "id": "consolidated-light",
   "metadata": {
    "papermill": {
     "duration": 0.977989,
     "end_time": "2021-08-30T23:40:41.710031",
     "exception": false,
     "start_time": "2021-08-30T23:40:40.732042",
     "status": "completed"
    },
    "tags": []
   },
   "source": [
    "Convolutional autoencoder with pooling and padding."
   ]
  },
  {
   "cell_type": "code",
   "execution_count": 8,
   "id": "sensitive-nowhere",
   "metadata": {
    "execution": {
     "iopub.execute_input": "2021-08-30T23:40:43.540271Z",
     "iopub.status.busy": "2021-08-30T23:40:43.539486Z",
     "iopub.status.idle": "2021-08-30T23:42:07.416974Z",
     "shell.execute_reply": "2021-08-30T23:42:07.417584Z",
     "shell.execute_reply.started": "2021-08-29T22:25:45.949591Z"
    },
    "papermill": {
     "duration": 84.80918,
     "end_time": "2021-08-30T23:42:07.417801",
     "exception": false,
     "start_time": "2021-08-30T23:40:42.608621",
     "status": "completed"
    },
    "tags": []
   },
   "outputs": [
    {
     "name": "stdout",
     "output_type": "stream",
     "text": [
      "1249/1249 [==============================] - 83s 66ms/step - loss: 0.9351\n"
     ]
    },
    {
     "data": {
      "text/plain": [
       "<tensorflow.python.keras.callbacks.History at 0x7fd60c0b6090>"
      ]
     },
     "execution_count": 8,
     "metadata": {},
     "output_type": "execute_result"
    }
   ],
   "source": [
    "# DEFINE ARCHITECTURAL COMPONENTS\n",
    "# encoder\n",
    "encoder = Sequential(name='encoder')\n",
    "encoder.add(L.Input((64, 64, 3)))\n",
    "\n",
    "#convolutional component\n",
    "for i in range(3):\n",
    "    encoder.add(L.Conv2D(2**(i+3), (3,3),\n",
    "                padding='same'))\n",
    "    encoder.add(L.Conv2D(2**(i+3), (3,3),\n",
    "                padding='same'))\n",
    "    encoder.add(L.MaxPooling2D((2,2)))\n",
    "\n",
    "#flattening and processing\n",
    "encoder.add(L.Flatten())\n",
    "encoder.add(L.Dense(256, activation='relu'))\n",
    "encoder.add(L.Dense(32))\n",
    "\n",
    "# decoder\n",
    "decoder = Sequential(name='decoder')\n",
    "decoder.add(L.Input((32,)))\n",
    "\n",
    "#processing and reshaping\n",
    "decoder.add(L.Dense(256, activation='relu')) \n",
    "decoder.add(L.Dense(2048, activation='relu'))\n",
    "decoder.add(L.Reshape((8, 8, 32)))\n",
    "\n",
    "#applying transpose-convolutional layers\n",
    "for i in range(3):\n",
    "    decoder.add(L.UpSampling2D((2,2)))\n",
    "    decoder.add(L.Conv2DTranspose(2**(3-i), (3,3),\n",
    "                padding='same'))\n",
    "    decoder.add(L.Conv2DTranspose(2**(3-i), (3,3),\n",
    "                padding='same'))\n",
    "\n",
    "#adding additional layer to collapse channels\n",
    "decoder.add(L.Conv2D(3, (1,1)))\n",
    "\n",
    "# DEFINE MODEL ARCHITECTURE FROM COMPONENTS\n",
    "ae_input = L.Input((64,64,3), name='input')\n",
    "ae_encoder = encoder(ae_input)\n",
    "ae_decoder = decoder(ae_encoder)\n",
    "ae = Model(inputs = ae_input,\n",
    "           outputs = ae_decoder)\n",
    "\n",
    "# COMPILE\n",
    "ae.compile(optimizer='adam',\n",
    "           loss='binary_crossentropy')\n",
    "\n",
    "# FIT\n",
    "ae.fit(ae_data, epochs=1)\n",
    "\n",
    "# plot model\n",
    "# plot_model(ae, show_shapes=True)"
   ]
  },
  {
   "cell_type": "markdown",
   "id": "international-transport",
   "metadata": {
    "papermill": {
     "duration": 1.349055,
     "end_time": "2021-08-30T23:42:10.057835",
     "exception": false,
     "start_time": "2021-08-30T23:42:08.708780",
     "status": "completed"
    },
    "tags": []
   },
   "source": [
    "---"
   ]
  },
  {
   "cell_type": "markdown",
   "id": "renewable-black",
   "metadata": {
    "papermill": {
     "duration": 1.263187,
     "end_time": "2021-08-30T23:42:12.585828",
     "exception": false,
     "start_time": "2021-08-30T23:42:11.322641",
     "status": "completed"
    },
    "tags": []
   },
   "source": [
    "## Autoencoder Applications"
   ]
  },
  {
   "cell_type": "markdown",
   "id": "apparent-manchester",
   "metadata": {
    "papermill": {
     "duration": 1.256205,
     "end_time": "2021-08-30T23:42:15.108781",
     "exception": false,
     "start_time": "2021-08-30T23:42:13.852576",
     "status": "completed"
    },
    "tags": []
   },
   "source": [
    "### Using Autoencoders for Denoising"
   ]
  },
  {
   "cell_type": "markdown",
   "id": "given-pixel",
   "metadata": {
    "papermill": {
     "duration": 1.299827,
     "end_time": "2021-08-30T23:42:17.666797",
     "exception": false,
     "start_time": "2021-08-30T23:42:16.366970",
     "status": "completed"
    },
    "tags": []
   },
   "source": [
    "Inject noise into model via noise layer."
   ]
  },
  {
   "cell_type": "code",
   "execution_count": 9,
   "id": "chinese-defensive",
   "metadata": {
    "execution": {
     "iopub.execute_input": "2021-08-30T23:42:20.227674Z",
     "iopub.status.busy": "2021-08-30T23:42:20.226928Z",
     "iopub.status.idle": "2021-08-30T23:43:45.224219Z",
     "shell.execute_reply": "2021-08-30T23:43:45.224765Z",
     "shell.execute_reply.started": "2021-08-30T23:26:14.882153Z"
    },
    "papermill": {
     "duration": 86.296629,
     "end_time": "2021-08-30T23:43:45.225006",
     "exception": false,
     "start_time": "2021-08-30T23:42:18.928377",
     "status": "completed"
    },
    "tags": []
   },
   "outputs": [
    {
     "name": "stdout",
     "output_type": "stream",
     "text": [
      "1249/1249 [==============================] - 85s 67ms/step - loss: 0.6304\n"
     ]
    }
   ],
   "source": [
    "# define denoising autoencoder architecture\n",
    "ae_input = L.Input((64,64,3), name='input')\n",
    "ae_noising = L.GaussianNoise(0.1, name='noising')(ae_input)\n",
    "ae_encoder = encoder(ae_noising)\n",
    "ae_decoder = decoder(ae_encoder)\n",
    "ae = Model(inputs = ae_input,\n",
    "           outputs = ae_decoder)\n",
    "\n",
    "# compile\n",
    "ae.compile(optimizer='adam',\n",
    "           loss='binary_crossentropy')\n",
    "\n",
    "# fit\n",
    "ae.fit(ae_data, epochs=1)\n",
    "\n",
    "# extract noise-inducing layer\n",
    "final_dae_input = L.Input((64,64,3), name='input')\n",
    "final_dae_encoder = ae.get_layer('encoder')(final_dae_input)\n",
    "final_dae_decoder = ae.get_layer('decoder')(final_dae_encoder)\n",
    "final_dae = Model(inputs=final_dae_input,\n",
    "                  outputs=final_dae_decoder)"
   ]
  },
  {
   "cell_type": "markdown",
   "id": "widespread-statistics",
   "metadata": {
    "papermill": {
     "duration": 1.696682,
     "end_time": "2021-08-30T23:43:48.647651",
     "exception": false,
     "start_time": "2021-08-30T23:43:46.950969",
     "status": "completed"
    },
    "tags": []
   },
   "source": [
    "Inject noise into dataset via parsing function."
   ]
  },
  {
   "cell_type": "code",
   "execution_count": 10,
   "id": "judicial-eight",
   "metadata": {
    "execution": {
     "iopub.execute_input": "2021-08-30T23:43:52.052386Z",
     "iopub.status.busy": "2021-08-30T23:43:52.010775Z",
     "iopub.status.idle": "2021-08-30T23:45:18.085413Z",
     "shell.execute_reply": "2021-08-30T23:45:18.084777Z",
     "shell.execute_reply.started": "2021-08-29T22:04:13.701979Z"
    },
    "papermill": {
     "duration": 87.763769,
     "end_time": "2021-08-30T23:45:18.085591",
     "exception": false,
     "start_time": "2021-08-30T23:43:50.321822",
     "status": "completed"
    },
    "tags": []
   },
   "outputs": [
    {
     "name": "stdout",
     "output_type": "stream",
     "text": [
      "1249/1249 [==============================] - 86s 68ms/step - loss: 0.6139\n"
     ]
    },
    {
     "data": {
      "text/plain": [
       "<tensorflow.python.keras.callbacks.History at 0x7fd5d741d450>"
      ]
     },
     "execution_count": 10,
     "metadata": {},
     "output_type": "execute_result"
    }
   ],
   "source": [
    "# load data\n",
    "def dae_parse_file(filename, label):\n",
    "    raw_image = tf.io.read_file(filename) \n",
    "    image = tf.image.decode_png(raw_image, channels=3) \n",
    "    image = tf.image.convert_image_dtype(image, tf.float32)\n",
    "    orig_img = tf.image.resize(image, [64,64]) \n",
    "    rand_img = tf.image.random_brightness(orig_img, 0.01)\n",
    "    rand_img = tf.image.random_jpeg_quality(rand_img, 80, 100)\n",
    "    return rand_img, orig_img\n",
    "dae_data = unparsed.map(dae_parse_file)\n",
    "dae_data = dae_data.batch(8)\n",
    "\n",
    "# define architecture\n",
    "ae_input = L.Input((64,64,3), name='input')\n",
    "ae_encoder = encoder(ae_input)\n",
    "ae_decoder = decoder(ae_encoder)\n",
    "ae = Model(inputs = ae_input,\n",
    "           outputs = ae_decoder)\n",
    "\n",
    "# compile\n",
    "ae.compile(optimizer='adam',\n",
    "           loss='binary_crossentropy')\n",
    "\n",
    "# fit\n",
    "ae.fit(dae_data, epochs=1)"
   ]
  },
  {
   "cell_type": "markdown",
   "id": "fatty-heart",
   "metadata": {
    "papermill": {
     "duration": 2.155887,
     "end_time": "2021-08-30T23:45:22.341328",
     "exception": false,
     "start_time": "2021-08-30T23:45:20.185441",
     "status": "completed"
    },
    "tags": []
   },
   "source": [
    "Inject noise into dataset via Image Data Generator"
   ]
  },
  {
   "cell_type": "code",
   "execution_count": 11,
   "id": "athletic-messaging",
   "metadata": {
    "execution": {
     "iopub.execute_input": "2021-08-30T23:45:26.561997Z",
     "iopub.status.busy": "2021-08-30T23:45:26.561285Z",
     "iopub.status.idle": "2021-08-30T23:46:42.665970Z",
     "shell.execute_reply": "2021-08-30T23:46:42.666511Z",
     "shell.execute_reply.started": "2021-08-29T22:17:02.484474Z"
    },
    "papermill": {
     "duration": 78.23082,
     "end_time": "2021-08-30T23:46:42.666738",
     "exception": false,
     "start_time": "2021-08-30T23:45:24.435918",
     "status": "completed"
    },
    "tags": []
   },
   "outputs": [
    {
     "name": "stdout",
     "output_type": "stream",
     "text": [
      "Found 10000 images belonging to 2 classes.\n",
      "313/313 [==============================] - 75s 236ms/step - loss: 0.6027\n"
     ]
    },
    {
     "data": {
      "text/plain": [
       "<tensorflow.python.keras.callbacks.History at 0x7fd62ba59810>"
      ]
     },
     "execution_count": 11,
     "metadata": {},
     "output_type": "execute_result"
    }
   ],
   "source": [
    "# load data\n",
    "from keras.preprocessing.image import ImageDataGenerator\n",
    "idg = ImageDataGenerator(rescale=1./255) # use default augmentation params\n",
    "idg_flow = idg.flow_from_directory(\n",
    "    directory = '/kaggle/input/dogs-and-cats-dataset/data',\n",
    "    class_mode = 'input',\n",
    "    target_size = (64,64),\n",
    ")\n",
    "\n",
    "# define architecture\n",
    "ae_input = L.Input((None,None,3), name='input')\n",
    "ae_resize = L.experimental.preprocessing.Resizing\n",
    "ae_encoder = encoder(ae_input)\n",
    "ae_decoder = decoder(ae_encoder)\n",
    "ae = Model(inputs = ae_input,\n",
    "           outputs = ae_decoder)\n",
    "\n",
    "# compile\n",
    "ae.compile(optimizer='adam',\n",
    "           loss='binary_crossentropy')\n",
    "\n",
    "# fit\n",
    "ae.fit(idg_flow, epochs=1)"
   ]
  },
  {
   "cell_type": "markdown",
   "id": "included-advocacy",
   "metadata": {
    "papermill": {
     "duration": 2.11367,
     "end_time": "2021-08-30T23:46:46.918362",
     "exception": false,
     "start_time": "2021-08-30T23:46:44.804692",
     "status": "completed"
    },
    "tags": []
   },
   "source": [
    "### Using Autoencoders for Pretraining"
   ]
  },
  {
   "cell_type": "code",
   "execution_count": 12,
   "id": "pretty-claim",
   "metadata": {
    "execution": {
     "iopub.execute_input": "2021-08-30T23:46:51.192062Z",
     "iopub.status.busy": "2021-08-30T23:46:51.191379Z",
     "iopub.status.idle": "2021-08-30T23:47:07.119333Z",
     "shell.execute_reply": "2021-08-30T23:47:07.119820Z",
     "shell.execute_reply.started": "2021-08-30T23:26:22.612410Z"
    },
    "papermill": {
     "duration": 18.045812,
     "end_time": "2021-08-30T23:47:07.120157",
     "exception": false,
     "start_time": "2021-08-30T23:46:49.074345",
     "status": "completed"
    },
    "tags": []
   },
   "outputs": [
    {
     "name": "stdout",
     "output_type": "stream",
     "text": [
      "1875/1875 [==============================] - 10s 5ms/step - loss: 0.1919\n",
      "1875/1875 [==============================] - 5s 2ms/step - loss: 1.1017\n"
     ]
    },
    {
     "data": {
      "text/plain": [
       "<tensorflow.python.keras.callbacks.History at 0x7fd5d675c0d0>"
      ]
     },
     "execution_count": 12,
     "metadata": {},
     "output_type": "execute_result"
    }
   ],
   "source": [
    "# creating the encoder\n",
    "encoder = Sequential(name='encoder')\n",
    "encoder.add(L.Input((784,)))\n",
    "encoder.add(L.Dense(256, activation='relu'))\n",
    "encoder.add(L.Dense(64, activation='relu'))\n",
    "encoder.add(L.Dense(32, activation='relu'))\n",
    "\n",
    "# creating the decoder\n",
    "decoder = Sequential(name='decoder')\n",
    "decoder.add(L.Input((32,)))\n",
    "decoder.add(L.Dense(64, activation='relu'))\n",
    "decoder.add(L.Dense(256, activation='relu'))\n",
    "decoder.add(L.Dense(784, activation='sigmoid'))\n",
    "\n",
    "# creating the autoencoder\n",
    "ae_input = L.Input((784,), name='input')\n",
    "ae_noising = L.GaussianNoise(0.1, name='noising')(ae_input)\n",
    "ae_encoder = encoder(ae_noising)\n",
    "ae_decoder = decoder(ae_encoder)\n",
    "ae = Model(inputs = ae_input,\n",
    "           outputs = ae_decoder,\n",
    "           name='denoising-autoencoder')\n",
    "\n",
    "# compile\n",
    "ae.compile(optimizer='adam',\n",
    "           loss='binary_crossentropy')\n",
    "\n",
    "# fit on reshaped structured MNIST data\n",
    "ae.fit(x_train, x_train, epochs=1)\n",
    "\n",
    "# build submodel to process outputs of encoded features\n",
    "process = Sequential(name='processing')\n",
    "process.add(L.Input((32,)))\n",
    "process.add(L.Dense(16, activation='relu'))\n",
    "process.add(L.Dense(10, activation='sigmoid'))\n",
    "\n",
    "# overarching model for supervised task\n",
    "inp = L.Input((784,), name='input')\n",
    "encoding = encoder(inp)\n",
    "processing = process(encoding)\n",
    "ult_model = Model(inputs=inp,\n",
    "                  outputs=processing)\n",
    "\n",
    "# compile\n",
    "ult_model.compile(optimizer='adam',\n",
    "                  loss='sparse_categorical_crossentropy')\n",
    "\n",
    "# fit\n",
    "ult_model.fit(x_train, y_train, epochs=1)"
   ]
  },
  {
   "cell_type": "markdown",
   "id": "noble-payday",
   "metadata": {
    "papermill": {
     "duration": 2.251,
     "end_time": "2021-08-30T23:47:11.569450",
     "exception": false,
     "start_time": "2021-08-30T23:47:09.318450",
     "status": "completed"
    },
    "tags": []
   },
   "source": [
    "### Using Autoencoders for Dimensionality Reduction"
   ]
  },
  {
   "cell_type": "code",
   "execution_count": 13,
   "id": "educational-condition",
   "metadata": {
    "execution": {
     "iopub.execute_input": "2021-08-30T23:47:16.132620Z",
     "iopub.status.busy": "2021-08-30T23:47:16.131869Z",
     "iopub.status.idle": "2021-08-30T23:48:15.022016Z",
     "shell.execute_reply": "2021-08-30T23:48:15.021417Z",
     "shell.execute_reply.started": "2021-08-29T22:41:06.601Z"
    },
    "papermill": {
     "duration": 61.268001,
     "end_time": "2021-08-30T23:48:15.022180",
     "exception": false,
     "start_time": "2021-08-30T23:47:13.754179",
     "status": "completed"
    },
    "tags": []
   },
   "outputs": [
    {
     "name": "stdout",
     "output_type": "stream",
     "text": [
      "Epoch 1/5\n",
      "1875/1875 [==============================] - 12s 6ms/step - loss: 0.1880\n",
      "Epoch 2/5\n",
      "1875/1875 [==============================] - 11s 6ms/step - loss: 0.1237\n",
      "Epoch 3/5\n",
      "1875/1875 [==============================] - 11s 6ms/step - loss: 0.1139\n",
      "Epoch 4/5\n",
      "1875/1875 [==============================] - 11s 6ms/step - loss: 0.1105\n",
      "Epoch 5/5\n",
      "1875/1875 [==============================] - 11s 6ms/step - loss: 0.1078\n"
     ]
    }
   ],
   "source": [
    "# define components\n",
    "encoder = Sequential(name='encoder')\n",
    "encoder.add(L.Input((784,)))\n",
    "encoder.add(L.Dense(256, activation='selu'))\n",
    "encoder.add(L.Dense(128, activation='selu'))\n",
    "encoder.add(L.Dense(64, activation='selu'))\n",
    "encoder.add(L.Dense(32, activation='selu'))\n",
    "encoder.add(L.Dense(20, activation='selu')) \n",
    "\n",
    "decoder = Sequential(name='decoder')\n",
    "decoder.add(L.Input((20,)))\n",
    "decoder.add(L.Dense(32, activation='selu'))\n",
    "decoder.add(L.Dense(64, activation='selu'))\n",
    "decoder.add(L.Dense(128, activation='selu'))\n",
    "decoder.add(L.Dense(256, activation='selu'))\n",
    "decoder.add(L.Dense(784, activation='sigmoid'))\n",
    "\n",
    "# define model archtitecture from components\n",
    "ae_input = L.Input((784,), name='input')\n",
    "ae_encoder = encoder(ae_input)\n",
    "ae_decoder = decoder(ae_encoder)\n",
    "ae = Model(inputs = ae_input,\n",
    "           outputs = ae_decoder)\n",
    "\n",
    "# compile\n",
    "ae.compile(optimizer='adam',\n",
    "           loss='binary_crossentropy')\n",
    "\n",
    "# fit\n",
    "ae.fit(x_train, x_train, epochs=5)\n",
    "\n",
    "# visualize reductions\n",
    "pred = encoder.predict(x_train)"
   ]
  },
  {
   "cell_type": "markdown",
   "id": "satellite-summit",
   "metadata": {
    "papermill": {
     "duration": 2.517701,
     "end_time": "2021-08-30T23:48:20.054017",
     "exception": false,
     "start_time": "2021-08-30T23:48:17.536316",
     "status": "completed"
    },
    "tags": []
   },
   "source": [
    "Visualize dimensionality reduction even further with t-SNE. (Using only autoencoders for visualization is likely not a good idea because performance will be too poor for the visualization to mean anything.) Autoencoder learns to visibly separate images into distinct clusters."
   ]
  },
  {
   "cell_type": "code",
   "execution_count": 14,
   "id": "second-physiology",
   "metadata": {
    "execution": {
     "iopub.execute_input": "2021-08-30T23:48:25.176670Z",
     "iopub.status.busy": "2021-08-30T23:48:25.176008Z",
     "iopub.status.idle": "2021-08-30T23:58:41.707851Z",
     "shell.execute_reply": "2021-08-30T23:58:41.708410Z",
     "shell.execute_reply.started": "2021-08-29T22:43:29.079682Z"
    },
    "papermill": {
     "duration": 619.048352,
     "end_time": "2021-08-30T23:58:41.708603",
     "exception": false,
     "start_time": "2021-08-30T23:48:22.660251",
     "status": "completed"
    },
    "tags": []
   },
   "outputs": [
    {
     "data": {
      "image/png": "[encoded data removed]",
      "text/plain": [
       "<Figure size 720x720 with 1 Axes>"
      ]
     },
     "metadata": {
      "needs_background": "light"
     },
     "output_type": "display_data"
    }
   ],
   "source": [
    "from sklearn import manifold\n",
    "reductions = manifold.TSNE().fit_transform(pred)\n",
    "plt.figure(figsize=(10,10))\n",
    "plt.scatter(reductions[:,0], reductions[:,1], color='black', alpha=0.1)\n",
    "plt.show()"
   ]
  },
  {
   "cell_type": "markdown",
   "id": "paperback-joshua",
   "metadata": {
    "papermill": {
     "duration": 2.561561,
     "end_time": "2021-08-30T23:58:46.954032",
     "exception": false,
     "start_time": "2021-08-30T23:58:44.392471",
     "status": "completed"
    },
    "tags": []
   },
   "source": [
    "### Using Autoencoders for Feature Generation"
   ]
  },
  {
   "cell_type": "markdown",
   "id": "civil-pottery",
   "metadata": {
    "papermill": {
     "duration": 2.545023,
     "end_time": "2021-08-30T23:58:52.151828",
     "exception": false,
     "start_time": "2021-08-30T23:58:49.606805",
     "status": "completed"
    },
    "tags": []
   },
   "source": [
    "Simpler feature generation architecture."
   ]
  },
  {
   "cell_type": "code",
   "execution_count": 15,
   "id": "approved-challenge",
   "metadata": {
    "execution": {
     "iopub.execute_input": "2021-08-30T23:58:57.338857Z",
     "iopub.status.busy": "2021-08-30T23:58:57.337912Z",
     "iopub.status.idle": "2021-08-30T23:59:07.292399Z",
     "shell.execute_reply": "2021-08-30T23:59:07.291141Z",
     "shell.execute_reply.started": "2021-08-30T23:27:12.775389Z"
    },
    "papermill": {
     "duration": 12.579576,
     "end_time": "2021-08-30T23:59:07.292576",
     "exception": false,
     "start_time": "2021-08-30T23:58:54.713000",
     "status": "completed"
    },
    "tags": []
   },
   "outputs": [
    {
     "name": "stdout",
     "output_type": "stream",
     "text": [
      "1875/1875 [==============================] - 10s 5ms/step - loss: 0.3077\n"
     ]
    },
    {
     "data": {
      "text/plain": [
       "<tensorflow.python.keras.callbacks.History at 0x7fd5ceafe750>"
      ]
     },
     "execution_count": 15,
     "metadata": {},
     "output_type": "execute_result"
    }
   ],
   "source": [
    "# build feature concatenation model\n",
    "inp = L.Input((784,))\n",
    "encoding = encoder(inp)\n",
    "merge = L.Concatenate()([inp, encoding])\n",
    "dense1 = L.Dense(256, activation='relu')(merge)\n",
    "dense2 = L.Dense(64, activation='relu')(dense1)\n",
    "output = L.Dense(10, activation='softmax')(dense2)\n",
    "model = Model(inputs=inp, outputs=output)\n",
    "\n",
    "# lock encoder trainability\n",
    "encoding.trainable = False\n",
    "\n",
    "# compile + train\n",
    "model.compile(optimizer='adam',\n",
    "              loss='sparse_categorical_crossentropy')\n",
    "model.fit(x_train, y_train, epochs=1)"
   ]
  },
  {
   "cell_type": "markdown",
   "id": "wooden-generator",
   "metadata": {
    "papermill": {
     "duration": 2.667488,
     "end_time": "2021-08-30T23:59:12.594601",
     "exception": false,
     "start_time": "2021-08-30T23:59:09.927113",
     "status": "completed"
    },
    "tags": []
   },
   "source": [
    "Complex feature generation architecture."
   ]
  },
  {
   "cell_type": "code",
   "execution_count": 16,
   "id": "prostate-change",
   "metadata": {
    "execution": {
     "iopub.execute_input": "2021-08-30T23:59:17.973212Z",
     "iopub.status.busy": "2021-08-30T23:59:17.972438Z",
     "iopub.status.idle": "2021-08-30T23:59:27.838800Z",
     "shell.execute_reply": "2021-08-30T23:59:27.837386Z",
     "shell.execute_reply.started": "2021-08-30T23:27:22.069427Z"
    },
    "papermill": {
     "duration": 12.494604,
     "end_time": "2021-08-30T23:59:27.839014",
     "exception": false,
     "start_time": "2021-08-30T23:59:15.344410",
     "status": "completed"
    },
    "tags": []
   },
   "outputs": [
    {
     "name": "stdout",
     "output_type": "stream",
     "text": [
      "1875/1875 [==============================] - 10s 5ms/step - loss: 0.2304\n"
     ]
    },
    {
     "data": {
      "text/plain": [
       "<tensorflow.python.keras.callbacks.History at 0x7fd5cc998e50>"
      ]
     },
     "execution_count": 16,
     "metadata": {},
     "output_type": "execute_result"
    }
   ],
   "source": [
    "inp = L.Input((784,))\n",
    "encoding = encoder(inp)\n",
    "\n",
    "# processing the input independently\n",
    "p_inp_1 = L.Dense(256, activation='relu')(inp)\n",
    "p_inp_2 = L.Dense(128, activation='relu')(p_inp_1)\n",
    "\n",
    "# processing the encoder output independently\n",
    "p_encoding_1 = L.Dense(32, activation='relu')(encoding)\n",
    "p_encoding_2 = L.Dense(32, activation='relu')(p_encoding_1)\n",
    "\n",
    "# merge and process\n",
    "merge = L.Concatenate()([p_inp_2,\n",
    "                         p_encoding_2])\n",
    "dense1 = L.Dense(256, activation='relu')(merge)\n",
    "dense2 = L.Dense(64, activation='relu')(dense1)\n",
    "output = L.Dense(10, activation='softmax')(dense2)\n",
    "\n",
    "# aggregate into model\n",
    "model = Model(inputs=inp, outputs=output)\n",
    "\n",
    "# freeze encoder weights\n",
    "encoding.trainable = False\n",
    "\n",
    "# compile + train\n",
    "model.compile(optimizer='adam',\n",
    "              loss='sparse_categorical_crossentropy')\n",
    "model.fit(x_train, y_train, epochs=1)"
   ]
  },
  {
   "cell_type": "markdown",
   "id": "medieval-lithuania",
   "metadata": {
    "papermill": {
     "duration": 2.751837,
     "end_time": "2021-08-30T23:59:33.273356",
     "exception": false,
     "start_time": "2021-08-30T23:59:30.521519",
     "status": "completed"
    },
    "tags": []
   },
   "source": [
    "### Using Variational Autoencoders for Data Generation"
   ]
  },
  {
   "cell_type": "code",
   "execution_count": 17,
   "id": "fresh-premium",
   "metadata": {
    "execution": {
     "iopub.execute_input": "2021-08-30T23:59:38.652414Z",
     "iopub.status.busy": "2021-08-30T23:59:38.648365Z",
     "iopub.status.idle": "2021-08-31T00:00:41.075174Z",
     "shell.execute_reply": "2021-08-31T00:00:41.074502Z",
     "shell.execute_reply.started": "2021-08-30T23:27:30.498419Z"
    },
    "papermill": {
     "duration": 65.136138,
     "end_time": "2021-08-31T00:00:41.075333",
     "exception": false,
     "start_time": "2021-08-30T23:59:35.939195",
     "status": "completed"
    },
    "tags": []
   },
   "outputs": [
    {
     "name": "stdout",
     "output_type": "stream",
     "text": [
      "Epoch 1/5\n",
      "1875/1875 [==============================] - 12s 6ms/step - loss: 0.3887\n",
      "Epoch 2/5\n",
      "1875/1875 [==============================] - 12s 6ms/step - loss: 0.2547\n",
      "Epoch 3/5\n",
      "1875/1875 [==============================] - 14s 7ms/step - loss: 0.2479\n",
      "Epoch 4/5\n",
      "1875/1875 [==============================] - 12s 6ms/step - loss: 0.2465\n",
      "Epoch 5/5\n",
      "1875/1875 [==============================] - 12s 6ms/step - loss: 0.2460\n"
     ]
    },
    {
     "data": {
      "text/plain": [
       "<tensorflow.python.keras.callbacks.History at 0x7fd5cbf8f910>"
      ]
     },
     "execution_count": 17,
     "metadata": {},
     "output_type": "execute_result"
    }
   ],
   "source": [
    "# encoder\n",
    "enc_inputs = L.Input((784,), name='input')\n",
    "enc_dense1 = L.Dense(256, activation='relu',\n",
    "                     name='dense1')(enc_inputs)\n",
    "enc_dense2 = L.Dense(128, activation='relu',                 \n",
    "                     name='dense2')(enc_dense1)\n",
    "means = L.Dense(32, name='means')(enc_dense2)\n",
    "log_stds = L.Dense(32, name='log-stds')(enc_dense2)\n",
    "\n",
    "def sampling(args):\n",
    "    means, log_stds = args\n",
    "    eps = tf.random.normal(shape=(tf.shape(means)[0], 32),\n",
    "                           mean=0, stddev=0.15)\n",
    "    return means + tf.exp(log_stds) * eps\n",
    "\n",
    "x = L.Lambda(sampling, name='sampling')([means, log_stds])\n",
    "\n",
    "encoder = keras.Model(inputs=enc_inputs, \n",
    "                      outputs=[means, log_stds, x],\n",
    "                      name='encoder')\n",
    "\n",
    "# decoder\n",
    "dec_inputs = L.Input((32,), name='input')\n",
    "dec_dense1 = L.Dense(128, activation='relu',               \n",
    "                     name='dense1')(dec_inputs)\n",
    "dec_dense2 = L.Dense(256, activation='relu',\n",
    "                     name='dense2')(dec_dense1)\n",
    "output = L.Dense(784, activation='sigmoid',\n",
    "                 name='output')(dec_dense2)\n",
    "decoder = keras.Model(inputs=dec_inputs, \n",
    "                      outputs=output, \n",
    "                      name='decoder')\n",
    "\n",
    "# construct vae\n",
    "vae_inputs = enc_inputs\n",
    "encoded = encoder(vae_inputs)\n",
    "decoded = decoder(encoded[2])\n",
    "vae = keras.Model(inputs=vae_inputs, \n",
    "                  outputs=decoded,\n",
    "                  name='vae')\n",
    "\n",
    "# build loss function\n",
    "from keras.losses import binary_crossentropy\n",
    "reconst_loss = binary_crossentropy(vae_inputs, decoded)\n",
    "kl_loss = 1 + log_stds - tf.square(means) - tf.exp(log_stds)\n",
    "kl_loss = tf.square(tf.reduce_sum(kl_loss, axis=-1))\n",
    "vae_loss = tf.reduce_mean(reconst_loss + kl_loss)\n",
    "\n",
    "# compile model\n",
    "vae.add_loss(vae_loss)\n",
    "vae.compile(optimizer='adam')\n",
    "\n",
    "# fit\n",
    "vae.fit(x_train, x_train, epochs=5)"
   ]
  },
  {
   "cell_type": "markdown",
   "id": "organic-throw",
   "metadata": {
    "papermill": {
     "duration": 3.066344,
     "end_time": "2021-08-31T00:00:47.145666",
     "exception": false,
     "start_time": "2021-08-31T00:00:44.079322",
     "status": "completed"
    },
    "tags": []
   },
   "source": [
    "Demonstrate predictions."
   ]
  },
  {
   "cell_type": "code",
   "execution_count": 18,
   "id": "better-channel",
   "metadata": {
    "execution": {
     "iopub.execute_input": "2021-08-31T00:00:53.290314Z",
     "iopub.status.busy": "2021-08-31T00:00:53.289631Z",
     "iopub.status.idle": "2021-08-31T00:00:54.983740Z",
     "shell.execute_reply": "2021-08-31T00:00:54.983215Z",
     "shell.execute_reply.started": "2021-08-30T23:31:03.352012Z"
    },
    "papermill": {
     "duration": 4.785326,
     "end_time": "2021-08-31T00:00:54.983891",
     "exception": false,
     "start_time": "2021-08-31T00:00:50.198565",
     "status": "completed"
    },
    "tags": []
   },
   "outputs": [
    {
     "data": {
      "text/plain": [
       "<Figure size 432x288 with 0 Axes>"
      ]
     },
     "metadata": {},
     "output_type": "display_data"
    },
    {
     "data": {
      "image/png": "[encoded data removed]",
      "text/plain": [
       "<Figure size 216x216 with 1 Axes>"
      ]
     },
     "metadata": {
      "needs_background": "light"
     },
     "output_type": "display_data"
    },
    {
     "data": {
      "image/png": "[encoded data removed]",
      "text/plain": [
       "<Figure size 216x216 with 1 Axes>"
      ]
     },
     "metadata": {
      "needs_background": "light"
     },
     "output_type": "display_data"
    },
    {
     "data": {
      "image/png": "[encoded data removed]",
      "text/plain": [
       "<Figure size 216x216 with 1 Axes>"
      ]
     },
     "metadata": {
      "needs_background": "light"
     },
     "output_type": "display_data"
    },
    {
     "data": {
      "image/png": "[encoded data removed]",
      "text/plain": [
       "<Figure size 216x216 with 1 Axes>"
      ]
     },
     "metadata": {
      "needs_background": "light"
     },
     "output_type": "display_data"
    },
    {
     "data": {
      "image/png": "[encoded data removed]",
      "text/plain": [
       "<Figure size 216x216 with 1 Axes>"
      ]
     },
     "metadata": {
      "needs_background": "light"
     },
     "output_type": "display_data"
    },
    {
     "data": {
      "image/png": "[encoded data removed]",
      "text/plain": [
       "<Figure size 216x216 with 1 Axes>"
      ]
     },
     "metadata": {
      "needs_background": "light"
     },
     "output_type": "display_data"
    },
    {
     "data": {
      "image/png": "[encoded data removed]",
      "text/plain": [
       "<Figure size 216x216 with 1 Axes>"
      ]
     },
     "metadata": {
      "needs_background": "light"
     },
     "output_type": "display_data"
    },
    {
     "data": {
      "image/png": "[encoded data removed]",
      "text/plain": [
       "<Figure size 216x216 with 1 Axes>"
      ]
     },
     "metadata": {
      "needs_background": "light"
     },
     "output_type": "display_data"
    },
    {
     "data": {
      "image/png": "[encoded data removed]",
      "text/plain": [
       "<Figure size 216x216 with 1 Axes>"
      ]
     },
     "metadata": {
      "needs_background": "light"
     },
     "output_type": "display_data"
    },
    {
     "data": {
      "image/png": "[encoded data removed]",
      "text/plain": [
       "<Figure size 216x216 with 1 Axes>"
      ]
     },
     "metadata": {
      "needs_background": "light"
     },
     "output_type": "display_data"
    }
   ],
   "source": [
    "# generate base representation to\n",
    "rep = encoder.predict(x_test)[2][0]\n",
    "\n",
    "# show reconstructions by adding noise\n",
    "# better reconstructions come with more training\n",
    "plt.set_cmap('gray')\n",
    "for i in range(10):\n",
    "    plt.figure(figsize=(3,3))\n",
    "    arr = rep + np.random.normal(size=(32,))/3\n",
    "    img = decoder.predict(arr.reshape(1,32)).reshape(28,28)\n",
    "    plt.axis('off')\n",
    "    plt.imshow(img)"
   ]
  },
  {
   "cell_type": "markdown",
   "id": "differential-rubber",
   "metadata": {
    "papermill": {
     "duration": 3.119521,
     "end_time": "2021-08-31T00:01:01.164252",
     "exception": false,
     "start_time": "2021-08-31T00:00:58.044731",
     "status": "completed"
    },
    "tags": []
   },
   "source": [
    "---"
   ]
  },
  {
   "cell_type": "markdown",
   "id": "steady-tiffany",
   "metadata": {
    "papermill": {
     "duration": 3.046449,
     "end_time": "2021-08-31T00:01:07.295619",
     "exception": false,
     "start_time": "2021-08-31T00:01:04.249170",
     "status": "completed"
    },
    "tags": []
   },
   "source": [
    "## Case Study: TabNet"
   ]
  },
  {
   "cell_type": "markdown",
   "id": "central-wallet",
   "metadata": {
    "papermill": {
     "duration": 3.079804,
     "end_time": "2021-08-31T00:01:13.530706",
     "exception": false,
     "start_time": "2021-08-31T00:01:10.450902",
     "status": "completed"
    },
    "tags": []
   },
   "source": [
    "Install TabNet library."
   ]
  },
  {
   "cell_type": "code",
   "execution_count": 19,
   "id": "liable-ceramic",
   "metadata": {
    "execution": {
     "iopub.execute_input": "2021-08-31T00:01:19.727934Z",
     "iopub.status.busy": "2021-08-31T00:01:19.724471Z",
     "iopub.status.idle": "2021-08-31T00:01:28.546876Z",
     "shell.execute_reply": "2021-08-31T00:01:28.546292Z",
     "shell.execute_reply.started": "2021-08-29T23:12:38.576279Z"
    },
    "papermill": {
     "duration": 11.935812,
     "end_time": "2021-08-31T00:01:28.547040",
     "exception": false,
     "start_time": "2021-08-31T00:01:16.611228",
     "status": "completed"
    },
    "tags": []
   },
   "outputs": [
    {
     "name": "stdout",
     "output_type": "stream",
     "text": [
      "Collecting tabnet\r\n",
      "  Downloading tabnet-0.1.6-py2.py3-none-any.whl (16 kB)\r\n",
      "Installing collected packages: tabnet\r\n",
      "Successfully installed tabnet-0.1.6\r\n"
     ]
    }
   ],
   "source": [
    "!pip install tabnet"
   ]
  },
  {
   "cell_type": "code",
   "execution_count": 20,
   "id": "congressional-profile",
   "metadata": {
    "execution": {
     "iopub.execute_input": "2021-08-31T00:01:34.678041Z",
     "iopub.status.busy": "2021-08-31T00:01:34.677373Z",
     "iopub.status.idle": "2021-08-31T00:06:12.324436Z",
     "shell.execute_reply": "2021-08-31T00:06:12.324885Z"
    },
    "papermill": {
     "duration": 280.709548,
     "end_time": "2021-08-31T00:06:12.325102",
     "exception": false,
     "start_time": "2021-08-31T00:01:31.615554",
     "status": "completed"
    },
    "tags": []
   },
   "outputs": [
    {
     "name": "stdout",
     "output_type": "stream",
     "text": [
      "[TabNet]: 16 features will be used for decision steps.\n",
      "Epoch 1/5\n",
      "1875/1875 [==============================] - 61s 28ms/step - loss: 2.1054 - accuracy: 0.2353\n",
      "Epoch 2/5\n",
      "1875/1875 [==============================] - 53s 28ms/step - loss: 1.8070 - accuracy: 0.3600\n",
      "Epoch 3/5\n",
      "1875/1875 [==============================] - 54s 29ms/step - loss: 1.7030 - accuracy: 0.3832\n",
      "Epoch 4/5\n",
      "1875/1875 [==============================] - 55s 29ms/step - loss: 1.9494 - accuracy: 0.2898\n",
      "Epoch 5/5\n",
      "1875/1875 [==============================] - 55s 29ms/step - loss: 1.9462 - accuracy: 0.2946\n"
     ]
    },
    {
     "data": {
      "text/plain": [
       "<tensorflow.python.keras.callbacks.History at 0x7fd65c397110>"
      ]
     },
     "execution_count": 20,
     "metadata": {},
     "output_type": "execute_result"
    }
   ],
   "source": [
    "from tabnet import TabNetClassifier\n",
    "model = TabNetClassifier(feature_columns=None,\n",
    "                         num_classes=10,\n",
    "                         num_features=784,\n",
    "                         feature_dim=32,\n",
    "                         output_dim=16)\n",
    "model.compile(optimizer='adam',\n",
    "              loss='sparse_categorical_crossentropy',\n",
    "              metrics=['accuracy'])\n",
    "model.fit(x_train, y_train, epochs=5) # train for more epochs for better performance"
   ]
  },
  {
   "cell_type": "markdown",
   "id": "refined-adult",
   "metadata": {
    "papermill": {
     "duration": 4.683146,
     "end_time": "2021-08-31T00:06:21.523464",
     "exception": false,
     "start_time": "2021-08-31T00:06:16.840318",
     "status": "completed"
    },
    "tags": []
   },
   "source": [
    "---"
   ]
  },
  {
   "cell_type": "markdown",
   "id": "future-smoke",
   "metadata": {
    "papermill": {
     "duration": 4.48621,
     "end_time": "2021-08-31T00:06:30.530007",
     "exception": false,
     "start_time": "2021-08-31T00:06:26.043797",
     "status": "completed"
    },
    "tags": []
   },
   "source": [
    "## Versions\n",
    "\n",
    "See versions for all libraries used if you run into any errors."
   ]
  },
  {
   "cell_type": "code",
   "execution_count": 21,
   "id": "technical-contest",
   "metadata": {
    "execution": {
     "iopub.execute_input": "2021-08-31T00:06:39.574067Z",
     "iopub.status.busy": "2021-08-31T00:06:39.573117Z",
     "iopub.status.idle": "2021-08-31T00:06:41.492476Z",
     "shell.execute_reply": "2021-08-31T00:06:41.491924Z"
    },
    "papermill": {
     "duration": 6.410572,
     "end_time": "2021-08-31T00:06:41.492628",
     "exception": false,
     "start_time": "2021-08-31T00:06:35.082056",
     "status": "completed"
    },
    "tags": []
   },
   "outputs": [
    {
     "name": "stdout",
     "output_type": "stream",
     "text": [
      "Package                        Version             Location\r\n",
      "------------------------------ ------------------- --------------\r\n",
      "absl-py                        0.12.0\r\n",
      "adal                           1.2.6\r\n",
      "affine                         2.3.0\r\n",
      "aiobotocore                    1.3.0\r\n",
      "aiohttp                        3.7.4\r\n",
      "aiohttp-cors                   0.7.0\r\n",
      "aioitertools                   0.7.1\r\n",
      "aioredis                       1.3.1\r\n",
      "albumentations                 0.5.2\r\n",
      "alembic                        1.5.8\r\n",
      "allennlp                       2.3.0\r\n",
      "altair                         4.1.0\r\n",
      "annoy                          1.17.0\r\n",
      "ansiwrap                       0.8.4\r\n",
      "appdirs                        1.4.4\r\n",
      "argon2-cffi                    20.1.0\r\n",
      "arrow                          1.0.3\r\n",
      "arviz                          0.11.2\r\n",
      "asn1crypto                     1.4.0\r\n",
      "astunparse                     1.6.3\r\n",
      "async-generator                1.10\r\n",
      "async-timeout                  3.0.1\r\n",
      "attrs                          20.3.0\r\n",
      "audioread                      2.1.9\r\n",
      "autocfg                        0.0.8\r\n",
      "autogluon.core                 0.1.0\r\n",
      "autograd                       1.3\r\n",
      "Babel                          2.9.0\r\n",
      "backcall                       0.2.0\r\n",
      "backports.functools-lru-cache  1.6.3\r\n",
      "basemap                        1.2.1\r\n",
      "bayesian-optimization          1.2.0\r\n",
      "bayespy                        0.5.22\r\n",
      "bcrypt                         3.2.0\r\n",
      "binaryornot                    0.4.4\r\n",
      "biopython                      1.78\r\n",
      "black                          20.8b1\r\n",
      "bleach                         3.3.0\r\n",
      "blessings                      1.7\r\n",
      "blinker                        1.4\r\n",
      "blis                           0.7.4\r\n",
      "bokeh                          2.3.1\r\n",
      "Boruta                         0.3\r\n",
      "boto3                          1.17.53\r\n",
      "botocore                       1.20.53\r\n",
      "bq-helper                      0.4.1               /src/bq-helper\r\n",
      "bqplot                         0.12.25\r\n",
      "branca                         0.4.2\r\n",
      "brewer2mpl                     1.4.1\r\n",
      "brotlipy                       0.7.0\r\n",
      "cachetools                     4.2.1\r\n",
      "caip-notebooks-serverextension 1.0.0\r\n",
      "Cartopy                        0.18.0\r\n",
      "catalogue                      1.0.0\r\n",
      "catalyst                       21.4.1\r\n",
      "catboost                       0.25.1\r\n",
      "category-encoders              2.2.2\r\n",
      "certifi                        2020.12.5\r\n",
      "cesium                         0.9.12\r\n",
      "cffi                           1.14.5\r\n",
      "cftime                         1.4.1\r\n",
      "chardet                        4.0.0\r\n",
      "cleverhans                     3.0.1\r\n",
      "click                          7.1.2\r\n",
      "click-plugins                  1.1.1\r\n",
      "cliff                          3.7.0\r\n",
      "cligj                          0.7.1\r\n",
      "cloud-tpu-client               0.10\r\n",
      "cloudpickle                    1.6.0\r\n",
      "cmaes                          0.8.2\r\n",
      "cmd2                           1.5.0\r\n",
      "cmdstanpy                      0.9.5\r\n",
      "cmudict                        0.4.5\r\n",
      "colorama                       0.4.4\r\n",
      "colorcet                       2.0.6\r\n",
      "colorful                       0.5.4\r\n",
      "colorlog                       5.0.1\r\n",
      "colorlover                     0.3.0\r\n",
      "conda                          4.10.1\r\n",
      "conda-package-handling         1.7.2\r\n",
      "configparser                   5.0.2\r\n",
      "ConfigSpace                    0.4.18\r\n",
      "confuse                        1.4.0\r\n",
      "contextily                     1.1.0\r\n",
      "contextlib2                    0.6.0.post1\r\n",
      "convertdate                    2.3.2\r\n",
      "cookiecutter                   1.7.2\r\n",
      "cryptography                   3.4.7\r\n",
      "cufflinks                      0.17.3\r\n",
      "CVXcanon                       0.1.2\r\n",
      "cvxpy                          1.1.7\r\n",
      "cycler                         0.10.0\r\n",
      "cymem                          2.0.5\r\n",
      "cysignals                      1.10.3\r\n",
      "Cython                         0.29.23\r\n",
      "cytoolz                        0.11.0\r\n",
      "dask                           2021.4.0\r\n",
      "dataclasses                    0.6\r\n",
      "datashader                     0.12.1\r\n",
      "datashape                      0.5.2\r\n",
      "datatable                      0.11.1\r\n",
      "deap                           1.3.1\r\n",
      "decorator                      4.4.2\r\n",
      "decord                         0.5.2\r\n",
      "deepdish                       0.3.6\r\n",
      "defusedxml                     0.7.1\r\n",
      "Delorean                       1.0.0\r\n",
      "Deprecated                     1.2.12\r\n",
      "descartes                      1.1.0\r\n",
      "dill                           0.3.3\r\n",
      "dipy                           1.4.0\r\n",
      "distributed                    2021.4.0\r\n",
      "dlib                           19.22.0\r\n",
      "dm-tree                        0.1.6\r\n",
      "docker                         4.4.4\r\n",
      "docker-pycreds                 0.4.0\r\n",
      "docutils                       0.17.1\r\n",
      "earthengine-api                0.1.261\r\n",
      "easydev                        0.11.0\r\n",
      "easyocr                        1.3.0.1\r\n",
      "ecos                           2.0.7.post1\r\n",
      "eli5                           0.11.0\r\n",
      "emoji                          1.2.0\r\n",
      "en-core-web-lg                 2.3.1\r\n",
      "en-core-web-sm                 2.3.1\r\n",
      "entrypoints                    0.3\r\n",
      "ephem                          3.7.7.1\r\n",
      "essentia                       2.1b6.dev374\r\n",
      "fancyimpute                    0.5.5\r\n",
      "fastai                         2.3.0\r\n",
      "fastcore                       1.3.19\r\n",
      "fastprogress                   1.0.0\r\n",
      "fasttext                       0.9.2\r\n",
      "fbpca                          1.0\r\n",
      "fbprophet                      0.7.1\r\n",
      "feather-format                 0.4.1\r\n",
      "featuretools                   0.23.3\r\n",
      "filelock                       3.0.12\r\n",
      "Fiona                          1.8.18\r\n",
      "fitter                         1.3.0\r\n",
      "flake8                         3.9.1\r\n",
      "flashtext                      2.7\r\n",
      "Flask                          1.1.2\r\n",
      "flatbuffers                    1.12\r\n",
      "folium                         0.12.1\r\n",
      "fsspec                         0.8.7\r\n",
      "funcy                          1.15\r\n",
      "fury                           0.7.0\r\n",
      "future                         0.18.2\r\n",
      "fuzzywuzzy                     0.18.0\r\n",
      "gast                           0.3.3\r\n",
      "gatspy                         0.3\r\n",
      "gcsfs                          0.7.2\r\n",
      "GDAL                           3.2.1\r\n",
      "gensim                         4.0.1\r\n",
      "geographiclib                  1.50\r\n",
      "Geohash                        1.0\r\n",
      "geojson                        2.5.0\r\n",
      "geopandas                      0.9.0\r\n",
      "geoplot                        0.4.1\r\n",
      "geopy                          2.1.0\r\n",
      "geoviews                       1.9.1\r\n",
      "ggplot                         0.11.5\r\n",
      "gitdb                          4.0.7\r\n",
      "GitPython                      3.1.14\r\n",
      "gluoncv                        0.10.1.post0\r\n",
      "gluonnlp                       0.10.0\r\n",
      "google-api-core                1.26.2\r\n",
      "google-api-python-client       1.8.0\r\n",
      "google-auth                    1.26.1\r\n",
      "google-auth-httplib2           0.0.4\r\n",
      "google-auth-oauthlib           0.4.3\r\n",
      "google-cloud-aiplatform        0.6.0a1\r\n",
      "google-cloud-automl            1.0.1\r\n",
      "google-cloud-bigquery          2.2.0\r\n",
      "google-cloud-bigtable          1.4.0\r\n",
      "google-cloud-core              1.6.0\r\n",
      "google-cloud-dataproc          1.1.1\r\n",
      "google-cloud-datastore         1.12.0\r\n",
      "google-cloud-firestore         1.8.1\r\n",
      "google-cloud-kms               1.4.0\r\n",
      "google-cloud-language          2.0.0\r\n",
      "google-cloud-logging           1.15.1\r\n",
      "google-cloud-monitoring        1.1.0\r\n",
      "google-cloud-pubsub            1.7.0\r\n",
      "google-cloud-scheduler         1.3.0\r\n",
      "google-cloud-spanner           1.17.1\r\n",
      "google-cloud-speech            1.3.2\r\n",
      "google-cloud-storage           1.30.0\r\n",
      "google-cloud-tasks             1.5.0\r\n",
      "google-cloud-translate         3.1.0\r\n",
      "google-cloud-videointelligence 2.1.0\r\n",
      "google-cloud-vision            2.3.1\r\n",
      "google-crc32c                  1.1.2\r\n",
      "google-pasta                   0.2.0\r\n",
      "google-resumable-media         1.2.0\r\n",
      "googleapis-common-protos       1.53.0\r\n",
      "gplearn                        0.4.1\r\n",
      "gpustat                        0.6.0\r\n",
      "gpxpy                          1.4.2\r\n",
      "graphviz                       0.8.4\r\n",
      "greenlet                       1.0.0\r\n",
      "grpc-google-iam-v1             0.12.3\r\n",
      "grpcio                         1.32.0\r\n",
      "grpcio-gcp                     0.2.2\r\n",
      "gym                            0.18.0\r\n",
      "h2o                            3.32.1.1\r\n",
      "h5py                           2.10.0\r\n",
      "haversine                      2.3.0\r\n",
      "HeapDict                       1.0.1\r\n",
      "hep-ml                         0.6.2\r\n",
      "hijri-converter                2.1.1\r\n",
      "hiredis                        2.0.0\r\n",
      "hmmlearn                       0.2.5\r\n",
      "holidays                       0.11.1\r\n",
      "holoviews                      1.14.3\r\n",
      "hpsklearn                      0.1.0\r\n",
      "html5lib                       1.1\r\n",
      "htmlmin                        0.1.12\r\n",
      "httplib2                       0.19.0\r\n",
      "httplib2shim                   0.0.3\r\n",
      "humanize                       3.4.1\r\n",
      "hunspell                       0.5.5\r\n",
      "husl                           4.0.3\r\n",
      "hyperopt                       0.2.5\r\n",
      "hypertools                     0.6.3\r\n",
      "hypothesis                     6.10.0\r\n",
      "ibis-framework                 1.4.0\r\n",
      "idna                           2.10\r\n",
      "imagecodecs                    2021.3.31\r\n",
      "ImageHash                      4.2.0\r\n",
      "imageio                        2.9.0\r\n",
      "imbalanced-learn               0.8.0\r\n",
      "imgaug                         0.4.0\r\n",
      "implicit                       0.4.4\r\n",
      "importlib-metadata             3.4.0\r\n",
      "iniconfig                      1.1.1\r\n",
      "ipykernel                      5.5.0\r\n",
      "ipympl                         0.7.0\r\n",
      "ipython                        7.22.0\r\n",
      "ipython-genutils               0.2.0\r\n",
      "ipython-sql                    0.3.9\r\n",
      "ipywidgets                     7.6.3\r\n",
      "iso3166                        1.0.1\r\n",
      "isoweek                        1.3.3\r\n",
      "itsdangerous                   1.1.0\r\n",
      "Janome                         0.4.1\r\n",
      "jax                            0.2.12\r\n",
      "jaxlib                         0.1.64\r\n",
      "jedi                           0.18.0\r\n",
      "jieba                          0.42.1\r\n",
      "Jinja2                         2.11.3\r\n",
      "jinja2-time                    0.2.0\r\n",
      "jmespath                       0.10.0\r\n",
      "joblib                         1.0.1\r\n",
      "json5                          0.9.5\r\n",
      "jsonnet                        0.17.0\r\n",
      "jsonschema                     3.2.0\r\n",
      "jupyter-client                 6.1.12\r\n",
      "jupyter-console                6.4.0\r\n",
      "jupyter-core                   4.7.1\r\n",
      "jupyter-http-over-ws           0.0.8\r\n",
      "jupyterlab                     1.2.16\r\n",
      "jupyterlab-git                 0.11.0\r\n",
      "jupyterlab-pygments            0.1.2\r\n",
      "jupyterlab-server              1.2.0\r\n",
      "jupyterlab-widgets             1.0.0\r\n",
      "kaggle                         1.5.12\r\n",
      "kaggle-environments            1.7.11\r\n",
      "Keras                          2.4.3\r\n",
      "Keras-Preprocessing            1.1.2\r\n",
      "keras-tuner                    1.0.2\r\n",
      "kiwisolver                     1.3.1\r\n",
      "kmapper                        2.0.0\r\n",
      "kmodes                         0.11.0\r\n",
      "knnimpute                      0.1.0\r\n",
      "korean-lunar-calendar          0.2.1\r\n",
      "kornia                         0.5.0\r\n",
      "kubernetes                     12.0.1\r\n",
      "langid                         1.1.6\r\n",
      "learntools                     0.3.4\r\n",
      "leven                          1.0.4\r\n",
      "libcst                         0.3.18\r\n",
      "librosa                        0.8.0\r\n",
      "lightfm                        1.16\r\n",
      "lightgbm                       3.2.0\r\n",
      "lime                           0.2.0.1\r\n",
      "line-profiler                  3.1.0\r\n",
      "llvmlite                       0.36.0\r\n",
      "lmdb                           1.2.0\r\n",
      "lml                            0.1.0\r\n",
      "locket                         0.2.1\r\n",
      "LunarCalendar                  0.0.9\r\n",
      "lxml                           4.6.3\r\n",
      "Mako                           1.1.4\r\n",
      "mapclassify                    2.4.2\r\n",
      "marisa-trie                    0.7.5\r\n",
      "Markdown                       3.3.4\r\n",
      "markovify                      0.9.0\r\n",
      "MarkupSafe                     1.1.1\r\n",
      "matplotlib                     3.4.1\r\n",
      "matplotlib-venn                0.11.6\r\n",
      "matrixprofile                  1.1.10\r\n",
      "mccabe                         0.6.1\r\n",
      "memory-profiler                0.58.0\r\n",
      "mercantile                     1.1.6\r\n",
      "missingno                      0.4.2\r\n",
      "mistune                        0.8.4\r\n",
      "mizani                         0.7.3\r\n",
      "ml-metrics                     0.1.4\r\n",
      "mlcrate                        0.2.0\r\n",
      "mlens                          0.2.3\r\n",
      "mlxtend                        0.18.0\r\n",
      "mmh3                           3.0.0\r\n",
      "mne                            0.22.1\r\n",
      "mnist                          0.2.2\r\n",
      "mock                           4.0.3\r\n",
      "more-itertools                 8.7.0\r\n",
      "mpld3                          0.5.2\r\n",
      "mpmath                         1.2.1\r\n",
      "msgpack                        1.0.2\r\n",
      "msgpack-numpy                  0.4.7.1\r\n",
      "multidict                      5.1.0\r\n",
      "multipledispatch               0.6.0\r\n",
      "multiprocess                   0.70.11.1\r\n",
      "munch                          2.5.0\r\n",
      "murmurhash                     1.0.5\r\n",
      "mxnet                          1.8.0.post0\r\n",
      "mypy-extensions                0.4.3\r\n",
      "nb-conda                       2.2.1\r\n",
      "nb-conda-kernels               2.3.1\r\n",
      "nbclient                       0.5.3\r\n",
      "nbconvert                      6.0.7\r\n",
      "nbdime                         2.1.0\r\n",
      "nbformat                       5.1.2\r\n",
      "nest-asyncio                   1.4.3\r\n",
      "netCDF4                        1.5.6\r\n",
      "networkx                       2.5\r\n",
      "nibabel                        3.2.1\r\n",
      "nilearn                        0.7.1\r\n",
      "nltk                           3.2.4\r\n",
      "nnabla                         1.19.0\r\n",
      "nose                           1.3.7\r\n",
      "notebook                       6.3.0\r\n",
      "notebook-executor              0.2\r\n",
      "numba                          0.53.1\r\n",
      "numexpr                        2.7.3\r\n",
      "numpy                          1.19.5\r\n",
      "nvidia-ml-py3                  7.352.0\r\n",
      "oauth2client                   4.1.3\r\n",
      "oauthlib                       3.0.1\r\n",
      "odfpy                          1.4.1\r\n",
      "olefile                        0.46\r\n",
      "onnx                           1.8.1\r\n",
      "opencensus                     0.7.12\r\n",
      "opencensus-context             0.1.2\r\n",
      "opencv-python                  4.5.1.48\r\n",
      "opencv-python-headless         4.5.1.48\r\n",
      "openslide-python               1.1.2\r\n",
      "opt-einsum                     3.3.0\r\n",
      "optuna                         2.7.0\r\n",
      "orderedmultidict               1.0.1\r\n",
      "ortools                        8.2.8710\r\n",
      "osmnx                          1.0.1\r\n",
      "osqp                           0.6.2.post0\r\n",
      "overrides                      3.1.0\r\n",
      "packaging                      20.9\r\n",
      "palettable                     3.3.0\r\n",
      "pandas                         1.2.3\r\n",
      "pandas-datareader              0.9.0\r\n",
      "pandas-profiling               2.11.0\r\n",
      "pandas-summary                 0.0.7\r\n",
      "pandasql                       0.7.3\r\n",
      "pandocfilters                  1.4.2\r\n",
      "panel                          0.11.3\r\n",
      "papermill                      2.3.3\r\n",
      "param                          1.10.1\r\n",
      "paramiko                       2.7.2\r\n",
      "parso                          0.8.1\r\n",
      "partd                          1.2.0\r\n",
      "path                           15.1.2\r\n",
      "path.py                        12.5.0\r\n",
      "pathos                         0.2.7\r\n",
      "pathspec                       0.8.1\r\n",
      "pathtools                      0.1.2\r\n",
      "patsy                          0.5.1\r\n",
      "pbr                            5.5.1\r\n",
      "pdf2image                      1.14.0\r\n",
      "PDPbox                         0.2.1\r\n",
      "pexpect                        4.8.0\r\n",
      "phik                           0.11.2\r\n",
      "pickleshare                    0.7.5\r\n",
      "Pillow                         7.2.0\r\n",
      "pip                            21.0.1\r\n",
      "plac                           1.1.3\r\n",
      "plotly                         4.14.3\r\n",
      "plotly-express                 0.4.1\r\n",
      "plotnine                       0.8.0\r\n",
      "pluggy                         0.13.1\r\n",
      "polyglot                       16.7.4\r\n",
      "pooch                          1.3.0\r\n",
      "portalocker                    2.3.0\r\n",
      "pox                            0.2.9\r\n",
      "poyo                           0.5.0\r\n",
      "ppca                           0.0.4\r\n",
      "ppft                           1.6.6.3\r\n",
      "preprocessing                  0.1.13\r\n",
      "preshed                        3.0.5\r\n",
      "prettytable                    2.1.0\r\n",
      "prometheus-client              0.9.0\r\n",
      "promise                        2.3\r\n",
      "prompt-toolkit                 3.0.18\r\n",
      "pronouncing                    0.2.0\r\n",
      "proto-plus                     1.18.1\r\n",
      "protobuf                       3.15.8\r\n",
      "psutil                         5.8.0\r\n",
      "ptyprocess                     0.7.0\r\n",
      "pudb                           2020.1\r\n",
      "py                             1.10.0\r\n",
      "py-lz4framed                   0.14.0\r\n",
      "py-spy                         0.3.5\r\n",
      "py-stringmatching              0.4.2\r\n",
      "py-stringsimjoin               0.3.2\r\n",
      "pyaml                          20.4.0\r\n",
      "PyArabic                       0.6.10\r\n",
      "pyarrow                        3.0.0\r\n",
      "pyasn1                         0.4.8\r\n",
      "pyasn1-modules                 0.2.7\r\n",
      "PyAstronomy                    0.16.0\r\n",
      "pybind11                       2.6.2\r\n",
      "pycodestyle                    2.7.0\r\n",
      "pycosat                        0.6.3\r\n",
      "pycountry                      20.7.3\r\n",
      "pycparser                      2.20\r\n",
      "pycrypto                       2.6.1\r\n",
      "pyct                           0.4.8\r\n",
      "pydash                         5.0.0\r\n",
      "pydegensac                     0.1.2\r\n",
      "pydicom                        2.1.2\r\n",
      "pydot                          1.4.2\r\n",
      "pydub                          0.25.1\r\n",
      "pyemd                          0.5.1\r\n",
      "pyexcel-io                     0.6.4\r\n",
      "pyexcel-ods                    0.6.0\r\n",
      "pyfasttext                     0.4.6\r\n",
      "pyflakes                       2.3.1\r\n",
      "pyglet                         1.5.0\r\n",
      "Pygments                       2.8.1\r\n",
      "PyJWT                          2.0.1\r\n",
      "pykalman                       0.9.5\r\n",
      "pyLDAvis                       3.3.1\r\n",
      "pymc3                          3.11.2\r\n",
      "PyMeeus                        0.5.11\r\n",
      "pymongo                        3.11.3\r\n",
      "Pympler                        0.9\r\n",
      "PyNaCl                         1.4.0\r\n",
      "pynndescent                    0.5.2\r\n",
      "pyocr                          0.8\r\n",
      "pyOpenSSL                      20.0.1\r\n",
      "pyparsing                      2.4.7\r\n",
      "pyPdf                          1.13\r\n",
      "pyperclip                      1.8.2\r\n",
      "PyPrind                        2.11.3\r\n",
      "pyproj                         2.6.1.post1\r\n",
      "PyQt5                          5.12.3\r\n",
      "PyQt5-sip                      4.19.18\r\n",
      "PyQtChart                      5.12\r\n",
      "PyQtWebEngine                  5.12.1\r\n",
      "pyrsistent                     0.17.3\r\n",
      "pysal                          2.1.0\r\n",
      "pyshp                          2.1.3\r\n",
      "PySocks                        1.7.1\r\n",
      "pystan                         2.19.1.1\r\n",
      "pytesseract                    0.3.7\r\n",
      "pytest                         6.2.3\r\n",
      "pytext-nlp                     0.1.2\r\n",
      "python-bidi                    0.4.2\r\n",
      "python-dateutil                2.8.1\r\n",
      "python-editor                  1.0.4\r\n",
      "python-igraph                  0.9.1\r\n",
      "python-Levenshtein             0.12.2\r\n",
      "python-louvain                 0.15\r\n",
      "python-slugify                 4.0.1\r\n",
      "pytorch-ignite                 0.4.4\r\n",
      "pytorch-lightning              1.2.8\r\n",
      "pytz                           2021.1\r\n",
      "PyUpSet                        0.1.1.post7\r\n",
      "pyviz-comms                    2.0.1\r\n",
      "PyWavelets                     1.1.1\r\n",
      "PyYAML                         5.3.1\r\n",
      "pyzmq                          22.0.3\r\n",
      "qdldl                          0.1.5.post0\r\n",
      "qgrid                          1.3.1\r\n",
      "qtconsole                      5.0.3\r\n",
      "QtPy                           1.9.0\r\n",
      "randomgen                      1.16.6\r\n",
      "rasterio                       1.2.2\r\n",
      "ray                            1.2.0\r\n",
      "redis                          3.5.3\r\n",
      "regex                          2021.3.17\r\n",
      "requests                       2.25.1\r\n",
      "requests-oauthlib              1.3.0\r\n",
      "resampy                        0.2.2\r\n",
      "retrying                       1.3.3\r\n",
      "rgf-python                     3.9.0\r\n",
      "rsa                            4.7.2\r\n",
      "Rtree                          0.9.7\r\n",
      "ruamel-yaml-conda              0.15.80\r\n",
      "s2sphere                       0.2.5\r\n",
      "s3fs                           0.6.0\r\n",
      "s3transfer                     0.3.7\r\n",
      "sacremoses                     0.0.45\r\n",
      "scattertext                    0.1.2\r\n",
      "scikit-image                   0.18.1\r\n",
      "scikit-learn                   0.24.1\r\n",
      "scikit-multilearn              0.2.0\r\n",
      "scikit-optimize                0.8.1\r\n",
      "scikit-plot                    0.3.7\r\n",
      "scikit-surprise                1.1.1\r\n",
      "scipy                          1.5.4\r\n",
      "scs                            2.1.3\r\n",
      "seaborn                        0.11.1\r\n",
      "semver                         2.13.0\r\n",
      "Send2Trash                     1.5.0\r\n",
      "sentencepiece                  0.1.95\r\n",
      "sentry-sdk                     1.0.0\r\n",
      "setuptools                     49.6.0.post20210108\r\n",
      "setuptools-git                 1.2\r\n",
      "shap                           0.39.0\r\n",
      "Shapely                        1.7.1\r\n",
      "shortuuid                      1.0.1\r\n",
      "SimpleITK                      2.0.2\r\n",
      "simplejson                     3.17.2\r\n",
      "six                            1.15.0\r\n",
      "sklearn                        0.0\r\n",
      "sklearn-contrib-py-earth       0.1.0+1.gdde5f89\r\n",
      "sklearn-pandas                 2.1.0\r\n",
      "slicer                         0.0.7\r\n",
      "smart-open                     5.0.0\r\n",
      "smhasher                       0.150.1\r\n",
      "smmap                          3.0.5\r\n",
      "snuggs                         1.4.7\r\n",
      "sortedcontainers               2.3.0\r\n",
      "SoundFile                      0.10.3.post1\r\n",
      "spacy                          2.3.5\r\n",
      "spectral                       0.22.2\r\n",
      "sphinx-rtd-theme               0.2.4\r\n",
      "SQLAlchemy                     1.4.3\r\n",
      "sqlparse                       0.4.1\r\n",
      "squarify                       0.4.3\r\n",
      "srsly                          1.0.5\r\n",
      "statsmodels                    0.12.2\r\n",
      "stemming                       1.0.1\r\n",
      "stevedore                      3.3.0\r\n",
      "stop-words                     2018.7.23\r\n",
      "stopit                         1.1.2\r\n",
      "stumpy                         1.8.0\r\n",
      "subprocess32                   3.5.4\r\n",
      "sympy                          1.8\r\n",
      "tables                         3.6.1\r\n",
      "tabnet                         0.1.6\r\n",
      "tabulate                       0.8.9\r\n",
      "tangled-up-in-unicode          0.0.7\r\n",
      "tblib                          1.7.0\r\n",
      "tenacity                       7.0.0\r\n",
      "tensorboard                    2.4.1\r\n",
      "tensorboard-plugin-wit         1.8.0\r\n",
      "tensorboardX                   2.2\r\n",
      "tensorflow                     2.4.1\r\n",
      "tensorflow-addons              0.12.1\r\n",
      "tensorflow-cloud               0.1.13\r\n",
      "tensorflow-datasets            3.0.0\r\n",
      "tensorflow-estimator           2.4.0\r\n",
      "tensorflow-gcs-config          2.1.7\r\n",
      "tensorflow-hub                 0.12.0\r\n",
      "tensorflow-metadata            0.29.0\r\n",
      "tensorflow-probability         0.12.2\r\n",
      "tensorpack                     0.11\r\n",
      "termcolor                      1.1.0\r\n",
      "terminado                      0.9.3\r\n",
      "terminaltables                 3.1.0\r\n",
      "testpath                       0.4.4\r\n",
      "text-unidecode                 1.3\r\n",
      "textblob                       0.15.3\r\n",
      "texttable                      1.6.3\r\n",
      "textwrap3                      0.9.2\r\n",
      "Theano                         1.0.5\r\n",
      "Theano-PyMC                    1.1.2\r\n",
      "thinc                          7.4.5\r\n",
      "threadpoolctl                  2.1.0\r\n",
      "tifffile                       2021.4.8\r\n",
      "tokenizers                     0.10.2\r\n",
      "toml                           0.10.2\r\n",
      "toolz                          0.11.1\r\n",
      "torch                          1.7.0\r\n",
      "torchaudio                     0.7.0a0+ac17b64\r\n",
      "torchmetrics                   0.2.0\r\n",
      "torchtext                      0.8.0a0+cd6902d\r\n",
      "torchvision                    0.8.1\r\n",
      "tornado                        6.1\r\n",
      "TPOT                           0.11.7\r\n",
      "tqdm                           4.59.0\r\n",
      "traitlets                      5.0.5\r\n",
      "traittypes                     0.2.1\r\n",
      "transformers                   4.5.1\r\n",
      "trueskill                      0.4.5\r\n",
      "tsfresh                        0.18.0\r\n",
      "typed-ast                      1.4.2\r\n",
      "typeguard                      2.12.0\r\n",
      "typing-extensions              3.7.4.3\r\n",
      "typing-inspect                 0.6.0\r\n",
      "tzlocal                        2.1\r\n",
      "umap-learn                     0.5.1\r\n",
      "Unidecode                      1.2.0\r\n",
      "update-checker                 0.18.0\r\n",
      "uritemplate                    3.0.1\r\n",
      "urllib3                        1.26.4\r\n",
      "urwid                          2.1.2\r\n",
      "vecstack                       0.4.0\r\n",
      "visions                        0.6.0\r\n",
      "vowpalwabbit                   8.10.1\r\n",
      "vtk                            9.0.1\r\n",
      "Wand                           0.6.6\r\n",
      "wandb                          0.10.26\r\n",
      "wasabi                         0.8.2\r\n",
      "wavio                          0.0.4\r\n",
      "wcwidth                        0.2.5\r\n",
      "webencodings                   0.5.1\r\n",
      "websocket-client               0.57.0\r\n",
      "Werkzeug                       1.0.1\r\n",
      "wfdb                           3.3.0\r\n",
      "wheel                          0.36.2\r\n",
      "whichcraft                     0.6.1\r\n",
      "widgetsnbextension             3.5.1\r\n",
      "Wordbatch                      1.4.6\r\n",
      "wordcloud                      1.8.1\r\n",
      "wordsegment                    1.3.1\r\n",
      "wrapt                          1.12.1\r\n",
      "xarray                         0.17.0\r\n",
      "xgboost                        1.4.0\r\n",
      "xvfbwrapper                    0.2.9\r\n",
      "yacs                           0.1.8\r\n",
      "yarl                           1.6.3\r\n",
      "yellowbrick                    1.3.post1\r\n",
      "zict                           2.0.0\r\n",
      "zipp                           3.4.1\r\n"
     ]
    }
   ],
   "source": [
    "!pip list"
   ]
  },
  {
   "cell_type": "markdown",
   "id": "absolute-mirror",
   "metadata": {
    "papermill": {
     "duration": 4.488074,
     "end_time": "2021-08-31T00:06:50.536325",
     "exception": false,
     "start_time": "2021-08-31T00:06:46.048251",
     "status": "completed"
    },
    "tags": []
   },
   "source": [
    "---"
   ]
  }
 ],
 "metadata": {
  "kernelspec": {
   "display_name": "Python 3",
   "language": "python",
   "name": "python3"
  },
  "language_info": {
   "codemirror_mode": {
    "name": "ipython",
    "version": 3
   },
   "file_extension": ".py",
   "mimetype": "text/x-python",
   "name": "python",
   "nbconvert_exporter": "python",
   "pygments_lexer": "ipython3",
   "version": "3.7.10"
  },
  "papermill": {
   "default_parameters": {},
   "duration": 2124.129459,
   "end_time": "2021-08-31T00:06:57.402096",
   "environment_variables": {},
   "exception": null,
   "input_path": "__notebook__.ipynb",
   "output_path": "__notebook__.ipynb",
   "parameters": {},
   "start_time": "2021-08-30T23:31:33.272637",
   "version": "2.3.3"
  }
 },
 "nbformat": 4,
 "nbformat_minor": 5
}
