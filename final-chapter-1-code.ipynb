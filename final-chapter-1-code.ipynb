{
 "cells": [
  {
   "cell_type": "markdown",
   "id": "67c5c9fc",
   "metadata": {
    "papermill": {
     "duration": 0.033787,
     "end_time": "2021-08-28T20:12:52.234322",
     "exception": false,
     "start_time": "2021-08-28T20:12:52.200535",
     "status": "completed"
    },
    "tags": []
   },
   "source": [
    "# Chapter 1 Code\n",
    "\n",
    "Covers code for Chapter 1, \"A Deep Dive Into Keras\", of *Modern Deep Learning Design and Application*."
   ]
  },
  {
   "cell_type": "markdown",
   "id": "79481a48",
   "metadata": {
    "papermill": {
     "duration": 0.031448,
     "end_time": "2021-08-28T20:12:52.298560",
     "exception": false,
     "start_time": "2021-08-28T20:12:52.267112",
     "status": "completed"
    },
    "tags": []
   },
   "source": [
    "---"
   ]
  },
  {
   "cell_type": "markdown",
   "id": "859e6507",
   "metadata": {
    "papermill": {
     "duration": 0.03379,
     "end_time": "2021-08-28T20:12:52.367068",
     "exception": false,
     "start_time": "2021-08-28T20:12:52.333278",
     "status": "completed"
    },
    "tags": []
   },
   "source": [
    "## Installing + Importing Libraries"
   ]
  },
  {
   "cell_type": "code",
   "execution_count": 1,
   "id": "9f3e02e9",
   "metadata": {
    "execution": {
     "iopub.execute_input": "2021-08-28T20:12:52.446890Z",
     "iopub.status.busy": "2021-08-28T20:12:52.446185Z",
     "iopub.status.idle": "2021-08-28T20:12:59.476109Z",
     "shell.execute_reply": "2021-08-28T20:12:59.476856Z",
     "shell.execute_reply.started": "2021-08-28T20:08:15.718598Z"
    },
    "papermill": {
     "duration": 7.07679,
     "end_time": "2021-08-28T20:12:59.477159",
     "exception": false,
     "start_time": "2021-08-28T20:12:52.400369",
     "status": "completed"
    },
    "tags": []
   },
   "outputs": [],
   "source": [
    "# array processing + math\n",
    "import numpy as np\n",
    "import pandas as pd\n",
    "import math\n",
    "\n",
    "# plotting\n",
    "import matplotlib.pyplot as plt\n",
    "import seaborn as sns\n",
    "\n",
    "# looping - very helpful for data manpulation scripts\n",
    "from tqdm.notebook import tqdm\n",
    "\n",
    "# deep learning staple libraries\n",
    "# !pip install tensorflow # install if necessary\n",
    "import sklearn\n",
    "import tensorflow as tf\n",
    "from tensorflow import keras\n",
    "\n",
    "# keras specifics\n",
    "import keras.layers as L\n",
    "import keras.backend as K\n",
    "from keras.utils import plot_model"
   ]
  },
  {
   "cell_type": "markdown",
   "id": "efca7056",
   "metadata": {
    "papermill": {
     "duration": 0.031924,
     "end_time": "2021-08-28T20:12:59.541671",
     "exception": false,
     "start_time": "2021-08-28T20:12:59.509747",
     "status": "completed"
    },
    "tags": []
   },
   "source": [
    "---"
   ]
  },
  {
   "cell_type": "markdown",
   "id": "95033965",
   "metadata": {
    "papermill": {
     "duration": 0.032095,
     "end_time": "2021-08-28T20:12:59.606322",
     "exception": false,
     "start_time": "2021-08-28T20:12:59.574227",
     "status": "completed"
    },
    "tags": []
   },
   "source": [
    "## The Simple Keras Workflow"
   ]
  },
  {
   "cell_type": "markdown",
   "id": "cfbdf976",
   "metadata": {
    "papermill": {
     "duration": 0.032728,
     "end_time": "2021-08-28T20:12:59.671575",
     "exception": false,
     "start_time": "2021-08-28T20:12:59.638847",
     "status": "completed"
    },
    "tags": []
   },
   "source": [
    "### Step '0': Get Data"
   ]
  },
  {
   "cell_type": "code",
   "execution_count": 2,
   "id": "7bb27f87",
   "metadata": {
    "execution": {
     "iopub.execute_input": "2021-08-28T20:12:59.743005Z",
     "iopub.status.busy": "2021-08-28T20:12:59.742143Z",
     "iopub.status.idle": "2021-08-28T20:12:59.775191Z",
     "shell.execute_reply": "2021-08-28T20:12:59.775894Z",
     "shell.execute_reply.started": "2021-08-28T20:08:25.310017Z"
    },
    "papermill": {
     "duration": 0.071365,
     "end_time": "2021-08-28T20:12:59.776087",
     "exception": false,
     "start_time": "2021-08-28T20:12:59.704722",
     "status": "completed"
    },
    "tags": []
   },
   "outputs": [
    {
     "data": {
      "text/html": [
       "<div>\n",
       "<style scoped>\n",
       "    .dataframe tbody tr th:only-of-type {\n",
       "        vertical-align: middle;\n",
       "    }\n",
       "\n",
       "    .dataframe tbody tr th {\n",
       "        vertical-align: top;\n",
       "    }\n",
       "\n",
       "    .dataframe thead th {\n",
       "        text-align: right;\n",
       "    }\n",
       "</style>\n",
       "<table border=\"1\" class=\"dataframe\">\n",
       "  <thead>\n",
       "    <tr style=\"text-align: right;\">\n",
       "      <th></th>\n",
       "      <th>A</th>\n",
       "      <th>B</th>\n",
       "      <th>C</th>\n",
       "      <th>Label 1</th>\n",
       "      <th>Label 2</th>\n",
       "    </tr>\n",
       "  </thead>\n",
       "  <tbody>\n",
       "    <tr>\n",
       "      <th>0</th>\n",
       "      <td>0</td>\n",
       "      <td>0</td>\n",
       "      <td>0</td>\n",
       "      <td>0</td>\n",
       "      <td>0</td>\n",
       "    </tr>\n",
       "    <tr>\n",
       "      <th>1</th>\n",
       "      <td>1</td>\n",
       "      <td>0</td>\n",
       "      <td>0</td>\n",
       "      <td>1</td>\n",
       "      <td>0</td>\n",
       "    </tr>\n",
       "    <tr>\n",
       "      <th>2</th>\n",
       "      <td>0</td>\n",
       "      <td>1</td>\n",
       "      <td>0</td>\n",
       "      <td>1</td>\n",
       "      <td>0</td>\n",
       "    </tr>\n",
       "    <tr>\n",
       "      <th>3</th>\n",
       "      <td>0</td>\n",
       "      <td>1</td>\n",
       "      <td>1</td>\n",
       "      <td>1</td>\n",
       "      <td>1</td>\n",
       "    </tr>\n",
       "    <tr>\n",
       "      <th>4</th>\n",
       "      <td>1</td>\n",
       "      <td>1</td>\n",
       "      <td>0</td>\n",
       "      <td>1</td>\n",
       "      <td>1</td>\n",
       "    </tr>\n",
       "    <tr>\n",
       "      <th>5</th>\n",
       "      <td>1</td>\n",
       "      <td>1</td>\n",
       "      <td>1</td>\n",
       "      <td>1</td>\n",
       "      <td>1</td>\n",
       "    </tr>\n",
       "  </tbody>\n",
       "</table>\n",
       "</div>"
      ],
      "text/plain": [
       "   A  B  C  Label 1  Label 2\n",
       "0  0  0  0        0        0\n",
       "1  1  0  0        1        0\n",
       "2  0  1  0        1        0\n",
       "3  0  1  1        1        1\n",
       "4  1  1  0        1        1\n",
       "5  1  1  1        1        1"
      ]
     },
     "execution_count": 2,
     "metadata": {},
     "output_type": "execute_result"
    }
   ],
   "source": [
    "data = pd.DataFrame({'A':[0,1,0,0,1,1],\n",
    "                     'B':[0,0,1,1,1,1],\n",
    "                     'C':[0,0,0,1,0,1],\n",
    "                     'Label 1':[0,1,1,1,1,1],\n",
    "                     'Label 2':[0,0,0,1,1,1]})\n",
    "data"
   ]
  },
  {
   "cell_type": "markdown",
   "id": "2fc135ab",
   "metadata": {
    "papermill": {
     "duration": 0.036867,
     "end_time": "2021-08-28T20:12:59.846476",
     "exception": false,
     "start_time": "2021-08-28T20:12:59.809609",
     "status": "completed"
    },
    "tags": []
   },
   "source": [
    "### Step 1: Define Architecture"
   ]
  },
  {
   "cell_type": "code",
   "execution_count": 3,
   "id": "e532dcb9",
   "metadata": {
    "execution": {
     "iopub.execute_input": "2021-08-28T20:12:59.916561Z",
     "iopub.status.busy": "2021-08-28T20:12:59.915924Z",
     "iopub.status.idle": "2021-08-28T20:13:00.022658Z",
     "shell.execute_reply": "2021-08-28T20:13:00.022032Z",
     "shell.execute_reply.started": "2021-08-28T20:08:25.346673Z"
    },
    "papermill": {
     "duration": 0.142961,
     "end_time": "2021-08-28T20:13:00.022812",
     "exception": false,
     "start_time": "2021-08-28T20:12:59.879851",
     "status": "completed"
    },
    "tags": []
   },
   "outputs": [],
   "source": [
    "import keras\n",
    "from keras.models import Sequential\n",
    "from keras.layers import Input\n",
    "from keras.layers import Dense\n",
    "\n",
    "# initializes sequential model\n",
    "model = Sequential()\n",
    "\n",
    "# input layer\n",
    "model.add(Input((3,)))\n",
    "\n",
    "# layer with 10 nodes and ReLU activation\n",
    "model.add(Dense(10, activation='relu'))\n",
    "\n",
    "# layer with 5 nodes and ReLU activation\n",
    "model.add(Dense(5, activation='relu'))\n",
    "\n",
    "# layer with 2 nodes and sigmoid activation (output)\n",
    "model.add(Dense(2, activation='sigmoid'))"
   ]
  },
  {
   "cell_type": "markdown",
   "id": "ee74a14e",
   "metadata": {
    "papermill": {
     "duration": 0.034327,
     "end_time": "2021-08-28T20:13:00.090859",
     "exception": false,
     "start_time": "2021-08-28T20:13:00.056532",
     "status": "completed"
    },
    "tags": []
   },
   "source": [
    "### Step 2: Compile"
   ]
  },
  {
   "cell_type": "code",
   "execution_count": 4,
   "id": "a7b7f51f",
   "metadata": {
    "execution": {
     "iopub.execute_input": "2021-08-28T20:13:00.164502Z",
     "iopub.status.busy": "2021-08-28T20:13:00.163813Z",
     "iopub.status.idle": "2021-08-28T20:13:00.176889Z",
     "shell.execute_reply": "2021-08-28T20:13:00.177418Z",
     "shell.execute_reply.started": "2021-08-28T20:08:25.386211Z"
    },
    "papermill": {
     "duration": 0.053713,
     "end_time": "2021-08-28T20:13:00.177631",
     "exception": false,
     "start_time": "2021-08-28T20:13:00.123918",
     "status": "completed"
    },
    "tags": []
   },
   "outputs": [],
   "source": [
    "model.compile(loss='binary_crossentropy',\n",
    "              optimizer='adam',\n",
    "              metrics=['mae','accuracy'])"
   ]
  },
  {
   "cell_type": "markdown",
   "id": "58b87313",
   "metadata": {
    "papermill": {
     "duration": 0.035488,
     "end_time": "2021-08-28T20:13:00.247800",
     "exception": false,
     "start_time": "2021-08-28T20:13:00.212312",
     "status": "completed"
    },
    "tags": []
   },
   "source": [
    "For a custom loss function (example - MSE):"
   ]
  },
  {
   "cell_type": "code",
   "execution_count": 5,
   "id": "55cd4f77",
   "metadata": {
    "execution": {
     "iopub.execute_input": "2021-08-28T20:13:00.320491Z",
     "iopub.status.busy": "2021-08-28T20:13:00.319804Z",
     "iopub.status.idle": "2021-08-28T20:13:00.324933Z",
     "shell.execute_reply": "2021-08-28T20:13:00.324267Z",
     "shell.execute_reply.started": "2021-08-28T20:08:25.400607Z"
    },
    "papermill": {
     "duration": 0.041252,
     "end_time": "2021-08-28T20:13:00.325071",
     "exception": false,
     "start_time": "2021-08-28T20:13:00.283819",
     "status": "completed"
    },
    "tags": []
   },
   "outputs": [],
   "source": [
    "import keras.backend as K\n",
    "def custom_mse(y_true, y_pred):\n",
    "    return K.mean(K.square(y_pred-y_true))"
   ]
  },
  {
   "cell_type": "markdown",
   "id": "ccf6f921",
   "metadata": {
    "papermill": {
     "duration": 0.032186,
     "end_time": "2021-08-28T20:13:00.390369",
     "exception": false,
     "start_time": "2021-08-28T20:13:00.358183",
     "status": "completed"
    },
    "tags": []
   },
   "source": [
    "### Step 3: Fit and Evaluate"
   ]
  },
  {
   "cell_type": "markdown",
   "id": "b8e678fc",
   "metadata": {
    "papermill": {
     "duration": 0.033985,
     "end_time": "2021-08-28T20:13:00.456694",
     "exception": false,
     "start_time": "2021-08-28T20:13:00.422709",
     "status": "completed"
    },
    "tags": []
   },
   "source": [
    "Define callbacks. Note that normally we would monitor the validation loss (`monitor='val_loss'`) but in this case our dataset is too small to separate into training and validation datasets."
   ]
  },
  {
   "cell_type": "code",
   "execution_count": 6,
   "id": "b5c7a44e",
   "metadata": {
    "execution": {
     "iopub.execute_input": "2021-08-28T20:13:00.529106Z",
     "iopub.status.busy": "2021-08-28T20:13:00.528073Z",
     "iopub.status.idle": "2021-08-28T20:13:00.531090Z",
     "shell.execute_reply": "2021-08-28T20:13:00.530472Z",
     "shell.execute_reply.started": "2021-08-28T20:08:25.412677Z"
    },
    "papermill": {
     "duration": 0.041433,
     "end_time": "2021-08-28T20:13:00.531230",
     "exception": false,
     "start_time": "2021-08-28T20:13:00.489797",
     "status": "completed"
    },
    "tags": []
   },
   "outputs": [],
   "source": [
    "import keras.callbacks as C\n",
    "mc = C.ModelCheckpoint(filepath='best-weights.h5',\n",
    "                       save_weights_only=True,\n",
    "                       monitor='loss',\n",
    "                       mode='min',\n",
    "                       save_best_only=True)\n",
    "es = C.EarlyStopping(monitor=\"loss\",\n",
    "                     min_delta=0,\n",
    "                     patience=3)\n",
    "rp = C.ReduceLROnPlateau(monitor=\"loss\",\n",
    "                         patience=3,\n",
    "                         factor=0.1)\n"
   ]
  },
  {
   "cell_type": "markdown",
   "id": "bf77be98",
   "metadata": {
    "papermill": {
     "duration": 0.031996,
     "end_time": "2021-08-28T20:13:00.595776",
     "exception": false,
     "start_time": "2021-08-28T20:13:00.563780",
     "status": "completed"
    },
    "tags": []
   },
   "source": [
    "Fitting model on the data with the callbacks."
   ]
  },
  {
   "cell_type": "code",
   "execution_count": 7,
   "id": "7b3939d0",
   "metadata": {
    "execution": {
     "iopub.execute_input": "2021-08-28T20:13:00.664239Z",
     "iopub.status.busy": "2021-08-28T20:13:00.663262Z",
     "iopub.status.idle": "2021-08-28T20:13:01.690208Z",
     "shell.execute_reply": "2021-08-28T20:13:01.689511Z",
     "shell.execute_reply.started": "2021-08-28T20:08:25.426136Z"
    },
    "papermill": {
     "duration": 1.062361,
     "end_time": "2021-08-28T20:13:01.690381",
     "exception": false,
     "start_time": "2021-08-28T20:13:00.628020",
     "status": "completed"
    },
    "tags": []
   },
   "outputs": [
    {
     "name": "stdout",
     "output_type": "stream",
     "text": [
      "1/1 [==============================] - 1s 665ms/step - loss: 0.6290 - mae: 0.4623 - accuracy: 1.0000\n"
     ]
    },
    {
     "data": {
      "text/plain": [
       "<tensorflow.python.keras.callbacks.History at 0x7f3740245090>"
      ]
     },
     "execution_count": 7,
     "metadata": {},
     "output_type": "execute_result"
    }
   ],
   "source": [
    "model.fit(x=np.array(data[['A','B','C']]),\n",
    "          y=np.array(data[['Label 1','Label 2']]),\n",
    "          epochs=1, # only training for 1 epoch\n",
    "          callbacks=[mc, es, rp])"
   ]
  },
  {
   "cell_type": "markdown",
   "id": "1e6299bb",
   "metadata": {
    "papermill": {
     "duration": 0.035934,
     "end_time": "2021-08-28T20:13:01.761635",
     "exception": false,
     "start_time": "2021-08-28T20:13:01.725701",
     "status": "completed"
    },
    "tags": []
   },
   "source": [
    "Plotting history."
   ]
  },
  {
   "cell_type": "code",
   "execution_count": 8,
   "id": "b3c46675",
   "metadata": {
    "execution": {
     "iopub.execute_input": "2021-08-28T20:13:01.843619Z",
     "iopub.status.busy": "2021-08-28T20:13:01.842925Z",
     "iopub.status.idle": "2021-08-28T20:13:02.182241Z",
     "shell.execute_reply": "2021-08-28T20:13:02.181554Z",
     "shell.execute_reply.started": "2021-08-28T20:08:26.453609Z"
    },
    "papermill": {
     "duration": 0.385421,
     "end_time": "2021-08-28T20:13:02.182408",
     "exception": false,
     "start_time": "2021-08-28T20:13:01.796987",
     "status": "completed"
    },
    "tags": []
   },
   "outputs": [
    {
     "name": "stdout",
     "output_type": "stream",
     "text": [
      "Epoch 1/5\n",
      "1/1 [==============================] - 0s 5ms/step - loss: 0.6272 - mae: 0.4613 - accuracy: 1.0000\n",
      "Epoch 2/5\n",
      "1/1 [==============================] - 0s 3ms/step - loss: 0.6254 - mae: 0.4603 - accuracy: 1.0000\n",
      "Epoch 3/5\n",
      "1/1 [==============================] - 0s 4ms/step - loss: 0.6236 - mae: 0.4592 - accuracy: 1.0000\n",
      "Epoch 4/5\n",
      "1/1 [==============================] - 0s 3ms/step - loss: 0.6218 - mae: 0.4582 - accuracy: 1.0000\n",
      "Epoch 5/5\n",
      "1/1 [==============================] - 0s 3ms/step - loss: 0.6200 - mae: 0.4572 - accuracy: 1.0000\n"
     ]
    },
    {
     "data": {
      "image/png": "[encoded data removed]",
      "text/plain": [
       "<Figure size 504x360 with 1 Axes>"
      ]
     },
     "metadata": {
      "needs_background": "light"
     },
     "output_type": "display_data"
    }
   ],
   "source": [
    "history = model.fit(x=np.array(data[['A','B','C']]),\n",
    "                    y=np.array(data[['Label 1','Label 2']]),\n",
    "                    epochs=5,\n",
    "                    callbacks=[mc, es, rp])\n",
    "plt.figure(figsize=(7,5))\n",
    "plt.plot(history.history['loss'], color='black')\n",
    "plt.xlabel('Epochs')\n",
    "plt.ylabel('Loss')\n",
    "plt.show()"
   ]
  },
  {
   "cell_type": "markdown",
   "id": "c4f2af86",
   "metadata": {
    "papermill": {
     "duration": 0.039419,
     "end_time": "2021-08-28T20:13:02.263492",
     "exception": false,
     "start_time": "2021-08-28T20:13:02.224073",
     "status": "completed"
    },
    "tags": []
   },
   "source": [
    "---"
   ]
  },
  {
   "cell_type": "markdown",
   "id": "a912d1e9",
   "metadata": {
    "papermill": {
     "duration": 0.040917,
     "end_time": "2021-08-28T20:13:02.346982",
     "exception": false,
     "start_time": "2021-08-28T20:13:02.306065",
     "status": "completed"
    },
    "tags": []
   },
   "source": [
    "## Visualizing Model Architectures"
   ]
  },
  {
   "cell_type": "code",
   "execution_count": 9,
   "id": "34970e10",
   "metadata": {
    "execution": {
     "iopub.execute_input": "2021-08-28T20:13:02.432983Z",
     "iopub.status.busy": "2021-08-28T20:13:02.432152Z",
     "iopub.status.idle": "2021-08-28T20:13:03.009200Z",
     "shell.execute_reply": "2021-08-28T20:13:03.009763Z",
     "shell.execute_reply.started": "2021-08-28T20:08:26.751200Z"
    },
    "papermill": {
     "duration": 0.622379,
     "end_time": "2021-08-28T20:13:03.009939",
     "exception": false,
     "start_time": "2021-08-28T20:13:02.387560",
     "status": "completed"
    },
    "tags": []
   },
   "outputs": [
    {
     "data": {
      "image/png": "[encoded data removed]",
      "text/plain": [
       "<IPython.core.display.Image object>"
      ]
     },
     "execution_count": 9,
     "metadata": {},
     "output_type": "execute_result"
    }
   ],
   "source": [
    "from keras.utils import plot_model\n",
    "plot_model(model, show_shapes=True, show_dtype=True,\n",
    "           to_file='diagram.png', dpi=200)"
   ]
  },
  {
   "cell_type": "markdown",
   "id": "bfb17171",
   "metadata": {
    "papermill": {
     "duration": 0.040255,
     "end_time": "2021-08-28T20:13:03.092639",
     "exception": false,
     "start_time": "2021-08-28T20:13:03.052384",
     "status": "completed"
    },
    "tags": []
   },
   "source": [
    "---"
   ]
  },
  {
   "cell_type": "markdown",
   "id": "edd3d5a0",
   "metadata": {
    "papermill": {
     "duration": 0.040232,
     "end_time": "2021-08-28T20:13:03.174621",
     "exception": false,
     "start_time": "2021-08-28T20:13:03.134389",
     "status": "completed"
    },
    "tags": []
   },
   "source": [
    "## Functional API"
   ]
  },
  {
   "cell_type": "markdown",
   "id": "e270bd71",
   "metadata": {
    "papermill": {
     "duration": 0.040935,
     "end_time": "2021-08-28T20:13:03.256317",
     "exception": false,
     "start_time": "2021-08-28T20:13:03.215382",
     "status": "completed"
    },
    "tags": []
   },
   "source": [
    "### Translating Model from Sequential to Functional Syntax"
   ]
  },
  {
   "cell_type": "markdown",
   "id": "7c38407d",
   "metadata": {
    "papermill": {
     "duration": 0.041415,
     "end_time": "2021-08-28T20:13:03.338911",
     "exception": false,
     "start_time": "2021-08-28T20:13:03.297496",
     "status": "completed"
    },
    "tags": []
   },
   "source": [
    "Translate the following Sequential model -\n",
    "```python\n",
    "model = Sequential()\n",
    "model.add(L.Input((3,)))\n",
    "model.add(L.Dense(10, activation=’relu’))\n",
    "model.add(L.Dense(5, activation=’relu’))\n",
    "model.add(L.Dense(2, activation='sigmoid'))\n",
    "```\n",
    "\\- into Functional API syntax."
   ]
  },
  {
   "cell_type": "code",
   "execution_count": 10,
   "id": "e4512082",
   "metadata": {
    "execution": {
     "iopub.execute_input": "2021-08-28T20:13:03.429993Z",
     "iopub.status.busy": "2021-08-28T20:13:03.428440Z",
     "iopub.status.idle": "2021-08-28T20:13:03.458541Z",
     "shell.execute_reply": "2021-08-28T20:13:03.457912Z",
     "shell.execute_reply.started": "2021-08-28T20:08:27.252356Z"
    },
    "papermill": {
     "duration": 0.079669,
     "end_time": "2021-08-28T20:13:03.458682",
     "exception": false,
     "start_time": "2021-08-28T20:13:03.379013",
     "status": "completed"
    },
    "tags": []
   },
   "outputs": [],
   "source": [
    "import keras.layers as L\n",
    "\n",
    "# define all layers\n",
    "input_layer = L.Input((3,))\n",
    "dense_1 = L.Dense(10, activation='relu')(input_layer)\n",
    "dense_2 = L.Dense(5, activation='relu')(dense_1)\n",
    "output_layer = L.Dense(2, activation='sigmoid')(dense_2)\n",
    "\n",
    "# aggregate into model\n",
    "model = keras.Model(inputs=input_layer, outputs=output_layer)"
   ]
  },
  {
   "cell_type": "markdown",
   "id": "4e11fcba",
   "metadata": {
    "papermill": {
     "duration": 0.040699,
     "end_time": "2021-08-28T20:13:03.539658",
     "exception": false,
     "start_time": "2021-08-28T20:13:03.498959",
     "status": "completed"
    },
    "tags": []
   },
   "source": [
    "Using Functional API with repeated variable assignment."
   ]
  },
  {
   "cell_type": "code",
   "execution_count": 11,
   "id": "d036e413",
   "metadata": {
    "execution": {
     "iopub.execute_input": "2021-08-28T20:13:03.629048Z",
     "iopub.status.busy": "2021-08-28T20:13:03.622752Z",
     "iopub.status.idle": "2021-08-28T20:13:03.656310Z",
     "shell.execute_reply": "2021-08-28T20:13:03.655721Z",
     "shell.execute_reply.started": "2021-08-28T20:08:27.292245Z"
    },
    "papermill": {
     "duration": 0.077157,
     "end_time": "2021-08-28T20:13:03.656476",
     "exception": false,
     "start_time": "2021-08-28T20:13:03.579319",
     "status": "completed"
    },
    "tags": []
   },
   "outputs": [],
   "source": [
    "# define all layers\n",
    "input_layer = L.Input((3,))\n",
    "x = L.Dense(10, activation='relu')(input_layer)\n",
    "x = L.Dense(5, activation='relu')(x)\n",
    "x = L.Dense(2, activation='sigmoid')(x)\n",
    "\n",
    "# aggregate into model\n",
    "model = keras.Model(inputs=input_layer, outputs=x)"
   ]
  },
  {
   "cell_type": "markdown",
   "id": "ec0b9d75",
   "metadata": {
    "papermill": {
     "duration": 0.041514,
     "end_time": "2021-08-28T20:13:03.739817",
     "exception": false,
     "start_time": "2021-08-28T20:13:03.698303",
     "status": "completed"
    },
    "tags": []
   },
   "source": [
    "### Build Nonlinear Topologies"
   ]
  },
  {
   "cell_type": "code",
   "execution_count": 12,
   "id": "cfc8f139",
   "metadata": {
    "execution": {
     "iopub.execute_input": "2021-08-28T20:13:03.827545Z",
     "iopub.status.busy": "2021-08-28T20:13:03.826835Z",
     "iopub.status.idle": "2021-08-28T20:13:04.031827Z",
     "shell.execute_reply": "2021-08-28T20:13:04.032346Z",
     "shell.execute_reply.started": "2021-08-28T20:08:27.327724Z"
    },
    "papermill": {
     "duration": 0.250905,
     "end_time": "2021-08-28T20:13:04.032525",
     "exception": false,
     "start_time": "2021-08-28T20:13:03.781620",
     "status": "completed"
    },
    "tags": []
   },
   "outputs": [
    {
     "data": {
      "image/png": "[encoded data removed]",
      "text/plain": [
       "<IPython.core.display.Image object>"
      ]
     },
     "execution_count": 12,
     "metadata": {},
     "output_type": "execute_result"
    }
   ],
   "source": [
    "import keras.layers as L\n",
    "input_layer = L.Input((3,), name='input')\n",
    "\n",
    "b1_l1 = L.Dense(10, name='b1_l1')(input_layer)\n",
    "b1_l2 = L.Dense(10, name='b1_l2')(b1_l1)\n",
    "b1_l3 = L.Dense(10, name='b1_l3')(b1_l2)\n",
    "\n",
    "b2_l1 = L.Dense(3, name='b2_l1')(input_layer)\n",
    "b2_l2 = L.Dense(3, name='b2_l2')(b2_l1)\n",
    "b2_l3 = L.Dense(3, name='b2_l3')(b2_l2)\n",
    "\n",
    "m1_l1 = L.Concatenate(name='m1_l1')([b1_l3, b2_l3])\n",
    "m1_l2 = L.Dense(5, name='m1_l2')(m1_l1)\n",
    "output_layer = L.Dense(2, name='output')(m1_l2)\n",
    "\n",
    "model = keras.Model(inputs=input_layer, outputs=output_layer)\n",
    "\n",
    "plot_model(model, show_shapes=True)"
   ]
  },
  {
   "cell_type": "markdown",
   "id": "e237a22f",
   "metadata": {
    "papermill": {
     "duration": 0.043262,
     "end_time": "2021-08-28T20:13:04.119892",
     "exception": false,
     "start_time": "2021-08-28T20:13:04.076630",
     "status": "completed"
    },
    "tags": []
   },
   "source": [
    "---"
   ]
  },
  {
   "cell_type": "markdown",
   "id": "6ae570a4",
   "metadata": {
    "papermill": {
     "duration": 0.044184,
     "end_time": "2021-08-28T20:13:04.206782",
     "exception": false,
     "start_time": "2021-08-28T20:13:04.162598",
     "status": "completed"
    },
    "tags": []
   },
   "source": [
    "## Dealing with Data"
   ]
  },
  {
   "cell_type": "markdown",
   "id": "203de0dc",
   "metadata": {
    "papermill": {
     "duration": 0.044514,
     "end_time": "2021-08-28T20:13:04.295468",
     "exception": false,
     "start_time": "2021-08-28T20:13:04.250954",
     "status": "completed"
    },
    "tags": []
   },
   "source": [
    "### TensorFlow Dataset from Loaded Data"
   ]
  },
  {
   "cell_type": "markdown",
   "id": "6c365dd0",
   "metadata": {
    "papermill": {
     "duration": 0.042743,
     "end_time": "2021-08-28T20:13:04.383539",
     "exception": false,
     "start_time": "2021-08-28T20:13:04.340796",
     "status": "completed"
    },
    "tags": []
   },
   "source": [
    "Define NumPy arrays."
   ]
  },
  {
   "cell_type": "code",
   "execution_count": 13,
   "id": "b1f91baa",
   "metadata": {
    "execution": {
     "iopub.execute_input": "2021-08-28T20:13:04.474410Z",
     "iopub.status.busy": "2021-08-28T20:13:04.473689Z",
     "iopub.status.idle": "2021-08-28T20:13:04.481350Z",
     "shell.execute_reply": "2021-08-28T20:13:04.481885Z",
     "shell.execute_reply.started": "2021-08-28T20:08:27.526569Z"
    },
    "papermill": {
     "duration": 0.055363,
     "end_time": "2021-08-28T20:13:04.482053",
     "exception": false,
     "start_time": "2021-08-28T20:13:04.426690",
     "status": "completed"
    },
    "tags": []
   },
   "outputs": [],
   "source": [
    "X_train = np.array(data[['A','B','C']])\n",
    "y_train = np.array(data[['Label 1','Label 2']])"
   ]
  },
  {
   "cell_type": "markdown",
   "id": "ad04c17e",
   "metadata": {
    "papermill": {
     "duration": 0.043681,
     "end_time": "2021-08-28T20:13:04.568919",
     "exception": false,
     "start_time": "2021-08-28T20:13:04.525238",
     "status": "completed"
    },
    "tags": []
   },
   "source": [
    "Convert into TensorFlow dataset."
   ]
  },
  {
   "cell_type": "code",
   "execution_count": 14,
   "id": "805ed42f",
   "metadata": {
    "execution": {
     "iopub.execute_input": "2021-08-28T20:13:04.658943Z",
     "iopub.status.busy": "2021-08-28T20:13:04.658227Z",
     "iopub.status.idle": "2021-08-28T20:13:04.670180Z",
     "shell.execute_reply": "2021-08-28T20:13:04.669641Z",
     "shell.execute_reply.started": "2021-08-28T20:08:27.535739Z"
    },
    "papermill": {
     "duration": 0.058434,
     "end_time": "2021-08-28T20:13:04.670350",
     "exception": false,
     "start_time": "2021-08-28T20:13:04.611916",
     "status": "completed"
    },
    "tags": []
   },
   "outputs": [],
   "source": [
    "from tensorflow.data import Dataset as d\n",
    "train_data = d.from_tensor_slices((X_train, y_train))\n",
    "\n",
    "# shuffle\n",
    "train_data = train_data.shuffle(len(X_train))\n",
    "\n",
    "# batch\n",
    "train_data = train_data.batch(2)"
   ]
  },
  {
   "cell_type": "markdown",
   "id": "1a870b08",
   "metadata": {
    "papermill": {
     "duration": 0.044328,
     "end_time": "2021-08-28T20:13:04.758905",
     "exception": false,
     "start_time": "2021-08-28T20:13:04.714577",
     "status": "completed"
    },
    "tags": []
   },
   "source": [
    "### TensorFlow Dataset from Image Files"
   ]
  },
  {
   "cell_type": "markdown",
   "id": "67e7725a",
   "metadata": {
    "papermill": {
     "duration": 0.042091,
     "end_time": "2021-08-28T20:13:04.844895",
     "exception": false,
     "start_time": "2021-08-28T20:13:04.802804",
     "status": "completed"
    },
    "tags": []
   },
   "source": [
    "Select and download image files as prerequisite for demonstration."
   ]
  },
  {
   "cell_type": "code",
   "execution_count": 15,
   "id": "dd320590",
   "metadata": {
    "execution": {
     "iopub.execute_input": "2021-08-28T20:13:04.942161Z",
     "iopub.status.busy": "2021-08-28T20:13:04.941151Z",
     "iopub.status.idle": "2021-08-28T20:13:17.821701Z",
     "shell.execute_reply": "2021-08-28T20:13:17.821045Z",
     "shell.execute_reply.started": "2021-08-28T20:08:27.556556Z"
    },
    "papermill": {
     "duration": 12.93283,
     "end_time": "2021-08-28T20:13:17.821919",
     "exception": false,
     "start_time": "2021-08-28T20:13:04.889089",
     "status": "completed"
    },
    "tags": []
   },
   "outputs": [
    {
     "name": "stdout",
     "output_type": "stream",
     "text": [
      "Downloading data from https://www.cs.toronto.edu/~kriz/cifar-10-python.tar.gz\n",
      "170500096/170498071 [==============================] - 2s 0us/step\n"
     ]
    },
    {
     "data": {
      "application/vnd.jupyter.widget-view+json": {
       "model_id": "e735d648340446aeaf47153972a53513",
       "version_major": 2,
       "version_minor": 0
      },
      "text/plain": [
       "  0%|          | 0/10000 [00:00<?, ?it/s]"
      ]
     },
     "metadata": {},
     "output_type": "display_data"
    }
   ],
   "source": [
    "(x_train, y_train), (x_test, y_test) = keras.datasets.cifar10.load_data()\n",
    "x_train, y_train = x_train[np.where((y_train==1)|(y_train==2))], y_train[np.where((y_train==1)|(y_train==2))]\n",
    "\n",
    "import os\n",
    "os.mkdir('data')\n",
    "os.mkdir('data/class_1')\n",
    "os.mkdir('data/class_2')\n",
    "\n",
    "for ind in tqdm(range(len(x_train))):\n",
    "    if y_train[ind] == 1:\n",
    "        plt.imsave(f'data/class_1/{ind}.png', x_train[ind])\n",
    "    else:\n",
    "        plt.imsave(f'data/class_2/{ind}.png', x_train[ind])"
   ]
  },
  {
   "cell_type": "markdown",
   "id": "1eb8429e",
   "metadata": {
    "papermill": {
     "duration": 0.060385,
     "end_time": "2021-08-28T20:13:17.941441",
     "exception": false,
     "start_time": "2021-08-28T20:13:17.881056",
     "status": "completed"
    },
    "tags": []
   },
   "source": [
    "Create function to parse files."
   ]
  },
  {
   "cell_type": "code",
   "execution_count": 16,
   "id": "af9740ff",
   "metadata": {
    "execution": {
     "iopub.execute_input": "2021-08-28T20:13:18.066098Z",
     "iopub.status.busy": "2021-08-28T20:13:18.065467Z",
     "iopub.status.idle": "2021-08-28T20:13:18.068605Z",
     "shell.execute_reply": "2021-08-28T20:13:18.068047Z",
     "shell.execute_reply.started": "2021-08-28T20:08:41.689888Z"
    },
    "papermill": {
     "duration": 0.069872,
     "end_time": "2021-08-28T20:13:18.068749",
     "exception": false,
     "start_time": "2021-08-28T20:13:17.998877",
     "status": "completed"
    },
    "tags": []
   },
   "outputs": [],
   "source": [
    "def parse_files(filename, label):\n",
    "    raw_image = tf.io.read_file(filename) \n",
    "    image = tf.image.decode_jpeg(raw_image, channels=3) \n",
    "    image = tf.image.convert_image_dtype(image, tf.float32)\n",
    "    image = tf.image.resize(image, [512,512]) \n",
    "    return image, label "
   ]
  },
  {
   "cell_type": "markdown",
   "id": "429afd80",
   "metadata": {
    "papermill": {
     "duration": 0.056938,
     "end_time": "2021-08-28T20:13:18.184652",
     "exception": false,
     "start_time": "2021-08-28T20:13:18.127714",
     "status": "completed"
    },
    "tags": []
   },
   "source": [
    "Create array of directory names and map parsing function."
   ]
  },
  {
   "cell_type": "code",
   "execution_count": 17,
   "id": "3447665c",
   "metadata": {
    "execution": {
     "iopub.execute_input": "2021-08-28T20:13:18.308486Z",
     "iopub.status.busy": "2021-08-28T20:13:18.307799Z",
     "iopub.status.idle": "2021-08-28T20:13:18.342826Z",
     "shell.execute_reply": "2021-08-28T20:13:18.342220Z",
     "shell.execute_reply.started": "2021-08-28T20:08:57.977204Z"
    },
    "papermill": {
     "duration": 0.10078,
     "end_time": "2021-08-28T20:13:18.342980",
     "exception": false,
     "start_time": "2021-08-28T20:13:18.242200",
     "status": "completed"
    },
    "tags": []
   },
   "outputs": [],
   "source": [
    "file_names_1 = np.array(['data/class_1/'+name for name in os.listdir('data/class_1')])\n",
    "labels_1 = np.array([[1] for i in range(len(file_names_1))])\n",
    "file_names_2 = np.array(['data/class_2/'+name for name in os.listdir('data/class_2')])\n",
    "labels_2 = np.array([[2] for i in range(len(file_names_2))])\n",
    "\n",
    "file_names = np.concatenate([file_names_1, file_names_2])\n",
    "labels = np.concatenate([labels_1, labels_2])\n",
    "\n",
    "unparsed_data = d.from_tensor_slices((file_names, labels))"
   ]
  },
  {
   "cell_type": "markdown",
   "id": "fee83797",
   "metadata": {
    "papermill": {
     "duration": 0.060771,
     "end_time": "2021-08-28T20:13:18.464269",
     "exception": false,
     "start_time": "2021-08-28T20:13:18.403498",
     "status": "completed"
    },
    "tags": []
   },
   "source": [
    "Map parsing function to path."
   ]
  },
  {
   "cell_type": "code",
   "execution_count": 18,
   "id": "4e0fc0d9",
   "metadata": {
    "execution": {
     "iopub.execute_input": "2021-08-28T20:13:18.593099Z",
     "iopub.status.busy": "2021-08-28T20:13:18.587265Z",
     "iopub.status.idle": "2021-08-28T20:13:18.726600Z",
     "shell.execute_reply": "2021-08-28T20:13:18.725868Z",
     "shell.execute_reply.started": "2021-08-28T20:09:01.060394Z"
    },
    "papermill": {
     "duration": 0.204091,
     "end_time": "2021-08-28T20:13:18.726749",
     "exception": false,
     "start_time": "2021-08-28T20:13:18.522658",
     "status": "completed"
    },
    "tags": []
   },
   "outputs": [],
   "source": [
    "parsed_data = unparsed_data.map(parse_files)"
   ]
  },
  {
   "cell_type": "markdown",
   "id": "65466c5c",
   "metadata": {
    "papermill": {
     "duration": 0.058199,
     "end_time": "2021-08-28T20:13:18.846878",
     "exception": false,
     "start_time": "2021-08-28T20:13:18.788679",
     "status": "completed"
    },
    "tags": []
   },
   "source": [
    "View `parsed_data` specifics:"
   ]
  },
  {
   "cell_type": "code",
   "execution_count": 19,
   "id": "0d69591d",
   "metadata": {
    "execution": {
     "iopub.execute_input": "2021-08-28T20:13:18.969753Z",
     "iopub.status.busy": "2021-08-28T20:13:18.968801Z",
     "iopub.status.idle": "2021-08-28T20:13:18.973234Z",
     "shell.execute_reply": "2021-08-28T20:13:18.972625Z",
     "shell.execute_reply.started": "2021-08-28T20:09:02.272266Z"
    },
    "papermill": {
     "duration": 0.067579,
     "end_time": "2021-08-28T20:13:18.973387",
     "exception": false,
     "start_time": "2021-08-28T20:13:18.905808",
     "status": "completed"
    },
    "tags": []
   },
   "outputs": [
    {
     "data": {
      "text/plain": [
       "<MapDataset shapes: ((512, 512, 3), (1,)), types: (tf.float32, tf.int64)>"
      ]
     },
     "execution_count": 19,
     "metadata": {},
     "output_type": "execute_result"
    }
   ],
   "source": [
    "parsed_data"
   ]
  },
  {
   "cell_type": "markdown",
   "id": "fe5aaaaf",
   "metadata": {
    "papermill": {
     "duration": 0.057115,
     "end_time": "2021-08-28T20:13:19.090235",
     "exception": false,
     "start_time": "2021-08-28T20:13:19.033120",
     "status": "completed"
    },
    "tags": []
   },
   "source": [
    "### Automatic Image Dataset from Directory"
   ]
  },
  {
   "cell_type": "code",
   "execution_count": 20,
   "id": "69fc8976",
   "metadata": {
    "execution": {
     "iopub.execute_input": "2021-08-28T20:13:19.213550Z",
     "iopub.status.busy": "2021-08-28T20:13:19.212851Z",
     "iopub.status.idle": "2021-08-28T20:13:19.803520Z",
     "shell.execute_reply": "2021-08-28T20:13:19.802930Z",
     "shell.execute_reply.started": "2021-08-28T20:09:03.558656Z"
    },
    "papermill": {
     "duration": 0.654421,
     "end_time": "2021-08-28T20:13:19.803663",
     "exception": false,
     "start_time": "2021-08-28T20:13:19.149242",
     "status": "completed"
    },
    "tags": []
   },
   "outputs": [
    {
     "name": "stdout",
     "output_type": "stream",
     "text": [
      "Found 10000 files belonging to 2 classes.\n"
     ]
    }
   ],
   "source": [
    "from keras.preprocessing import image_dataset_from_directory\n",
    "train_data = image_dataset_from_directory(directory='data',\n",
    "                                          batch_size=32,\n",
    "                                          image_size=(256, 256))"
   ]
  },
  {
   "cell_type": "markdown",
   "id": "585a8784",
   "metadata": {
    "papermill": {
     "duration": 0.058535,
     "end_time": "2021-08-28T20:13:19.925021",
     "exception": false,
     "start_time": "2021-08-28T20:13:19.866486",
     "status": "completed"
    },
    "tags": []
   },
   "source": [
    "---"
   ]
  }
 ],
 "metadata": {
  "kernelspec": {
   "display_name": "Python 3",
   "language": "python",
   "name": "python3"
  },
  "language_info": {
   "codemirror_mode": {
    "name": "ipython",
    "version": 3
   },
   "file_extension": ".py",
   "mimetype": "text/x-python",
   "name": "python",
   "nbconvert_exporter": "python",
   "pygments_lexer": "ipython3",
   "version": "3.7.10"
  },
  "papermill": {
   "default_parameters": {},
   "duration": 38.945705,
   "end_time": "2021-08-28T20:13:22.351423",
   "environment_variables": {},
   "exception": null,
   "input_path": "__notebook__.ipynb",
   "output_path": "__notebook__.ipynb",
   "parameters": {},
   "start_time": "2021-08-28T20:12:43.405718",
   "version": "2.3.3"
  },
  "widgets": {
   "application/vnd.jupyter.widget-state+json": {
    "state": {
     "066b7017e71f49b68d9063d00940085e": {
      "model_module": "@jupyter-widgets/controls",
      "model_module_version": "1.5.0",
      "model_name": "DescriptionStyleModel",
      "state": {
       "_model_module": "@jupyter-widgets/controls",
       "_model_module_version": "1.5.0",
       "_model_name": "DescriptionStyleModel",
       "_view_count": null,
       "_view_module": "@jupyter-widgets/base",
       "_view_module_version": "1.2.0",
       "_view_name": "StyleView",
       "description_width": ""
      }
     },
     "165d8e4bee0b4099933bcca7a3cc3e5a": {
      "model_module": "@jupyter-widgets/controls",
      "model_module_version": "1.5.0",
      "model_name": "ProgressStyleModel",
      "state": {
       "_model_module": "@jupyter-widgets/controls",
       "_model_module_version": "1.5.0",
       "_model_name": "ProgressStyleModel",
       "_view_count": null,
       "_view_module": "@jupyter-widgets/base",
       "_view_module_version": "1.2.0",
       "_view_name": "StyleView",
       "bar_color": null,
       "description_width": ""
      }
     },
     "ad0b54fbc7a24d9685089c0788cc1717": {
      "model_module": "@jupyter-widgets/base",
      "model_module_version": "1.2.0",
      "model_name": "LayoutModel",
      "state": {
       "_model_module": "@jupyter-widgets/base",
       "_model_module_version": "1.2.0",
       "_model_name": "LayoutModel",
       "_view_count": null,
       "_view_module": "@jupyter-widgets/base",
       "_view_module_version": "1.2.0",
       "_view_name": "LayoutView",
       "align_content": null,
       "align_items": null,
       "align_self": null,
       "border": null,
       "bottom": null,
       "display": null,
       "flex": null,
       "flex_flow": null,
       "grid_area": null,
       "grid_auto_columns": null,
       "grid_auto_flow": null,
       "grid_auto_rows": null,
       "grid_column": null,
       "grid_gap": null,
       "grid_row": null,
       "grid_template_areas": null,
       "grid_template_columns": null,
       "grid_template_rows": null,
       "height": null,
       "justify_content": null,
       "justify_items": null,
       "left": null,
       "margin": null,
       "max_height": null,
       "max_width": null,
       "min_height": null,
       "min_width": null,
       "object_fit": null,
       "object_position": null,
       "order": null,
       "overflow": null,
       "overflow_x": null,
       "overflow_y": null,
       "padding": null,
       "right": null,
       "top": null,
       "visibility": null,
       "width": null
      }
     },
     "adc975eaa26945039f4248a92cac7a1c": {
      "model_module": "@jupyter-widgets/controls",
      "model_module_version": "1.5.0",
      "model_name": "HTMLModel",
      "state": {
       "_dom_classes": [],
       "_model_module": "@jupyter-widgets/controls",
       "_model_module_version": "1.5.0",
       "_model_name": "HTMLModel",
       "_view_count": null,
       "_view_module": "@jupyter-widgets/controls",
       "_view_module_version": "1.5.0",
       "_view_name": "HTMLView",
       "description": "",
       "description_tooltip": null,
       "layout": "IPY_MODEL_afe1875c2f4346719226922622685e8a",
       "placeholder": "​",
       "style": "IPY_MODEL_bf337d7f0ec148b1b867fd789687b8a1",
       "value": " 10000/10000 [00:08&lt;00:00, 1244.06it/s]"
      }
     },
     "afe1875c2f4346719226922622685e8a": {
      "model_module": "@jupyter-widgets/base",
      "model_module_version": "1.2.0",
      "model_name": "LayoutModel",
      "state": {
       "_model_module": "@jupyter-widgets/base",
       "_model_module_version": "1.2.0",
       "_model_name": "LayoutModel",
       "_view_count": null,
       "_view_module": "@jupyter-widgets/base",
       "_view_module_version": "1.2.0",
       "_view_name": "LayoutView",
       "align_content": null,
       "align_items": null,
       "align_self": null,
       "border": null,
       "bottom": null,
       "display": null,
       "flex": null,
       "flex_flow": null,
       "grid_area": null,
       "grid_auto_columns": null,
       "grid_auto_flow": null,
       "grid_auto_rows": null,
       "grid_column": null,
       "grid_gap": null,
       "grid_row": null,
       "grid_template_areas": null,
       "grid_template_columns": null,
       "grid_template_rows": null,
       "height": null,
       "justify_content": null,
       "justify_items": null,
       "left": null,
       "margin": null,
       "max_height": null,
       "max_width": null,
       "min_height": null,
       "min_width": null,
       "object_fit": null,
       "object_position": null,
       "order": null,
       "overflow": null,
       "overflow_x": null,
       "overflow_y": null,
       "padding": null,
       "right": null,
       "top": null,
       "visibility": null,
       "width": null
      }
     },
     "b150057b586f4f76a61309d45af1226e": {
      "model_module": "@jupyter-widgets/controls",
      "model_module_version": "1.5.0",
      "model_name": "HTMLModel",
      "state": {
       "_dom_classes": [],
       "_model_module": "@jupyter-widgets/controls",
       "_model_module_version": "1.5.0",
       "_model_name": "HTMLModel",
       "_view_count": null,
       "_view_module": "@jupyter-widgets/controls",
       "_view_module_version": "1.5.0",
       "_view_name": "HTMLView",
       "description": "",
       "description_tooltip": null,
       "layout": "IPY_MODEL_f453f8ff871c4164a4f493a4f6906a2b",
       "placeholder": "​",
       "style": "IPY_MODEL_066b7017e71f49b68d9063d00940085e",
       "value": "100%"
      }
     },
     "b648c85e3ffb458a9b1f39a1ec13e1bd": {
      "model_module": "@jupyter-widgets/base",
      "model_module_version": "1.2.0",
      "model_name": "LayoutModel",
      "state": {
       "_model_module": "@jupyter-widgets/base",
       "_model_module_version": "1.2.0",
       "_model_name": "LayoutModel",
       "_view_count": null,
       "_view_module": "@jupyter-widgets/base",
       "_view_module_version": "1.2.0",
       "_view_name": "LayoutView",
       "align_content": null,
       "align_items": null,
       "align_self": null,
       "border": null,
       "bottom": null,
       "display": null,
       "flex": null,
       "flex_flow": null,
       "grid_area": null,
       "grid_auto_columns": null,
       "grid_auto_flow": null,
       "grid_auto_rows": null,
       "grid_column": null,
       "grid_gap": null,
       "grid_row": null,
       "grid_template_areas": null,
       "grid_template_columns": null,
       "grid_template_rows": null,
       "height": null,
       "justify_content": null,
       "justify_items": null,
       "left": null,
       "margin": null,
       "max_height": null,
       "max_width": null,
       "min_height": null,
       "min_width": null,
       "object_fit": null,
       "object_position": null,
       "order": null,
       "overflow": null,
       "overflow_x": null,
       "overflow_y": null,
       "padding": null,
       "right": null,
       "top": null,
       "visibility": null,
       "width": null
      }
     },
     "bf337d7f0ec148b1b867fd789687b8a1": {
      "model_module": "@jupyter-widgets/controls",
      "model_module_version": "1.5.0",
      "model_name": "DescriptionStyleModel",
      "state": {
       "_model_module": "@jupyter-widgets/controls",
       "_model_module_version": "1.5.0",
       "_model_name": "DescriptionStyleModel",
       "_view_count": null,
       "_view_module": "@jupyter-widgets/base",
       "_view_module_version": "1.2.0",
       "_view_name": "StyleView",
       "description_width": ""
      }
     },
     "e735d648340446aeaf47153972a53513": {
      "model_module": "@jupyter-widgets/controls",
      "model_module_version": "1.5.0",
      "model_name": "HBoxModel",
      "state": {
       "_dom_classes": [],
       "_model_module": "@jupyter-widgets/controls",
       "_model_module_version": "1.5.0",
       "_model_name": "HBoxModel",
       "_view_count": null,
       "_view_module": "@jupyter-widgets/controls",
       "_view_module_version": "1.5.0",
       "_view_name": "HBoxView",
       "box_style": "",
       "children": [
        "IPY_MODEL_b150057b586f4f76a61309d45af1226e",
        "IPY_MODEL_f652628832954741b624f89fc9d50d92",
        "IPY_MODEL_adc975eaa26945039f4248a92cac7a1c"
       ],
       "layout": "IPY_MODEL_b648c85e3ffb458a9b1f39a1ec13e1bd"
      }
     },
     "f453f8ff871c4164a4f493a4f6906a2b": {
      "model_module": "@jupyter-widgets/base",
      "model_module_version": "1.2.0",
      "model_name": "LayoutModel",
      "state": {
       "_model_module": "@jupyter-widgets/base",
       "_model_module_version": "1.2.0",
       "_model_name": "LayoutModel",
       "_view_count": null,
       "_view_module": "@jupyter-widgets/base",
       "_view_module_version": "1.2.0",
       "_view_name": "LayoutView",
       "align_content": null,
       "align_items": null,
       "align_self": null,
       "border": null,
       "bottom": null,
       "display": null,
       "flex": null,
       "flex_flow": null,
       "grid_area": null,
       "grid_auto_columns": null,
       "grid_auto_flow": null,
       "grid_auto_rows": null,
       "grid_column": null,
       "grid_gap": null,
       "grid_row": null,
       "grid_template_areas": null,
       "grid_template_columns": null,
       "grid_template_rows": null,
       "height": null,
       "justify_content": null,
       "justify_items": null,
       "left": null,
       "margin": null,
       "max_height": null,
       "max_width": null,
       "min_height": null,
       "min_width": null,
       "object_fit": null,
       "object_position": null,
       "order": null,
       "overflow": null,
       "overflow_x": null,
       "overflow_y": null,
       "padding": null,
       "right": null,
       "top": null,
       "visibility": null,
       "width": null
      }
     },
     "f652628832954741b624f89fc9d50d92": {
      "model_module": "@jupyter-widgets/controls",
      "model_module_version": "1.5.0",
      "model_name": "FloatProgressModel",
      "state": {
       "_dom_classes": [],
       "_model_module": "@jupyter-widgets/controls",
       "_model_module_version": "1.5.0",
       "_model_name": "FloatProgressModel",
       "_view_count": null,
       "_view_module": "@jupyter-widgets/controls",
       "_view_module_version": "1.5.0",
       "_view_name": "ProgressView",
       "bar_style": "success",
       "description": "",
       "description_tooltip": null,
       "layout": "IPY_MODEL_ad0b54fbc7a24d9685089c0788cc1717",
       "max": 10000.0,
       "min": 0.0,
       "orientation": "horizontal",
       "style": "IPY_MODEL_165d8e4bee0b4099933bcca7a3cc3e5a",
       "value": 10000.0
      }
     }
    },
    "version_major": 2,
    "version_minor": 0
   }
  }
 },
 "nbformat": 4,
 "nbformat_minor": 5
}
